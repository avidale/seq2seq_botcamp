{
 "cells": [
  {
   "cell_type": "markdown",
   "metadata": {},
   "source": [
    "## Seq2Sql\n",
    "\n",
    "Задача перевода запросов на натуральном языке в машинный код аналогична задаче перевода \"последовательность-в-последовательность\" \n",
    "\n",
    "<img src=\"files/lstm.png\">\n"
   ]
  },
  {
   "cell_type": "markdown",
   "metadata": {},
   "source": [
    "## Dataset: SQL!!\n",
    "На самом деле много sql'eй\n",
    "\n",
    "Все они находятся в папке \"Data\""
   ]
  },
  {
   "cell_type": "markdown",
   "metadata": {},
   "source": [
    "**1) Посмотрим, что за данные**"
   ]
  },
  {
   "cell_type": "code",
   "execution_count": 53,
   "metadata": {},
   "outputs": [
    {
     "data": {
      "text/plain": [
       "<sqlite3.Cursor at 0x7f5620913260>"
      ]
     },
     "execution_count": 53,
     "metadata": {},
     "output_type": "execute_result"
    }
   ],
   "source": [
    "CURRENT_PATH = '/home/vika/seq2sql_botcamp/WikiSQL/data/'\n",
    "\n",
    "\n",
    "import sqlite3\n",
    " \n",
    "conn = sqlite3.connect(CURRENT_PATH + \"dev.db\") # или :memory: чтобы сохранить в RAM\n",
    "cursor = conn.cursor()\n",
    "\n",
    "cursor.execute('SELECT col0 FROM table_1_10015132_9 WHERE col3=\"Guard\"')"
   ]
  },
  {
   "cell_type": "code",
   "execution_count": 54,
   "metadata": {},
   "outputs": [
    {
     "name": "stdout",
     "output_type": "stream",
     "text": [
      "[]\n"
     ]
    }
   ],
   "source": [
    "print(cursor.fetchall())"
   ]
  },
  {
   "cell_type": "code",
   "execution_count": 4,
   "metadata": {},
   "outputs": [
    {
     "data": {
      "text/html": [
       "<div>\n",
       "<style scoped>\n",
       "    .dataframe tbody tr th:only-of-type {\n",
       "        vertical-align: middle;\n",
       "    }\n",
       "\n",
       "    .dataframe tbody tr th {\n",
       "        vertical-align: top;\n",
       "    }\n",
       "\n",
       "    .dataframe thead th {\n",
       "        text-align: right;\n",
       "    }\n",
       "</style>\n",
       "<table border=\"1\" class=\"dataframe\">\n",
       "  <thead>\n",
       "    <tr style=\"text-align: right;\">\n",
       "      <th></th>\n",
       "      <th>Unnamed: 0</th>\n",
       "      <th>question</th>\n",
       "      <th>query</th>\n",
       "      <th>db</th>\n",
       "    </tr>\n",
       "  </thead>\n",
       "  <tbody>\n",
       "    <tr>\n",
       "      <th>0</th>\n",
       "      <td>0</td>\n",
       "      <td>What are the description and credit of the cou...</td>\n",
       "      <td>SELECT T4.crs_description ,  T4.crs_credit FRO...</td>\n",
       "      <td>college_1</td>\n",
       "    </tr>\n",
       "    <tr>\n",
       "      <th>1</th>\n",
       "      <td>1</td>\n",
       "      <td>What is highest rating for the most recent mov...</td>\n",
       "      <td>SELECT max(T1.stars) ,  T2.year FROM Rating AS...</td>\n",
       "      <td>movie_1</td>\n",
       "    </tr>\n",
       "    <tr>\n",
       "      <th>2</th>\n",
       "      <td>2</td>\n",
       "      <td>What is the average latitude and longitude of ...</td>\n",
       "      <td>SELECT avg(lat) ,  avg(long) FROM station WHER...</td>\n",
       "      <td>bike_1</td>\n",
       "    </tr>\n",
       "    <tr>\n",
       "      <th>3</th>\n",
       "      <td>3</td>\n",
       "      <td>What are the names of the airports in the city...</td>\n",
       "      <td>SELECT name FROM airports WHERE city  =  'Goroka'</td>\n",
       "      <td>flight_4</td>\n",
       "    </tr>\n",
       "    <tr>\n",
       "      <th>4</th>\n",
       "      <td>4</td>\n",
       "      <td>Who are the friends of Alice that are doctors?</td>\n",
       "      <td>SELECT T2.friend FROM Person AS T1 JOIN Person...</td>\n",
       "      <td>network_2</td>\n",
       "    </tr>\n",
       "  </tbody>\n",
       "</table>\n",
       "</div>"
      ],
      "text/plain": [
       "   Unnamed: 0                                           question  \\\n",
       "0           0  What are the description and credit of the cou...   \n",
       "1           1  What is highest rating for the most recent mov...   \n",
       "2           2  What is the average latitude and longitude of ...   \n",
       "3           3  What are the names of the airports in the city...   \n",
       "4           4     Who are the friends of Alice that are doctors?   \n",
       "\n",
       "                                               query         db  \n",
       "0  SELECT T4.crs_description ,  T4.crs_credit FRO...  college_1  \n",
       "1  SELECT max(T1.stars) ,  T2.year FROM Rating AS...    movie_1  \n",
       "2  SELECT avg(lat) ,  avg(long) FROM station WHER...     bike_1  \n",
       "3  SELECT name FROM airports WHERE city  =  'Goroka'   flight_4  \n",
       "4  SELECT T2.friend FROM Person AS T1 JOIN Person...  network_2  "
      ]
     },
     "execution_count": 4,
     "metadata": {},
     "output_type": "execute_result"
    }
   ],
   "source": [
    "df.head()"
   ]
  },
  {
   "cell_type": "markdown",
   "metadata": {},
   "source": [
    "**2) Попробуем выполнить запрос.**\n",
    "\n",
    "Третья колонка - это индекс базы данных\n",
    "\n",
    "Напоминаю, что базы данных лежат в папке  database, для локальных бд используется пакет sqlite3\n",
    "\n",
    "Если ваши бд лежет где-то в сети, можно использовать следующий код:\n",
    "    \n",
    "*import _mysql*\n",
    "\n",
    "*db=_mysql.connect(\"localhost\",\"user\", \"pass\", \"base\")*\n",
    "\n",
    "*db.query(r\"SELECT field1, field2 FROM table1 WHERE field1 < 5\")*"
   ]
  },
  {
   "cell_type": "code",
   "execution_count": 264,
   "metadata": {},
   "outputs": [
    {
     "data": {
      "text/plain": [
       "3701"
      ]
     },
     "execution_count": 264,
     "metadata": {},
     "output_type": "execute_result"
    }
   ],
   "source": [
    "len(df['db'])"
   ]
  },
  {
   "cell_type": "code",
   "execution_count": 20,
   "metadata": {},
   "outputs": [
    {
     "name": "stdout",
     "output_type": "stream",
     "text": [
      "Return the average total amount purchased and total value purchased for the supplier who supplies the greatest number of products. department_store\n"
     ]
    }
   ],
   "source": [
    "print (df['question'].values[23], df['db'].values[23])"
   ]
  },
  {
   "cell_type": "code",
   "execution_count": 18,
   "metadata": {},
   "outputs": [
    {
     "name": "stdout",
     "output_type": "stream",
     "text": [
      "[(27702.7975, 33126.1)]\n"
     ]
    }
   ],
   "source": [
    "print(cursor.fetchall())"
   ]
  },
  {
   "cell_type": "code",
   "execution_count": 214,
   "metadata": {},
   "outputs": [
    {
     "data": {
      "text/plain": [
       "<sqlite3.Cursor at 0x7f43bef149d0>"
      ]
     },
     "execution_count": 214,
     "metadata": {},
     "output_type": "execute_result"
    }
   ],
   "source": [
    "import sqlite3\n",
    " \n",
    "conn = sqlite3.connect(CURRENT_PATH + \"database/movie_1/movie_1.sqlite\") # или :memory: чтобы сохранить в RAM\n",
    "cursor = conn.cursor()\n",
    "\n",
    "# Создание таблицы\n",
    "cursor.execute(\"\"\"SELECT max ( T1 . stars ) , T2 . year FROM Rating AS T1 JOIN Movie AS T2 ON T1 . mID = T2 . mID WHERE T2 . year = ( SELECT max ( YEAR ) FROM Movie )\"\"\")"
   ]
  },
  {
   "cell_type": "code",
   "execution_count": 248,
   "metadata": {},
   "outputs": [
    {
     "data": {
      "text/plain": [
       "<sqlite3.Cursor at 0x7f4215e69180>"
      ]
     },
     "execution_count": 248,
     "metadata": {},
     "output_type": "execute_result"
    }
   ],
   "source": [
    "import sqlite3\n",
    " \n",
    "conn = sqlite3.connect(CURRENT_PATH + \"database/college_1/college_1.sqlite\") # или :memory: чтобы сохранить в RAM\n",
    "cursor = conn.cursor()\n",
    "\n",
    "# Создание таблицы\n",
    "cursor.execute(\"\"\"select T4.crs_description, T4 . crs_credit FROM CLASS AS T1 JOIN enroll AS T2 ON T1.class_code = T2.class_code JOIN student AS T3 ON T3.stu_num = T2.stu_num JOIN course AS T4 ON T4.crs_code = T1.crs_code WHERE T3.stu_lname = 'Smithson' \"\"\")"
   ]
  },
  {
   "cell_type": "code",
   "execution_count": 249,
   "metadata": {},
   "outputs": [
    {
     "name": "stdout",
     "output_type": "stream",
     "text": [
      "[('Accounting I', 3.0), ('Intro. to Microcomputing', 3.0), ('Intro. to Statistics', 3.0)]\n"
     ]
    }
   ],
   "source": [
    "print(cursor.fetchall())"
   ]
  },
  {
   "cell_type": "code",
   "execution_count": null,
   "metadata": {},
   "outputs": [],
   "source": [
    "SELECT avg ( lat ) , avg ( long ) FROM station WHERE city = \" San Jose \""
   ]
  },
  {
   "cell_type": "markdown",
   "metadata": {},
   "source": [
    "*Переведем sql.csv to train, test.txt*"
   ]
  },
  {
   "cell_type": "code",
   "execution_count": 28,
   "metadata": {},
   "outputs": [
    {
     "data": {
      "text/plain": [
       "3701"
      ]
     },
     "execution_count": 28,
     "metadata": {},
     "output_type": "execute_result"
    }
   ],
   "source": [
    "len(df)"
   ]
  },
  {
   "cell_type": "code",
   "execution_count": 130,
   "metadata": {},
   "outputs": [],
   "source": [
    "with open('data/train.txt', 'wb') as the_file:\n",
    "    for ind, qwest in enumerate(df['question'].values[1:3000]):\n",
    "        the_file.write(qwest.replace('   ', ' ').replace('  ', ' ').encode('utf-8'))\n",
    "        the_file.write('\\t'.encode('utf-8'))\n",
    "        the_file.write(df['query'].replace('   ', ' ').replace('  ', ' ').values[ind].encode('utf-8'))\n",
    "        the_file.write('\\t'.encode('utf-8'))\n",
    "        the_file.write(df['db'].replace('   ', ' ').replace('  ', ' ').values[ind].encode('utf-8'))\n",
    "        the_file.write('\\n'.encode('utf-8'))"
   ]
  },
  {
   "cell_type": "code",
   "execution_count": 126,
   "metadata": {},
   "outputs": [
    {
     "name": "stdout",
     "output_type": "stream",
     "text": [
      "/home/vika/seq2sql_botcamp\n"
     ]
    }
   ],
   "source": [
    "!pwd"
   ]
  },
  {
   "cell_type": "code",
   "execution_count": 133,
   "metadata": {},
   "outputs": [],
   "source": [
    "with open('data/test.txt', 'wb') as the_file:\n",
    "    for ind, qwest in enumerate(df['question'].values[3000:]):\n",
    "        the_file.write(qwest.replace('  ', ' ').replace('  ', ' ').encode('utf-8'))\n",
    "        the_file.write('\\t'.encode('utf-8'))\n",
    "        the_file.write(df['query'].replace('   ', ' ').replace('  ', ' ').values[ind].encode('utf-8'))\n",
    "        the_file.write('\\t'.encode('utf-8'))\n",
    "        the_file.write(df['db'].replace('   ', ' ').replace('  ', ' ').values[ind].encode('utf-8'))\n",
    "        the_file.write('\\n'.encode('utf-8'))"
   ]
  },
  {
   "cell_type": "markdown",
   "metadata": {},
   "source": [
    "### Словари\n"
   ]
  },
  {
   "cell_type": "markdown",
   "metadata": {},
   "source": [
    "* Обычно: модель работает со словарями слов, которые возможно встретить во входных и выходных последовательностях.\n",
    "* Cловарь каждому слову присваивает номер, по номеру слова словарь дает слово. Т.е класс \"словарь\" содержит стурктуры word2index, index2word. Например, в util_tf.py класс Vocab\n",
    "* на вход модели дается не набор слов, в набор номеров слов в словаре. \n",
    "\n",
    "## BPE!\n",
    "**Byte Pair Encoding.**\n",
    "\n",
    "Токенезирует на уровне символов (т.е. побуквенно), заменяет часто встречающиеся символы одним токеном. Затем вместо словаря слов появляется словарь токенов."
   ]
  },
  {
   "cell_type": "code",
   "execution_count": 178,
   "metadata": {},
   "outputs": [],
   "source": [
    "import numpy as np\n",
    "import matplotlib.pyplot as plt\n",
    "%matplotlib inline\n",
    "from nltk.tokenize import WordPunctTokenizer\n",
    "from subword_nmt.learn_bpe import learn_bpe\n",
    "from subword_nmt.apply_bpe import BPE\n",
    "tokenizer = WordPunctTokenizer()\n",
    "\n",
    "def tokenize(x):\n",
    "    return ' '.join(tokenizer.tokenize(x))\n",
    "\n",
    "def preprocess(dataset_type, datadir, source_voc_type, dist_voc_type): #создает bpe-словарики из слов в словарях sourcevoc(это все возможные слова, \n",
    "    # которые могут встретиться в вопросах на натуральном языке по этой базе данных), targetvoc(символы математического языка запроса)\n",
    "    with open(\"{}.{}\".format(dataset_type,source_voc_type), 'wb') as f_src,  open(\"{}.{}\".format(dataset_type, dist_voc_type), 'wb') as f_dst:\n",
    "        with open('{}.txt'.format(dataset_type), encoding='utf-8') as f and open('{}_db.txt'.format(dataset_type), encoding='utf-8') as f1:\n",
    "            my_list = f.readlines()\n",
    "            for line in my_list:\n",
    "                try:\n",
    "                    src_line, dst_line, db_type = line.strip().split('\\t')\n",
    "                    f_src.write((tokenize(src_line) + '\\n').encode('utf-8'))\n",
    "                    f_dst.write((tokenize(dst_line) + '\\n').encode('utf-8'))\n",
    "                except Exception as e:\n",
    "                    print (line)\n",
    "                    print (line.strip().split('\\t', 4))\n",
    "                    print (len(line.strip().split('\\t')))\n",
    "                    \n",
    "        \n",
    "    bpe = {}\n",
    "    for v_type in [source_voc_type, dist_voc_type]:\n",
    "        a = open('./{}.'.format(dataset_type) + v_type)\n",
    "        b = open('bpe_rules.' + v_type, 'w')\n",
    "        print(a)\n",
    "        learn_bpe(open('./{}.'.format(dataset_type) + v_type), open('bpe_rules.' + v_type, 'w'), num_symbols=8000)\n",
    "        bpe[v_type] = BPE(open('./bpe_rules.' + v_type))\n",
    "        with open('{}.bpe.'.format(dataset_type) + v_type, 'w') as f_out:\n",
    "            for line in open('{}.'.format(dataset_type) + v_type):\n",
    "                f_out.write(bpe[v_type].process_line(line.strip()) + '\\n')"
   ]
  },
  {
   "cell_type": "code",
   "execution_count": 261,
   "metadata": {},
   "outputs": [
    {
     "data": {
      "text/plain": [
       "'s@@ e@@ le@@ c@@ t t@@ 1 . m@@ ar@@ k@@ e@@ t@@ i@@ n@@ g@@ _@@ r@@ e@@ g@@ i@@ o@@ n@@ @@@ @ '"
      ]
     },
     "execution_count": 261,
     "metadata": {},
     "output_type": "execute_result"
    }
   ],
   "source": [
    "bpe_qu = BPE(open('./bpe_rules.qu'))\n",
    "bpe_qu.process_line('select t1 . marketing_region@@ ')"
   ]
  },
  {
   "cell_type": "code",
   "execution_count": 260,
   "metadata": {},
   "outputs": [],
   "source": [
    "bpe_qu.vocab"
   ]
  },
  {
   "cell_type": "code",
   "execution_count": 148,
   "metadata": {},
   "outputs": [
    {
     "ename": "FileNotFoundError",
     "evalue": "[Errno 2] No such file or directory: 'train.txt'",
     "output_type": "error",
     "traceback": [
      "\u001b[0;31m---------------------------------------------------------------------------\u001b[0m",
      "\u001b[0;31mFileNotFoundError\u001b[0m                         Traceback (most recent call last)",
      "\u001b[0;32m<ipython-input-148-2dc18b017fe6>\u001b[0m in \u001b[0;36m<module>\u001b[0;34m\u001b[0m\n\u001b[0;32m----> 1\u001b[0;31m \u001b[0mpreprocess\u001b[0m\u001b[0;34m(\u001b[0m\u001b[0;34m'train'\u001b[0m\u001b[0;34m,\u001b[0m \u001b[0;34m'data'\u001b[0m\u001b[0;34m,\u001b[0m \u001b[0;34m'qw'\u001b[0m\u001b[0;34m,\u001b[0m \u001b[0;34m'qu'\u001b[0m\u001b[0;34m)\u001b[0m\u001b[0;34m\u001b[0m\u001b[0m\n\u001b[0m",
      "\u001b[0;32m<ipython-input-146-68c3fd771a02>\u001b[0m in \u001b[0;36mpreprocess\u001b[0;34m(dataset_type, datadir, source_voc_type, dist_voc_type)\u001b[0m\n\u001b[1;32m     13\u001b[0m     \u001b[0;31m# которые могут встретиться в вопросах на натуральном языке по этой базе данных), targetvoc(символы математического языка запроса)\u001b[0m\u001b[0;34m\u001b[0m\u001b[0;34m\u001b[0m\u001b[0m\n\u001b[1;32m     14\u001b[0m     \u001b[0;32mwith\u001b[0m \u001b[0mopen\u001b[0m\u001b[0;34m(\u001b[0m\u001b[0;34m\"{}.{}\"\u001b[0m\u001b[0;34m.\u001b[0m\u001b[0mformat\u001b[0m\u001b[0;34m(\u001b[0m\u001b[0mdataset_type\u001b[0m\u001b[0;34m,\u001b[0m\u001b[0msource_voc_type\u001b[0m\u001b[0;34m)\u001b[0m\u001b[0;34m,\u001b[0m \u001b[0;34m'wb'\u001b[0m\u001b[0;34m)\u001b[0m \u001b[0;32mas\u001b[0m \u001b[0mf_src\u001b[0m\u001b[0;34m,\u001b[0m  \u001b[0mopen\u001b[0m\u001b[0;34m(\u001b[0m\u001b[0;34m\"{}.{}\"\u001b[0m\u001b[0;34m.\u001b[0m\u001b[0mformat\u001b[0m\u001b[0;34m(\u001b[0m\u001b[0mdataset_type\u001b[0m\u001b[0;34m,\u001b[0m \u001b[0mdist_voc_type\u001b[0m\u001b[0;34m)\u001b[0m\u001b[0;34m,\u001b[0m \u001b[0;34m'wb'\u001b[0m\u001b[0;34m)\u001b[0m \u001b[0;32mas\u001b[0m \u001b[0mf_dst\u001b[0m\u001b[0;34m:\u001b[0m\u001b[0;34m\u001b[0m\u001b[0m\n\u001b[0;32m---> 15\u001b[0;31m         \u001b[0;32mwith\u001b[0m \u001b[0mopen\u001b[0m\u001b[0;34m(\u001b[0m\u001b[0;34m'{}.txt'\u001b[0m\u001b[0;34m.\u001b[0m\u001b[0mformat\u001b[0m\u001b[0;34m(\u001b[0m\u001b[0mdataset_type\u001b[0m\u001b[0;34m)\u001b[0m\u001b[0;34m,\u001b[0m \u001b[0mencoding\u001b[0m\u001b[0;34m=\u001b[0m\u001b[0;34m'utf-8'\u001b[0m\u001b[0;34m)\u001b[0m \u001b[0;32mas\u001b[0m \u001b[0mf\u001b[0m\u001b[0;34m:\u001b[0m\u001b[0;34m\u001b[0m\u001b[0m\n\u001b[0m\u001b[1;32m     16\u001b[0m             \u001b[0mmy_list\u001b[0m \u001b[0;34m=\u001b[0m \u001b[0mf\u001b[0m\u001b[0;34m.\u001b[0m\u001b[0mreadlines\u001b[0m\u001b[0;34m(\u001b[0m\u001b[0;34m)\u001b[0m\u001b[0;34m\u001b[0m\u001b[0m\n\u001b[1;32m     17\u001b[0m             \u001b[0;32mfor\u001b[0m \u001b[0mline\u001b[0m \u001b[0;32min\u001b[0m \u001b[0mmy_list\u001b[0m\u001b[0;34m:\u001b[0m\u001b[0;34m\u001b[0m\u001b[0m\n",
      "\u001b[0;31mFileNotFoundError\u001b[0m: [Errno 2] No such file or directory: 'train.txt'"
     ]
    }
   ],
   "source": [
    "preprocess('train', 'data', 'qw', 'qu')"
   ]
  },
  {
   "cell_type": "code",
   "execution_count": 143,
   "metadata": {},
   "outputs": [
    {
     "ename": "NameError",
     "evalue": "name 'a' is not defined",
     "output_type": "error",
     "traceback": [
      "\u001b[0;31m---------------------------------------------------------------------------\u001b[0m",
      "\u001b[0;31mNameError\u001b[0m                                 Traceback (most recent call last)",
      "\u001b[0;32m<ipython-input-143-3f786850e387>\u001b[0m in \u001b[0;36m<module>\u001b[0;34m\u001b[0m\n\u001b[0;32m----> 1\u001b[0;31m \u001b[0ma\u001b[0m\u001b[0;34m\u001b[0m\u001b[0m\n\u001b[0m",
      "\u001b[0;31mNameError\u001b[0m: name 'a' is not defined"
     ]
    }
   ],
   "source": [
    "a"
   ]
  },
  {
   "cell_type": "code",
   "execution_count": 141,
   "metadata": {},
   "outputs": [],
   "source": [
    "!export LC_ALL=en_US.UTF-8\n",
    "\n"
   ]
  },
  {
   "cell_type": "code",
   "execution_count": 5,
   "metadata": {},
   "outputs": [
    {
     "name": "stderr",
     "output_type": "stream",
     "text": [
      "no pair has frequency >= 2. Stopping\n",
      "no pair has frequency >= 2. Stopping\n"
     ]
    }
   ],
   "source": [
    "preprocess('test', 'data', 'qw', 'qu')"
   ]
  },
  {
   "cell_type": "markdown",
   "metadata": {},
   "source": [
    "**определим train и test и посмотрим на данные**"
   ]
  },
  {
   "cell_type": "code",
   "execution_count": 229,
   "metadata": {},
   "outputs": [
    {
     "name": "stdout",
     "output_type": "stream",
     "text": [
      "inp: what is highest rating for the most recent movie and when was it released ?\n",
      "out: select max ( t1 . stars ) , t2 . year from rating as t1 join movie as t2 on t1 . mid = t2 . mid where t2 . year = ( select max ( year ) from movie )\n",
      "db: movie_1\n",
      "\n",
      "inp: what is the average latitude and longitude of stations located in san jose city ?\n",
      "out: select avg ( lat ) , avg ( long ) from station where city = \"sanjose\"\n",
      "db: bike_1\n",
      "\n",
      "inp: what are the names of the airports in the city of goroka ?\n",
      "out: select name from airports where city = 'goroka'\n",
      "db: flight_4\n",
      "\n"
     ]
    }
   ],
   "source": [
    "train_inp = np.array(open('./train.bpe.qw', encoding = 'utf-8').read().split('\\n'))\n",
    "train_out = np.array(open('./train.bpe.qu').read().split('\\n'))\n",
    "test_inp = np.array(open('./test.bpe.qw').read().split('\\n'))\n",
    "test_out = np.array(open('./test.bpe.qu').read().split('\\n'))\n",
    "test_db = np.array(open('./test_db.txt').read().split('\\n'))\n",
    "train_db = np.array(open('./train_db.txt').read().split('\\n'))\n",
    "\n",
    "import re\n",
    "\n",
    "for i in range(3):\n",
    "    print('inp:', train_inp[i])\n",
    "    res = re.sub(r'\\\".*?\\\"', lambda x: ''.join(x.group(0).split()), train_out[i])\n",
    "    res = re.sub(r'\\'.*?\\'', lambda x: ''.join(x.group(0).split()), res)\n",
    "    print('out:', res)\n",
    "    print('db:',train_db[i], end='\\n\\n')"
   ]
  },
  {
   "cell_type": "code",
   "execution_count": 230,
   "metadata": {
    "collapsed": true
   },
   "outputs": [],
   "source": [
    "from util_tf import Vocab\n",
    "inp_voc = Vocab.from_lines(train_inp)\n",
    "out_voc = Vocab.from_lines(train_out)"
   ]
  },
  {
   "cell_type": "markdown",
   "metadata": {},
   "source": [
    "**to_matrix, to_line**\n",
    "* у класса vocab есть функция to_matrix, которая из батча вопросов на естественном языке генерит батч чисел, где число - индекс соответсвующего слова в словаре.\n",
    "\n",
    "* И функция to_lines, которая батч чисел переводит обратно\n",
    "\n",
    "* Важно! модель предсказывает батч чисел"
   ]
  },
  {
   "cell_type": "code",
   "execution_count": 231,
   "metadata": {},
   "outputs": [
    {
     "name": "stdout",
     "output_type": "stream",
     "text": [
      "lines\n",
      "['show all allergy types .', 'what are all the labels ?', 'how many students exist ?', 'how many staff in total ?', 'how many vehicles exist ?']\n",
      "\n",
      "words to ids (0 = bos, 1 = eos):\n",
      "[[   0 1563  242  247 1774   21    1    1]\n",
      " [   0 1842  296  242 1708 1034  175    1]\n",
      " [   0  925 1123 1650  741  175    1    1]\n",
      " [   0  925 1123 1611  947 1739  175    1]\n",
      " [   0  925 1123 1810  741  175    1    1]]\n",
      "\n",
      "back to words\n",
      "['show all allergy types .', 'what are all the labels ?', 'how many students exist ?', 'how many staff in total ?', 'how many vehicles exist ?']\n"
     ]
    }
   ],
   "source": [
    "batch_lines = sorted(train_inp, key=len)[5:10]\n",
    "batch_ids = inp_voc.to_matrix(batch_lines)\n",
    "batch_lines_restored = inp_voc.to_lines(batch_ids)\n",
    "\n",
    "print(\"lines\")\n",
    "print(batch_lines)\n",
    "print(\"\\nwords to ids (0 = bos, 1 = eos):\")\n",
    "print(batch_ids)\n",
    "print(\"\\nback to words\")\n",
    "print(batch_lines_restored)"
   ]
  },
  {
   "cell_type": "markdown",
   "metadata": {},
   "source": [
    "### Модель\n"
   ]
  },
  {
   "cell_type": "code",
   "execution_count": 232,
   "metadata": {},
   "outputs": [],
   "source": [
    "import tensorflow as tf\n",
    "import keras.layers as L\n",
    "from util_tf import infer_length, infer_mask"
   ]
  },
  {
   "cell_type": "code",
   "execution_count": 233,
   "metadata": {
    "collapsed": true
   },
   "outputs": [],
   "source": [
    "class BasicModel:\n",
    "    def __init__(self, name, inp_voc, out_voc, emb_size=64, hid_size=128):\n",
    "        \n",
    "        self.name, self.inp_voc, self.out_voc = name, inp_voc, out_voc\n",
    "\n",
    "        with tf.variable_scope(name):\n",
    "            self.emb_inp = L.Embedding(len(inp_voc), emb_size)\n",
    "            self.emb_out = L.Embedding(len(out_voc), emb_size)\n",
    "            self.enc0 = tf.nn.rnn_cell.GRUCell(hid_size)\n",
    "\n",
    "            self.dec_start = L.Dense(hid_size)\n",
    "            self.dec0 = tf.nn.rnn_cell.GRUCell(hid_size)\n",
    "            self.logits = L.Dense(len(out_voc))\n",
    "\n",
    "            # prepare to translate_lines\n",
    "            self.inp = tf.placeholder('int32', [None, None])\n",
    "            self.initial_state = self.prev_state = self.encode(self.inp)\n",
    "            self.prev_tokens = tf.placeholder('int32', [None])\n",
    "            self.next_state, self.next_logits = self.decode(self.prev_state, self.prev_tokens)\n",
    "        \n",
    "        self.weights = tf.get_collection(tf.GraphKeys.TRAINABLE_VARIABLES, scope=name)\n",
    "\n",
    "    def encode(self, inp, **flags):\n",
    "        \"\"\"\n",
    "        Получает на вход батч, прогоняет его через emb_layer (теперь каждому числу-слову соответсвует вектор)\n",
    "        возвращает начальное состояние для rnn-ки декодера\n",
    "        \"\"\"\n",
    "        inp_lengths = infer_length(inp, self.inp_voc.eos_ix)\n",
    "        inp_emb = self.emb_inp(inp)\n",
    "        with tf.variable_scope('enc0'):\n",
    "            _, enc_last = tf.nn.dynamic_rnn(\n",
    "                              self.enc0, inp_emb,\n",
    "                              sequence_length=inp_lengths,\n",
    "                              dtype = inp_emb.dtype)\n",
    "        dec_start = self.dec_start(enc_last)\n",
    "        print (\"dec_start.shape\", dec_start.shape)\n",
    "        return [dec_start]\n",
    "\n",
    "    def decode(self, prev_state, prev_tokens, **flags):\n",
    "        \"\"\"\n",
    "        берет предыдущее состояние, возвращает вероятности для всех символов выходного словаря и состояние для следующей ячейки\n",
    "        \"\"\"\n",
    "        [prev_dec] = prev_state\n",
    "        prev_emb = self.emb_out(prev_tokens[:,None])[:,0]\n",
    "        with tf.variable_scope('dec0'):\n",
    "            new_dec_out, new_dec_state = self.dec0(prev_emb, prev_dec)\n",
    "        output_logits = self.logits(new_dec_out)\n",
    "        return [new_dec_state], output_logits\n",
    "\n",
    "    def translate_lines(self, inp_lines, max_len=100):\n",
    "        state = sess.run(self.initial_state, {self.inp: inp_voc.to_matrix(inp_lines)})\n",
    "        outputs = [[self.out_voc.bos_ix] for _ in range(len(inp_lines))]\n",
    "        all_states = [state]\n",
    "        finished = [False] * len(inp_lines)\n",
    "\n",
    "        for t in range(max_len):\n",
    "            state, logits = sess.run([self.next_state, self.next_logits], {**dict(zip(self.prev_state, state)),\n",
    "                                           self.prev_tokens: [out_i[-1] for out_i in outputs]})\n",
    "            next_tokens = np.argmax(logits, axis=-1)\n",
    "            all_states.append(state)\n",
    "            for i in range(len(next_tokens)):\n",
    "                outputs[i].append(next_tokens[i])\n",
    "                finished[i] |= next_tokens[i] == self.out_voc.eos_ix\n",
    "        return out_voc.to_lines(outputs), all_states"
   ]
  },
  {
   "cell_type": "code",
   "execution_count": 234,
   "metadata": {
    "collapsed": true
   },
   "outputs": [
    {
     "name": "stderr",
     "output_type": "stream",
     "text": [
      "/opt/anaconda/lib/python3.6/site-packages/tensorflow/python/client/session.py:1662: UserWarning: An interactive session is already active. This can cause out-of-memory errors in some cases. You must explicitly call `InteractiveSession.close()` to release resources held by the other session(s).\n",
      "  warnings.warn('An interactive session is already active. This can '\n"
     ]
    },
    {
     "name": "stdout",
     "output_type": "stream",
     "text": [
      "dec_start.shape (?, 128)\n"
     ]
    }
   ],
   "source": [
    "tf.reset_default_graph()\n",
    "sess = tf.InteractiveSession()\n",
    "\n",
    "model = BasicModel('model', inp_voc, out_voc)\n",
    "sess.run(tf.global_variables_initializer())"
   ]
  },
  {
   "cell_type": "markdown",
   "metadata": {},
   "source": [
    "### Loss \n",
    "\n",
    "$$ L = {\\frac1{|D|}} \\sum_{X, Y \\in D} \\sum_{y_t \\in Y} - \\log p(y_t \\mid y_1, \\dots, y_{t-1}, X, \\theta) $$\n"
   ]
  },
  {
   "cell_type": "code",
   "execution_count": 235,
   "metadata": {
    "collapsed": true
   },
   "outputs": [],
   "source": [
    "def compute_logits(model, inp, out, **flags):\n",
    "   \n",
    "    batch_size = tf.shape(inp)[0]\n",
    "    \n",
    "    first_state = model.encode(inp)\n",
    "    \n",
    "    first_logits = tf.log(tf.one_hot(tf.fill([batch_size], model.out_voc.bos_ix),\n",
    "                                     len(model.out_voc)) + 1e-30)\n",
    "    \n",
    "    def step(prev_tupl, y_prev):\n",
    "        prev_state, logits = prev_tupl\n",
    "        next_state, logits = model.decode(prev_state, y_prev)\n",
    "        \n",
    "        return [next_state, logits]\n",
    "    \n",
    "    h_seq, logits_seq = tf.scan(step, elems=tf.transpose(out)[:-1], initializer=[first_state, first_logits])\n",
    "    \n",
    "    logits_seq = tf.concat([first_logits[None], logits_seq], axis = 0)\n",
    "    #print (\"inp shape\", inp.shape)\n",
    "    #print (\"logits_seq.shape\", logits_seq.shape)\n",
    "    # Make sure you convert logits_seq from [time, batch, voc_size] to [batch, time, voc_size]\n",
    "    logits_seq = tf.transpose(logits_seq, (1, 0, 2))\n",
    "    \n",
    "    #print (\"logits_seq.shape\", logits_seq.shape)\n",
    "    \n",
    "    return logits_seq"
   ]
  },
  {
   "cell_type": "code",
   "execution_count": 236,
   "metadata": {
    "collapsed": true,
    "scrolled": true
   },
   "outputs": [],
   "source": [
    "from util_tf import select_values_over_last_axis\n",
    "\n",
    "def compute_loss(model, inp, out, **flags):\n",
    "    mask = infer_mask(out, out_voc.eos_ix)    \n",
    "    logits_seq = compute_logits(model, inp, out, **flags)\n",
    "    #print (\"logits_seq.shape\", logits_seq.shape)\n",
    "    soft_max = tf.nn.log_softmax(logits_seq, -1)\n",
    "    #print (\"soft max shape\", soft_max.shape)\n",
    "    #print (\"out shape\", out.shape)\n",
    "    #print (\"out\", sess.run(out[2]))\n",
    "    symbols = select_values_over_last_axis(soft_max, out)\n",
    "    #print (\"symbols.shape\", symbols.shape)\n",
    "    symbols = symbols*mask\n",
    "    \n",
    "    return -tf.reduce_sum(symbols)/tf.reduce_sum(mask)"
   ]
  },
  {
   "cell_type": "code",
   "execution_count": 254,
   "metadata": {},
   "outputs": [
    {
     "data": {
      "text/plain": [
       "array(['what is highest rating for the most recent movie and when was it released ?',\n",
       "       'what is the average latitude and longitude of stations located in san jose city ?',\n",
       "       'what are the names of the airports in the city of goroka ?',\n",
       "       'who are the friends of alice that are doc@@ tors ?',\n",
       "       'what are the appelations for wines produced after 2008 but not in the central coast area ?',\n",
       "       'show the average price range of hotels that have 5 star ratings and al@@ low pe@@ ts .',\n",
       "       'find the number of female students ( with f sex ) living in smith hall',\n",
       "       'what are the staff ids and genders of all staffs whose job title is department manager ?',\n",
       "       'what are the names of all the video games and their types in alphabetical order ?',\n",
       "       'what are the number of rooms for each bed type ?',\n",
       "       'what are the top three apartment types in terms of the average room count ? give me the',\n",
       "       'what is the average account balance of customers with credit score below 50 for the different account types ?',\n",
       "       'what is the total revenue of all companies whose ma@@ in office is at tokyo or taiwan ?'],\n",
       "      dtype='<U236')"
      ]
     },
     "execution_count": 254,
     "metadata": {},
     "output_type": "execute_result"
    }
   ],
   "source": [
    "train_inp[:13]"
   ]
  },
  {
   "cell_type": "code",
   "execution_count": 245,
   "metadata": {},
   "outputs": [
    {
     "data": {
      "text/plain": [
       "array(['select max ( t1 . stars ) , t2 . year from rating as t1 join movie as t2 on t1 . mid = t2 . mid where t2 . year = ( select max ( year ) from movie )',\n",
       "       'select avg ( lat ) , avg ( long ) from station where city = \" san jose \"',\n",
       "       \"select name from airports where city = ' goroka '\"], dtype='<U602')"
      ]
     },
     "execution_count": 245,
     "metadata": {},
     "output_type": "execute_result"
    }
   ],
   "source": [
    "train_out[:3]"
   ]
  },
  {
   "cell_type": "code",
   "execution_count": 239,
   "metadata": {},
   "outputs": [
    {
     "name": "stdout",
     "output_type": "stream",
     "text": [
      "dec_start.shape (3, 128)\n",
      "Loss: 7.0708547\n"
     ]
    }
   ],
   "source": [
    "dummy_inp = tf.constant(inp_voc.to_matrix(train_inp[:3]))\n",
    "dummy_out = tf.constant(out_voc.to_matrix(train_out[:3]))\n",
    "dummy_loss = sess.run(compute_loss(model, dummy_inp, dummy_out))\n",
    "print(\"Loss:\", dummy_loss)"
   ]
  },
  {
   "cell_type": "markdown",
   "metadata": {},
   "source": [
    "3 запроса длиной 16 символов максимально, на каждом символе - 70 вероятностей"
   ]
  },
  {
   "cell_type": "markdown",
   "metadata": {},
   "source": [
    "out определяет индекс элемента в реальной последовательности. По этому индексу из logits вытаскивается значение и суммируется. Чем больше значение по реальному индексу(ег овероятность) тем лучше"
   ]
  },
  {
   "cell_type": "markdown",
   "metadata": {},
   "source": [
    "### Training loop\n",
    "\n",
    "Training encoder-decoder models isn't that different from any other models: sample batches, compute loss, backprop and update"
   ]
  },
  {
   "cell_type": "code",
   "execution_count": 240,
   "metadata": {
    "collapsed": true
   },
   "outputs": [
    {
     "name": "stdout",
     "output_type": "stream",
     "text": [
      "dec_start.shape (?, 128)\n"
     ]
    }
   ],
   "source": [
    "inp = tf.placeholder('int32', [None, None])\n",
    "out = tf.placeholder('int32', [None, None])\n",
    "\n",
    "loss = compute_loss(model, inp, out)\n",
    "\n",
    "train_step = tf.train.AdamOptimizer().minimize(loss)"
   ]
  },
  {
   "cell_type": "code",
   "execution_count": 241,
   "metadata": {
    "scrolled": false
   },
   "outputs": [],
   "source": [
    "from IPython.display import clear_output\n",
    "from tqdm import tqdm, trange\n",
    "metrics = {'train_loss': []}\n",
    "\n",
    "sess.run(tf.global_variables_initializer())\n",
    "batch_size = 32"
   ]
  },
  {
   "cell_type": "code",
   "execution_count": 242,
   "metadata": {},
   "outputs": [
    {
     "data": {
      "text/plain": [
       "32"
      ]
     },
     "execution_count": 242,
     "metadata": {},
     "output_type": "execute_result"
    }
   ],
   "source": [
    "batch_size"
   ]
  },
  {
   "cell_type": "code",
   "execution_count": 243,
   "metadata": {
    "scrolled": true
   },
   "outputs": [
    {
     "data": {
      "image/png": "[encoded data removed]",
      "text/plain": [
       "<Figure size 864x288 with 1 Axes>"
      ]
     },
     "metadata": {
      "needs_background": "light"
     },
     "output_type": "display_data"
    },
    {
     "name": "stdout",
     "output_type": "stream",
     "text": [
      "Mean loss=0.593\n"
     ]
    },
    {
     "name": "stderr",
     "output_type": "stream",
     "text": [
      "100%|██████████| 2500/2500 [04:41<00:00,  8.89it/s]\n"
     ]
    }
   ],
   "source": [
    "for _ in trange(2500):\n",
    "    step = len(metrics['train_loss']) + 1\n",
    "    batch_ix = np.random.randint(len(train_inp), size=batch_size)\n",
    "    feed_dict = {\n",
    "        inp: inp_voc.to_matrix(train_inp[batch_ix]),\n",
    "        out: out_voc.to_matrix(train_out[batch_ix]),\n",
    "    }\n",
    "    \n",
    "    loss_t, _ = sess.run([loss, train_step], feed_dict)\n",
    "    metrics['train_loss'].append((step, loss_t))\n",
    "    \n",
    "    if step % 100 == 0:\n",
    "        \n",
    "        clear_output(True)\n",
    "        plt.figure(figsize=(12,4))\n",
    "        for i, (name, history) in enumerate(sorted(metrics.items())):\n",
    "            plt.subplot(1, len(metrics), i + 1)\n",
    "            plt.title(name)\n",
    "            plt.plot(*zip(*history))\n",
    "            plt.grid()\n",
    "        plt.show()\n",
    "        print(\"Mean loss=%.3f\" % np.mean(metrics['train_loss'][-10:], axis=0)[1], flush=True)\n",
    "        \n",
    "# Note: it's okay if bleu oscillates up and down as long as it gets better on average over long term (e.g. 5k batches)"
   ]
  },
  {
   "cell_type": "markdown",
   "metadata": {},
   "source": [
    "## Посмотрим, что вышло"
   ]
  },
  {
   "cell_type": "code",
   "execution_count": 263,
   "metadata": {},
   "outputs": [
    {
     "name": "stdout",
     "output_type": "stream",
     "text": [
      "inp_line display the id for those employees who did two or more jobs in the past .\n",
      "real query select employee_id from job_history group by employee_id having count (*) >= 2\n",
      "generated query select statement_id , last_name from employees order by birth_date desc limit 1\n",
      "\n",
      "inp_line what are the last names and ages of the students who are allergic to m@@ il@@ k and cat ?\n",
      "real query select lname , age from student where stuid in ( select stuid from has_allergy where allergy = \" mil@@ k \" intersect select stuid from has_allergy where allergy = \" cat \")\n",
      "generated query select count (*) from faculty\n",
      "\n",
      "inp_line which cities have 2 to 4 parks ?\n",
      "real query select city from park group by city having count (*) between 2 and 4 ;\n",
      "generated query select count (*) from video_games\n",
      "\n",
      "inp_line what are the names of the different artists from banglade@@ sh who never received a rating higher than a 7 ?\n",
      "real query select distinct artist_name from artist where country = \" bangladesh \" except select distinct artist_name from song where rating > 7\n",
      "generated query select distinct building_description from apartment_buildings\n",
      "\n",
      "inp_line for each payment method , how many payments were made ?\n",
      "real query select payment_method_code , count (*) from customer_payments group by payment_method_code ;\n",
      "generated query select distinct t1 . name from physician as t1 join prescribes as t2 on t1 . employeeid = t2 . physician join procedures as t3 on t3 . code = t2 . treatment where t1 . name = \" john wen \"\n",
      "\n",
      "inp_line return the name of the mar@@ k@@ e@@ ting reg@@ ion the store ro@@ b d@@ in@@ n@@ ing is located in .\n",
      "real query select t1 . marketing_region@@ _name from marketing_region@@ s as t1 join stores as t2 on t1 . marketing_region_code = t2 . marketing_region_code where t2 . store_name = \" ro@@ b d@@ in@@ n@@ ing \"\n",
      "generated query select t1 . name from customer as t1 join loan as t2 on t1 . cust_id = t2 . cust_id group by t1 . cust_name order by count (*) desc limit 1\n",
      "\n",
      "inp_line which trip started from the station with the largest doc@@ k count ? give me the trip id .\n",
      "real query select t1 . id from trip as t1 join station as t2 on t1 . start_station_id = t2 . id order by t2 . do@@ ck@@ _@@ count desc limit 1\n",
      "generated query select count (*) from products where product_category_code = \" seeds \"\n",
      "\n",
      "inp_line who performed the song named \" b@@ ad@@ lan@@ ds \"? show the first name and the last name .\n",
      "real query select t2 . firstname , t2 . lastname from performance as t1 join band as t2 on t1 . bandmate = t2 . id join songs as t3 on t3 . songid = t1 . songid where t3 . title = \" b@@ ad@@ lan@@ ds \"\n",
      "generated query select count (*) from student where age = 18\n",
      "\n",
      "inp_line find the number of customers in the banks at new york city .\n",
      "real query select sum ( no_of_customers ) from bank where city = ' new york city '\n",
      "generated query select t1 . name from genres as t1 join tracks as t2 on t1 . id = t2 . genre_id where t1 . name = \" rock \" and t1 . name = \" jazz \"\n",
      "\n",
      "inp_line what are the names of students who have taken statistics courses ?\n",
      "real query select t3 . name from course as t1 join takes as t2 on t1 . course_id = t2 . course_id join student as t3 on t2 . id = t3 . id where t1 . dept_name = ' statistics '\n",
      "generated query select distinct name from races where year between 2014 and 2017\n",
      "\n",
      "inp_line what are the names of all the dorms that can ac@@ com@@ date more than 300 students ?\n",
      "real query select dorm_name from dorm where student_@@ capacity > 300\n",
      "generated query select t1 . name from medication as t1 join student_course_enrolment as t2 on t1 . id = t2 . genre_id where t1 . name = \" john wen \"\n",
      "\n",
      "inp_line show each gender code and the corresponding count of guests sorted by the count in descending order .\n",
      "real query select gender_code , count (*) from guests group by gender_code order by count (*) desc\n",
      "generated query select decor from reservations where zip_code = ' good ' group by zip_code order by count (*) desc limit 1 ;\n",
      "\n",
      "inp_line what is the average base price of rooms , for each bed type ?\n",
      "real query select bedtype , avg ( baseprice ) from rooms group by bedtype ;\n",
      "generated query select distinct t1 . state from college as t1 join tryout as t2 on t1 . cname = t2 . cname where t2 . ppos = ' goalie '\n",
      "\n",
      "inp_line find the ids of the employees who does not work in those departments where some employees works whose man@@ a@@ ger id with@@ in the range 100 and 2@@ 00 .\n",
      "real query select * from employees where department_id not in ( select department_id from departments where manager_id between 100 and 2@@ 00 )\n",
      "generated query select t1 . first_name , t1 . last_name from employees as t1 join customers as t2 on t1 . customer_id = t2 . customer_id join addresses as t3 on t2 . address_id = t3 . address_id group by t2 . customer_id order by count (*) desc limit 1\n",
      "\n",
      "inp_line find the name of students who didn ' t tak@@ e any course from biology department .\n",
      "real query select name from student where id not in ( select t1 . id from takes as t1 join course as t2 on t1 . course_id = t2 . course_id where t2 . dept_name = ' biology ')\n",
      "generated query \n",
      "\n"
     ]
    }
   ],
   "source": [
    "for inp_line, query, generated_query in zip(test_inp[:50], test_out[:50], model.translate_lines(test_inp[::50])[0]):\n",
    "    print(\"inp_line\", inp_line)\n",
    "    print(\"real query\", query)\n",
    "    print(\"generated query\", generated_query)\n",
    "    print()"
   ]
  },
  {
   "cell_type": "code",
   "execution_count": 250,
   "metadata": {},
   "outputs": [],
   "source": [
    "candidate_list = []\n",
    "reference_list = []\n",
    "\n",
    "for inp_line, query, generated_query in zip(test_inp, test_out, model.translate_lines(test_inp)[0]):\n",
    "    candidate_list.append(generated_query)\n",
    "    reference_list.append(query)"
   ]
  },
  {
   "cell_type": "markdown",
   "metadata": {},
   "source": [
    "## Metrcic: accuracy\n",
    "+1 к accuracy, если последовательность символов в запросе полностью совпадает с оригиналом"
   ]
  },
  {
   "cell_type": "code",
   "execution_count": 251,
   "metadata": {},
   "outputs": [],
   "source": [
    "def is_all_same(c1, c2):\n",
    "    if len(c1) == len(c2):\n",
    "        all_same = True\n",
    "        for j in range(len(c1)):\n",
    "            if c1[j] != c2[j]:\n",
    "                all_same = False\n",
    "                break\n",
    "        return all_same\n",
    "    else:\n",
    "        return False\n",
    "\n",
    "\n",
    "def compute_accuracy(candidate_list, reference_list):\n",
    "    if len(candidate_list) != len(reference_list):\n",
    "        print(\"candidate list has length {}, reference list has length {}\\n\".format(len(candidate_list), len(reference_list)))\n",
    "\n",
    "    len_min = min(len(candidate_list), len(reference_list))\n",
    "    c = 0\n",
    "    for i in range(len_min):\n",
    "        #print(candidate_list[i])\n",
    "        #print(reference_list[i])\n",
    "        if is_all_same(candidate_list[i], reference_list[i]):\n",
    "            #print(\"above was all same\")\n",
    "            c = c+1\n",
    "    return c/float(len_min)"
   ]
  },
  {
   "cell_type": "code",
   "execution_count": 252,
   "metadata": {},
   "outputs": [
    {
     "data": {
      "text/plain": [
       "0.007132667617689016"
      ]
     },
     "execution_count": 252,
     "metadata": {},
     "output_type": "execute_result"
    }
   ],
   "source": [
    "compute_accuracy(candidate_list, reference_list)"
   ]
  },
  {
   "cell_type": "markdown",
   "metadata": {},
   "source": [
    "### Attention"
   ]
  },
  {
   "cell_type": "markdown",
   "metadata": {},
   "source": [
    "После работы энкодера есть последовательность его скрытых состояний, каждое из которых относиться к токену входной последовательности $ h^e_0, h^e_1, h^e_2, ..., h^e_T$ \n",
    "Также есть скрытое состояние декодера с прошлого шага $h^d$,\n",
    "\n",
    "* Считаем вот такое\n",
    "$$a_t = linear_{out}(tanh(linear_{e}(h^e_t) + linear_{d}(h_d)))$$\n",
    "* Считаем вес, с которым каждое слово во входной последовательности повлияет на декодер state.\n",
    "$$ p_t = {{e ^ {a_t}} \\over { \\sum_\\tau e^{a_\\tau} }} $$\n",
    "\n",
    "* Добавляем ко внутренему состоянию декодера на предыдущем шаге взвешенную сумму внутренних состояний энкодера.\n",
    "$$ attn = \\sum_t p_t \\cdot h^e_t $$\n",
    "\n",
    "Чуть подробнее тут(https://distill.pub/2016/augmented-rnns/)."
   ]
  },
  {
   "cell_type": "code",
   "execution_count": 104,
   "metadata": {
    "collapsed": true
   },
   "outputs": [],
   "source": [
    "class AttentionLayer:\n",
    "    def __init__(self, name, enc_size, dec_size, hid_size, activ=tf.tanh,):\n",
    "\n",
    "        self.name = name\n",
    "        self.enc_size = enc_size \n",
    "        self.dec_size = dec_size \n",
    "        self.hid_size = hid_size \n",
    "        self.activ = activ       \n",
    "\n",
    "        with tf.variable_scope(name):\n",
    "            \n",
    "            self.linear_enc = L.Dense(hid_size)\n",
    "            self.linear_dec = L.Dense(hid_size)\n",
    "            self.out = L.Dense(1)\n",
    "\n",
    "            # prepare to translate_lines\n",
    "            self.inp = tf.placeholder('int32', [None, None])\n",
    "\n",
    "    def __call__(self, enc, dec, inp_mask):\n",
    "        with tf.variable_scope(self.name):\n",
    "            \n",
    "            \n",
    "            adds = self.linear_enc(enc) + self.linear_dec(dec)[:, None, :]\n",
    "            tanh = tf.tanh(adds)\n",
    "            logits = self.out(adds)[:, :, 0]\n",
    "            print (logits.shape)\n",
    "\n",
    "            \n",
    "           \n",
    "            a = tf.equal(inp_mask, 0.0)\n",
    "            b = logits\n",
    "            c = tf.fill(tf.shape(logits), -1e9)\n",
    "            \n",
    "            logits = tf.where(a, logits, tf.fill(tf.shape(logits), -1e9))\n",
    "            \n",
    "            probs = tf.nn.softmax(logits)\n",
    "            \n",
    "           \n",
    "            attn = tf.reduce_sum(tf.multiply(enc,probs), axis=2)\n",
    "            attn = tf.reduce_sum(probs[:, :, None] * enc, axis=1)\n",
    "            \n",
    "            return attn, probs"
   ]
  },
  {
   "cell_type": "markdown",
   "metadata": {},
   "source": [
    "### Seq2seq с вниманием(attention)\n"
   ]
  },
  {
   "cell_type": "code",
   "execution_count": 105,
   "metadata": {
    "collapsed": true
   },
   "outputs": [],
   "source": [
    "class AttentiveModel(BasicModel):\n",
    "    def __init__(self, name, inp_voc, out_voc,\n",
    "                 emb_size=64, hid_size=128, attn_size=128):\n",
    "        self.name = name\n",
    "        self.inp_voc = inp_voc\n",
    "        self.out_voc = out_voc\n",
    "\n",
    "        with tf.variable_scope(name):\n",
    "            \n",
    "            \n",
    "            self.emb_inp = L.Embedding(len(inp_voc), emb_size)\n",
    "            self.emb_out = L.Embedding(len(out_voc), emb_size)\n",
    "            self.enc0 = tf.nn.rnn_cell.GRUCell(hid_size)\n",
    "            \n",
    "            self.attn_layer = AttentionLayer(\"attn1\", emb_size, emb_size, hid_size)\n",
    "\n",
    "            self.dec_start = L.Dense(hid_size)\n",
    "            self.dec0 = tf.nn.rnn_cell.GRUCell(hid_size)\n",
    "            self.logits = L.Dense(len(out_voc))\n",
    "\n",
    "            self.inp = tf.placeholder('int32', [None, None])\n",
    "            self.initial_state = self.prev_state = self.encode(self.inp)\n",
    "            self.prev_tokens = tf.placeholder('int32', [None])\n",
    "            self.next_state, self.next_logits = self.decode(self.prev_state, self.prev_tokens)\n",
    "        \n",
    "        self.weights = tf.get_collection(tf.GraphKeys.TRAINABLE_VARIABLES, scope=name)\n",
    "        \n",
    "\n",
    "    def encode(self, inp, **flags):\n",
    "        # encode input sequence, create initial decoder states\n",
    "        inp_lengths = infer_length(inp, self.inp_voc.eos_ix)\n",
    "        inp_mask_ = infer_mask(inp, self.inp_voc.eos_ix)\n",
    "        inp_emb = self.emb_inp(inp)\n",
    "        with tf.variable_scope('enc0'):\n",
    "            _, enc_last = tf.nn.dynamic_rnn(\n",
    "                              self.enc0, inp_emb,\n",
    "                              sequence_length=inp_lengths,\n",
    "                              dtype = inp_emb.dtype)\n",
    "        \n",
    "        print (\"enc_last shape \", _.shape)\n",
    "        dec_start = self.dec_start(enc_last)\n",
    "        print (\"enc_last shape \", dec_start.shape)\n",
    "        \n",
    "        #!!! Attention мы добавляем в энкодер. Вот тут вся разница\n",
    "        first_attn, first_attn_probas = self.attn_layer(inp_emb, dec_start, inp_mask_)\n",
    "        \n",
    "        first_state = [dec_start, inp_emb, inp_mask_, first_attn_probas]\n",
    "        return first_state\n",
    "\n",
    "    def decode(self, prev_state, prev_tokens, **flags):\n",
    "       \n",
    "        [dec_start, inp_emb, inp_mask_, first_attn_probas] = prev_state\n",
    "        \n",
    "        \n",
    "        next_attn_response, next_attn_probas = self.attn_layer(inp_emb, dec_start, inp_mask_)\n",
    "        \n",
    "        prev_emb = self.emb_out(prev_tokens[:,None])[:,0]\n",
    "        \n",
    "        print (\"shapes\", prev_emb.shape, next_attn_response.shape)\n",
    "        \n",
    "        with tf.variable_scope('dec0'):\n",
    "            aaa = tf.concat([next_attn_response, prev_emb], axis=-1)\n",
    "            new_dec_out, new_dec_state = self.dec0(aaa, dec_start)\n",
    "        output_logits = self.logits(new_dec_out)\n",
    "\n",
    "        next_state = [new_dec_state, inp_emb, inp_mask_, next_attn_probas]\n",
    "        return next_state, output_logits\n"
   ]
  },
  {
   "cell_type": "code",
   "execution_count": 106,
   "metadata": {},
   "outputs": [
    {
     "name": "stdout",
     "output_type": "stream",
     "text": [
      "enc_last shape  (?, ?, 128)\n",
      "enc_last shape  (?, 128)\n",
      "(?, ?)\n",
      "(?, ?)\n",
      "shapes (?, 64) (?, 64)\n"
     ]
    }
   ],
   "source": [
    "tf.reset_default_graph()\n",
    "sess = tf.InteractiveSession()\n",
    "model = AttentiveModel('model_attn', inp_voc, out_voc)"
   ]
  },
  {
   "cell_type": "markdown",
   "metadata": {},
   "source": [
    "### Training attentive model\n",
    "\n",
    "We'll reuse the infrastructure you've built for the regular model. I hope you didn't hard-code anything :)"
   ]
  },
  {
   "cell_type": "code",
   "execution_count": 107,
   "metadata": {},
   "outputs": [
    {
     "name": "stdout",
     "output_type": "stream",
     "text": [
      "enc_last shape  (?, ?, 128)\n",
      "enc_last shape  (?, 128)\n",
      "(?, ?)\n",
      "(?, ?)\n",
      "shapes (?, 64) (?, 64)\n"
     ]
    }
   ],
   "source": [
    "inp = tf.placeholder('int32', [None, None])\n",
    "out = tf.placeholder('int32', [None, None])\n",
    "\n",
    "loss = compute_loss(model, inp, out)\n",
    "train_step = tf.train.AdamOptimizer().minimize(loss)"
   ]
  },
  {
   "cell_type": "code",
   "execution_count": 108,
   "metadata": {
    "collapsed": true
   },
   "outputs": [],
   "source": [
    "metrics = {'train_loss': []}\n",
    "sess.run(tf.global_variables_initializer())\n",
    "batch_size = 32"
   ]
  },
  {
   "cell_type": "code",
   "execution_count": 109,
   "metadata": {},
   "outputs": [
    {
     "data": {
      "image/png": "[encoded data removed]",
      "text/plain": [
       "<Figure size 864x288 with 1 Axes>"
      ]
     },
     "metadata": {
      "needs_background": "light"
     },
     "output_type": "display_data"
    },
    {
     "name": "stdout",
     "output_type": "stream",
     "text": [
      "Mean loss=0.016\n"
     ]
    },
    {
     "name": "stderr",
     "output_type": "stream",
     "text": [
      "100%|██████████| 2500/2500 [07:48<00:00,  5.33it/s]\n"
     ]
    }
   ],
   "source": [
    "for _ in trange(2500):\n",
    "    step = len(metrics['train_loss']) + 1\n",
    "    batch_ix = np.random.randint(len(train_inp), size=batch_size)\n",
    "    feed_dict = {\n",
    "        inp: inp_voc.to_matrix(train_inp[batch_ix]),\n",
    "        out: out_voc.to_matrix(train_out[batch_ix]),\n",
    "    }\n",
    "    \n",
    "    loss_t, _ = sess.run([loss, train_step], feed_dict)\n",
    "    metrics['train_loss'].append((step, loss_t))\n",
    "    \n",
    "    if step % 100 == 0:\n",
    "        \n",
    "        clear_output(True)\n",
    "        plt.figure(figsize=(12,4))\n",
    "        for i, (name, history) in enumerate(sorted(metrics.items())):\n",
    "            plt.subplot(1, len(metrics), i + 1)\n",
    "            plt.title(name)\n",
    "            plt.plot(*zip(*history))\n",
    "            plt.grid()\n",
    "        plt.show()\n",
    "        print(\"Mean loss=%.3f\" % np.mean(metrics['train_loss'][-10:], axis=0)[1], flush=True)\n",
    "        "
   ]
  },
  {
   "cell_type": "markdown",
   "metadata": {},
   "source": [
    "## Посмотрим, что вышло -2"
   ]
  },
  {
   "cell_type": "code",
   "execution_count": 74,
   "metadata": {},
   "outputs": [
    {
     "data": {
      "text/plain": [
       "['', '', '', '', '', '', '', '', '', '', '', '', '', '', '', '', '', '']"
      ]
     },
     "execution_count": 74,
     "metadata": {},
     "output_type": "execute_result"
    }
   ],
   "source": [
    "model.translate_lines('Where is New York?')[0]"
   ]
  },
  {
   "cell_type": "code",
   "execution_count": 110,
   "metadata": {},
   "outputs": [
    {
     "name": "stdout",
     "output_type": "stream",
     "text": [
      "inp_line where is c0\n",
      "real query ( lambda $ 0 e ( loc : t c0 $ 0 ) )\n",
      "generated query ( lambda $ 0 e ( loc : t c0 $ 0 ) )\n",
      "\n",
      "inp_line river in s0\n",
      "real query ( lambda $ 0 e ( and ( river : t $ 0 ) ( loc : t $ 0 s0 ) ) )\n",
      "generated query ( population : i c0 )\n",
      "\n",
      "inp_line where are mountain\n",
      "real query ( lambda $ 0 e ( exists $ 1 ( and ( mountain : t $ 1 ) ( loc : t $ 1 $ 0 ) ) ) )\n",
      "generated query ( count $ 0 ( and ( state : t $ 0 ) ( next_to : t s0 $ 0 ) ) )\n",
      "\n",
      "inp_line where is c0\n",
      "real query ( lambda $ 0 e ( loc : t c0 $ 0 ) )\n",
      "generated query ( argmax $ 0 ( and ( city : t $ 0 ) ( loc : t $ 0 s0 ) ) ( size : i $ 0 ) )\n",
      "\n",
      "inp_line what state border s0\n",
      "real query ( lambda $ 0 e ( and ( state : t $ 0 ) ( next_to : t $ 0 s0 ) ) )\n",
      "generated query ( argmax $ 0 ( river : t $ 0 ) ( count $ 1 ( and ( state : t $ 1 ) ( loc : t r0 $ 1 ) ) )\n",
      "\n",
      "inp_line what state border s0\n",
      "real query ( lambda $ 0 e ( and ( state : t $ 0 ) ( next_to : t $ 0 s0 ) ) )\n",
      "generated query ( argmax $ 0 ( and ( place : t $ 0 ) ( loc : t $ 0 ( the $ 1 ( and ( state : t $ 1 ) ( capital : t $ 1 c0 ) ) ) ) ) ( elevation : i $ 0 ) )\n",
      "\n"
     ]
    }
   ],
   "source": [
    "for inp_line, query, generated_query in zip(test_inp[:50], test_out[:50], model.translate_lines(test_inp[::50])[0]):\n",
    "    print(\"inp_line\", inp_line)\n",
    "    print(\"real query\", query)\n",
    "    print(\"generated query\", generated_query)\n",
    "    print()"
   ]
  },
  {
   "cell_type": "code",
   "execution_count": 82,
   "metadata": {},
   "outputs": [],
   "source": [
    "candidate_list = []\n",
    "reference_list = []\n",
    "\n",
    "for inp_line, query, generated_query in zip(test_inp, test_out, model.translate_lines(test_inp)[0]):\n",
    "    candidate_list.append(generated_query)\n",
    "    reference_list.append(query)"
   ]
  },
  {
   "cell_type": "code",
   "execution_count": 83,
   "metadata": {},
   "outputs": [
    {
     "data": {
      "text/plain": [
       "0.5836298932384342"
      ]
     },
     "execution_count": 83,
     "metadata": {},
     "output_type": "execute_result"
    }
   ],
   "source": [
    "compute_accuracy(candidate_list, reference_list)"
   ]
  },
  {
   "cell_type": "markdown",
   "metadata": {},
   "source": [
    "чуть лучше"
   ]
  },
  {
   "cell_type": "markdown",
   "metadata": {},
   "source": [
    "## А что не так?\n",
    "\n",
    "* Машинные запросы \"жестче\", чем реальная речь. То есть если человек понимает магиста Йоду, машина вот такой запрос \n",
    "\n",
    "$) \\lambda $ 0 e ( loc : t 0 $ c0 ( )$\n",
    "\n",
    "вместо\n",
    "\n",
    "$( \\lambda $ 0 e ( loc : t c0 $/$$ 0 ) )$\n",
    "\n",
    "понять уже не сможет\n",
    "\n",
    "* Более того, одна ошибка - и запрос не выполнится\n",
    "\n",
    "* Вышестоящая моделька выучиласть открывать/закрывать скобки, но обычно в seq2seq моделях это проблема.\n"
   ]
  },
  {
   "cell_type": "markdown",
   "metadata": {},
   "source": [
    "## Seq2Tree model"
   ]
  },
  {
   "cell_type": "markdown",
   "metadata": {},
   "source": [
    "* У логического выражения иерархическая структура\n",
    "\n",
    "<img src=\"files/hierarical.png\">\n",
    "\n",
    "* В отличи от seq2seq, где каждый последующий в пространстве шаг зависит от предыдущего и неявно от всего входа(если attention), в иерархической структуре дети должны зависеть только от родителей и бабушек с дедушками, но не от сиблингов и тем более от \"двоюродных братьев\". Время вылета в запросе не зависит от города вылета\n",
    "\n",
    "* Поэтому генерация проходит следующим образом:\n",
    "\n",
    "В набор символов добавляется новый символ n, что означает начало дерева. \n",
    "\n",
    "Если выпал символ n, в следующее состояние передается не скрытое состояние n, а сумма всех состояний, сгенерированных на этом уровне до этого момента\n",
    "<img src=\"files/tree_generate.png\">\n",
    "\n",
    "* Loss - такой же, accuracy - так же"
   ]
  },
  {
   "cell_type": "markdown",
   "metadata": {},
   "source": [
    "## SQL запросы (WikiSQL)\n",
    "\n",
    "* Qw: What record company did conductor Mikhail Snitko record for after 1996?\n",
    "\n",
    "  Qu: SELECT Record Company WHERE (Year of Recording > 1996) AND (Conductor = Mikhail Snitko)\n",
    "  \n",
    "* Aggregation operation: SVG, COUNT, MIN, MAX, SUM (\"How many\" -> COUNT)"
   ]
  },
  {
   "cell_type": "markdown",
   "metadata": {},
   "source": [
    "## RL approach\n",
    "\n",
    "<img src=\"files/rl.png\">\n",
    "\n",
    "* предсказываем aggregation operation как возможный ответ классификатора ($Loss_{agg}$ - cross-entropy)\n",
    "* предсказываем название колонки (SELECT) как возможный ответ классификатора ($Loss_{sel}$ - cross-entropy)\n",
    "* предсказываем WHERE clause как последовательность. \n",
    "  \n",
    "  Эта последовательность должна выполняться. \n",
    "  \n",
    "  Если предсказанная последовательность невыполнима, reward = -2, если выполнима, но дает неверный ответ, -1; если выполнима и дает верный ответ, +1\n",
    "  \n",
    "  $Loss_{where}$ = -среднее reward по батчу\n",
    "  \n",
    "* Loss = $Loss_{agg}$ + $Loss_{sel}$ + $Loss_{where}$"
   ]
  },
  {
   "cell_type": "markdown",
   "metadata": {},
   "source": [
    "**Почему reward, а не кросс-энтропия?**\n",
    "\n",
    "запросы\n",
    "\n",
    "**SELECT name FROM insurance WHERE age > 18 AND gender = \"male\"** \n",
    "\n",
    "**SELECT name FROM insurance WHERE gender = \"male\" AND age > 18**\n",
    "\n",
    " дают одинаковый верный результат, но один из них, например, совпадает с ответом из датасета, а другой нет. Вопорос на естественном языке **не взаимно однозначно** связан с его SQL-формой."
   ]
  },
  {
   "cell_type": "markdown",
   "metadata": {},
   "source": [
    "## Coarse-to-fine"
   ]
  },
  {
   "cell_type": "markdown",
   "metadata": {},
   "source": [
    "**Qwestion: What record company did conductor Mikhail Snitko record for after 1996?**\n",
    "\n",
    "**Expected query: SELECT Record Company WHERE (Year of Recording > 1996) AND (Conductor = Mikhail Snitko)**\n",
    "\n",
    "* Энкодим входной вопрос на естественном языке\n",
    "\n",
    "* Агррегатор и название колонки - классификатор на LSTM_encoder\n",
    "\n",
    "* декодим скетч \"WHERE > AND = \"\n",
    "\n",
    "* енкодим скетч\n",
    "\n",
    "* декодим полный WHERE clause \"SELECT Record Company WHERE (Year of Recording > 1996) AND (Conductor = Mikhail Snitko)\"\n",
    "\n",
    "* Profit!!!"
   ]
  },
  {
   "cell_type": "markdown",
   "metadata": {},
   "source": [
    "Дальнейшие работы: генерировать where clause, которых нет в трейне"
   ]
  },
  {
   "cell_type": "code",
   "execution_count": null,
   "metadata": {},
   "outputs": [],
   "source": []
  }
 ],
 "metadata": {
  "kernelspec": {
   "display_name": "Python 3",
   "language": "python",
   "name": "python3"
  },
  "language_info": {
   "codemirror_mode": {
    "name": "ipython",
    "version": 3
   },
   "file_extension": ".py",
   "mimetype": "text/x-python",
   "name": "python",
   "nbconvert_exporter": "python",
   "pygments_lexer": "ipython3",
   "version": "3.6.6"
  }
 },
 "nbformat": 4,
 "nbformat_minor": 2
}
