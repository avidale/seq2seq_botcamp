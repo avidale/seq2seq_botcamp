{
 "cells": [
  {
   "cell_type": "markdown",
   "metadata": {},
   "source": [
    "## Seq2Sql\n",
    "\n",
    "Задача перевода запросов на натуральном языке в машинный код аналогична задаче перевода \"последовательность-в-последовательность\" \n",
    "\n",
    "<img src=\"files/lstm.png\">\n"
   ]
  },
  {
   "cell_type": "markdown",
   "metadata": {},
   "source": [
    "## Dataset: GEOQUERY\n",
    "\n",
    "Это база данных о географических объектах, плотности населения, границах штатов и т.д. Соединенных Штатов Америки\n",
    "GEOQUERY: lambda calculus\n",
    "* “Plus 1” function: ƛx.x+1\n",
    "* “Plus 1” function, where argument == 3: (ƛx.x+1)3 => 3+1 =>4\n",
    "*  all capital cities λx.capital(x)\n",
    "*  capital(p)  λp.λx.(capital(x), p(x))\n",
    "\n",
    "Примеры запросов в табличке:\n",
    "<img src=\"files/table3.png\">\n",
    "\n",
    "больше о языке запросов:\n",
    "http://www.cs.utexas.edu/~ml/wasp/geo-funql.html\n"
   ]
  },
  {
   "cell_type": "markdown",
   "metadata": {},
   "source": [
    "### Словари\n"
   ]
  },
  {
   "cell_type": "markdown",
   "metadata": {},
   "source": [
    "* Обычно: модель работает со словарями слов, которые возможно встретить во входных и выходных последовательностях.\n",
    "* Cловарь каждому слову присваивает номер, по номеру слова словарь дает слово. Т.е класс \"словарь\" содержит стурктуры word2index, index2word. Например, в util_tf.py класс Vocab\n",
    "* на вход модели дается не набор слов, в набор номеров слов в словаре. \n",
    "\n",
    "## BPE!\n",
    "**Byte Pair Encoding.**\n",
    "\n",
    "Токенезирует на уровне символов (т.е. побуквенно), заменяет часто встречающиеся символы одним токеном. Затем вместо словаря слов появляется словарь токенов."
   ]
  },
  {
   "cell_type": "code",
   "execution_count": 1,
   "metadata": {},
   "outputs": [],
   "source": [
    "import numpy as np\n",
    "import matplotlib.pyplot as plt\n",
    "%matplotlib inline\n",
    "from nltk.tokenize import WordPunctTokenizer\n",
    "from subword_nmt.learn_bpe import learn_bpe\n",
    "from subword_nmt.apply_bpe import BPE\n",
    "tokenizer = WordPunctTokenizer()\n",
    "\n",
    "def tokenize_src(x):\n",
    "    return ' '.join(tokenizer.tokenize(x.lower()))\n",
    "\n",
    "def tokenize_tgt(x):\n",
    "    return ' '.join(tokenizer.tokenize(x))\n",
    "i = 0\n",
    "def preprocess(dataset_type, datadir, source_voc_type, dist_voc_type): #создает bpe-словарики из слов в словарях sourcevoc(это все возможные слова, \n",
    "    # которые могут встретиться в вопросах на натуральном языке по этой базе данных), targetvoc(символы математического языка запроса)\n",
    "    with open(\"{}.{}\".format(dataset_type,source_voc_type), 'w') as f_src,  open(\"{}.{}\".format(dataset_type, dist_voc_type), 'w') as f_dst:\n",
    "        for line in open('{}/{}.txt'.format(datadir, dataset_type), encoding='utf-8'):\n",
    "            try:\n",
    "                src_line, dst_line = line.strip().split('\\t')\n",
    "            except:\n",
    "                print (line)\n",
    "                continue\n",
    "            try:\n",
    "                f_src.write(tokenize_src(src_line) + '\\n')\n",
    "                f_dst.write(tokenize_tgt(dst_line) + '\\n')\n",
    "            except:\n",
    "                continue\n",
    "                i = i +1 \n",
    "                print (tokenize_src(src_line) + '\\n')\n",
    "                print (tokenize_tgt(dst_line) + '\\n')\n",
    "        \n",
    "    bpe = {}\n",
    "    print (\"create bpe\")\n",
    "    for v_type in [source_voc_type, dist_voc_type]:\n",
    "        learn_bpe(open('./{}.'.format(dataset_type) + v_type), open('bpe_rules.' + v_type, 'w'), num_symbols=8000)\n",
    "        bpe[v_type] = BPE(open('./bpe_rules.' + v_type))\n",
    "        with open('{}.bpe.'.format(dataset_type) + v_type, 'w') as f_out:\n",
    "            for line in open('{}.'.format(dataset_type) + v_type):\n",
    "                f_out.write(bpe[v_type].process_line(line.strip()) + '\\n')"
   ]
  },
  {
   "cell_type": "code",
   "execution_count": 2,
   "metadata": {},
   "outputs": [
    {
     "name": "stdout",
     "output_type": "stream",
     "text": [
      "\"The engine family MaxxForce 5\t in the years produced 2007-current, have what cylinder layout?\"\t\"SELECT  col1 FROM table_1_26352332_4 WHERE col4 = \"\"2007-current\"\"\"\n",
      "\n",
      "\"Who was the under-15 when Moises Galvez\twas the under-17?\"\t\"SELECT  col3 FROM table_1_26368963_1 WHERE col4 = \"\"moises galvez\"\"\"\n",
      "\n",
      "create bpe\n"
     ]
    }
   ],
   "source": [
    "preprocess('train', 'data', 'qw', 'qu')"
   ]
  },
  {
   "cell_type": "code",
   "execution_count": 3,
   "metadata": {},
   "outputs": [
    {
     "name": "stdout",
     "output_type": "stream",
     "text": [
      "\"How many ministers are there when the cabinet (nickname) is \tSteingrímur Hermannsson III?\"\t\"SELECT  col6 FROM table_1_21422977_2 WHERE col1 = \"\"steingrímur hermannsson iii\"\"\"\n",
      "\n",
      "create bpe\n"
     ]
    }
   ],
   "source": [
    "preprocess('test', 'data', 'qw', 'qu')"
   ]
  },
  {
   "cell_type": "markdown",
   "metadata": {},
   "source": [
    "**определим train и test и посмотрим на данные**"
   ]
  },
  {
   "cell_type": "code",
   "execution_count": 4,
   "metadata": {},
   "outputs": [
    {
     "name": "stdout",
     "output_type": "stream",
     "text": [
      "inp: tell me what the notes are for south australia\n",
      "out: \" SELECT col5 FROM table_1_1000@@ 18@@ 1_1 WHERE col3 = \"\" south australia \"\"\"\n",
      "\n",
      "inp: what is the current series where the new series began in june 2011 ?\n",
      "out: \" SELECT col4 FROM table_1_1000@@ 18@@ 1_1 WHERE col5 = \"\" new series be@@ gan in june 2011 \"\"\"\n",
      "\n",
      "inp: what is the format for south australia ?\n",
      "out: \" SELECT col2 FROM table_1_1000@@ 18@@ 1_1 WHERE col0 = \"\" south australia \"\"\"\n",
      "\n",
      "inp: name the background colour for the australian capital territory\n",
      "out: \" SELECT col1 FROM table_1_1000@@ 18@@ 1_1 WHERE col0 = \"\" australian capital ter@@ ri@@ tor@@ y \"\"\"\n",
      "\n",
      "inp: how many times is the fuel propulsion is c@@ n@@ g ?\n",
      "out: \" SELECT COUNT ( col3 ) FROM table_1_1000@@ 745@@ 2_3 WHERE col5 = \"\" c@@ n@@ g \"\"\"\n",
      "\n",
      "inp: what is the fuel propulsion where the fleet series ( quantity ) is 310 - 3@@ 29 ( 20 )?\n",
      "out: \" SELECT col5 FROM table_1_1000@@ 745@@ 2_3 WHERE col3 = \"\" 3@@ 10 - 32@@ 9 ( 20 )\"\"\"\n",
      "\n",
      "inp: who is the manufacturer for the order year 1998 ?\n",
      "out: \" SELECT col1 FROM table_1_1000@@ 745@@ 2_3 WHERE col0 = \"\" 1998 \"\"\"\n",
      "\n",
      "inp: how many times is the model ge@@ 40@@ l@@ fr ?\n",
      "out: \" SELECT COUNT ( col1 ) FROM table_1_1000@@ 745@@ 2_3 WHERE col2 = \"\" ge@@ 40@@ l@@ f@@ r \"\"\"\n",
      "\n",
      "inp: how many times is the fleet series ( quantity ) is 4@@ 68 - 4@@ 73 ( 6 )?\n",
      "out: \" SELECT COUNT ( col0 ) FROM table_1_1000@@ 745@@ 2_3 WHERE col3 = \"\" 46@@ 8 - 47@@ 3 ( 6 )\"\"\"\n",
      "\n",
      "inp: what is the po@@ wer@@ train ( engine / transmission ) when the order year is 2000 ?\n",
      "out: \" SELECT col4 FROM table_1_1000@@ 745@@ 2_3 WHERE col0 = \"\" 2000 \"\"\"\n",
      "\n",
      "inp: what if the description of a ch - 4@@ 7@@ d ch@@ ino@@ ok ?\n",
      "out: \" SELECT col1 FROM table_1_1000@@ 68@@ 30_1 WHERE col0 = \"\" ch - 47@@ d chin@@ oo@@ k \"\"\"\n",
      "\n",
      "inp: what is the max gross weight of the robinson r - 22 ?\n",
      "out: \" SELECT col2 FROM table_1_1000@@ 68@@ 30_1 WHERE col0 = \"\" robinson r - 22 \"\"\"\n",
      "\n",
      "inp: what school did player number 6 come from ?\n",
      "out: \" SELECT col5 FROM table_1_100151@@ 32_1 WHERE col1 = \"\" 6 \"\"\"\n",
      "\n"
     ]
    }
   ],
   "source": [
    "train_inp = np.array(open('./train.bpe.qw').read().split('\\n'))\n",
    "train_out = np.array(open('./train.bpe.qu').read().split('\\n'))\n",
    "test_inp = np.array(open('./test.bpe.qw').read().split('\\n'))\n",
    "test_out = np.array(open('./test.bpe.qu').read().split('\\n'))\n",
    "\n",
    "for i in range(13):\n",
    "    print('inp:', train_inp[i])\n",
    "    print('out:', train_out[i], end='\\n\\n')"
   ]
  },
  {
   "cell_type": "code",
   "execution_count": 7,
   "metadata": {
    "collapsed": true
   },
   "outputs": [],
   "source": [
    "from util_tf import Vocab\n",
    "inp_voc = Vocab.from_lines(train_inp)\n",
    "out_voc = Vocab.from_lines(train_out)"
   ]
  },
  {
   "cell_type": "markdown",
   "metadata": {},
   "source": [
    "**to_matrix, to_line**\n",
    "* у класса vocab есть функция to_matrix, которая из батча вопросов на естественном языке генерит батч чисел, где число - индекс соответсвующего слова в словаре.\n",
    "\n",
    "* И функция to_lines, которая батч чисел переводит обратно\n",
    "\n",
    "* Важно! модель предсказывает батч чисел"
   ]
  },
  {
   "cell_type": "code",
   "execution_count": 8,
   "metadata": {},
   "outputs": [
    {
     "name": "stdout",
     "output_type": "stream",
     "text": [
      "lines\n",
      "['who is pick # 41 ?', 'who won stage 16 ?', 'what venue had sf ?', 'who won on 29 may ?', 'who won on 3 june ?']\n",
      "\n",
      "words to ids (0 = bos, 1 = eos):\n",
      "[[   0 7473 3647 5306   14  463  624    1]\n",
      " [   0 7473 7542 6456  173  624    1    1]\n",
      " [   0 7458 7250 3199 6157  624    1    1]\n",
      " [   0 7473 7542 5006  396 4437  624    1]\n",
      " [   0 7473 7542 5006  411 3836  624    1]]\n",
      "\n",
      "back to words\n",
      "['who is pick # 41 ?', 'who won stage 16 ?', 'what venue had sf ?', 'who won on 29 may ?', 'who won on 3 june ?']\n"
     ]
    }
   ],
   "source": [
    "batch_lines = sorted(train_inp, key=len)[5:10]\n",
    "batch_ids = inp_voc.to_matrix(batch_lines)\n",
    "batch_lines_restored = inp_voc.to_lines(batch_ids)\n",
    "\n",
    "print(\"lines\")\n",
    "print(batch_lines)\n",
    "print(\"\\nwords to ids (0 = bos, 1 = eos):\")\n",
    "print(batch_ids)\n",
    "print(\"\\nback to words\")\n",
    "print(batch_lines_restored)"
   ]
  },
  {
   "cell_type": "markdown",
   "metadata": {},
   "source": [
    "### Модель\n"
   ]
  },
  {
   "cell_type": "code",
   "execution_count": 9,
   "metadata": {},
   "outputs": [
    {
     "name": "stderr",
     "output_type": "stream",
     "text": [
      "Using TensorFlow backend.\n"
     ]
    }
   ],
   "source": [
    "import tensorflow as tf\n",
    "import keras.layers as L\n",
    "from util_tf import infer_length, infer_mask"
   ]
  },
  {
   "cell_type": "code",
   "execution_count": 10,
   "metadata": {
    "collapsed": true
   },
   "outputs": [],
   "source": [
    "class BasicModel:\n",
    "    def __init__(self, name, inp_voc, out_voc, emb_size=64, hid_size=128):\n",
    "        \n",
    "        self.name, self.inp_voc, self.out_voc = name, inp_voc, out_voc\n",
    "\n",
    "        with tf.variable_scope(name):\n",
    "            self.emb_inp = L.Embedding(len(inp_voc), emb_size)\n",
    "            self.emb_out = L.Embedding(len(out_voc), emb_size)\n",
    "            self.enc0 = tf.nn.rnn_cell.GRUCell(hid_size)\n",
    "\n",
    "            self.dec_start = L.Dense(hid_size)\n",
    "            self.dec0 = tf.nn.rnn_cell.GRUCell(hid_size)\n",
    "            self.logits = L.Dense(len(out_voc))\n",
    "\n",
    "            # prepare to translate_lines\n",
    "            self.inp = tf.placeholder('int32', [None, None])\n",
    "            self.initial_state = self.prev_state = self.encode(self.inp)\n",
    "            self.prev_tokens = tf.placeholder('int32', [None])\n",
    "            self.next_state, self.next_logits = self.decode(self.prev_state, self.prev_tokens)\n",
    "        \n",
    "        self.weights = tf.get_collection(tf.GraphKeys.TRAINABLE_VARIABLES, scope=name)\n",
    "\n",
    "    def encode(self, inp, **flags):\n",
    "        \"\"\"\n",
    "        Получает на вход батч, прогоняет его через emb_layer (теперь каждому числу-слову соответсвует вектор)\n",
    "        возвращает начальное состояние для rnn-ки декодера\n",
    "        \"\"\"\n",
    "        inp_lengths = infer_length(inp, self.inp_voc.eos_ix)\n",
    "        inp_emb = self.emb_inp(inp)\n",
    "        with tf.variable_scope('enc0'):\n",
    "            _, enc_last = tf.nn.dynamic_rnn(\n",
    "                              self.enc0, inp_emb,\n",
    "                              sequence_length=inp_lengths,\n",
    "                              dtype = inp_emb.dtype)\n",
    "        dec_start = self.dec_start(enc_last)\n",
    "        print (\"dec_start.shape\", dec_start.shape)\n",
    "        return [dec_start]\n",
    "\n",
    "    def decode(self, prev_state, prev_tokens, **flags):\n",
    "        \"\"\"\n",
    "        берет предыдущее состояние, возвращает вероятности для всех символов выходного словаря и состояние для следующей ячейки\n",
    "        \"\"\"\n",
    "        [prev_dec] = prev_state\n",
    "        prev_emb = self.emb_out(prev_tokens[:,None])[:,0]\n",
    "        with tf.variable_scope('dec0'):\n",
    "            new_dec_out, new_dec_state = self.dec0(prev_emb, prev_dec)\n",
    "        output_logits = self.logits(new_dec_out)\n",
    "        return [new_dec_state], output_logits\n",
    "\n",
    "    def translate_lines(self, inp_lines, max_len=100):\n",
    "        state = sess.run(self.initial_state, {self.inp: inp_voc.to_matrix(inp_lines)})\n",
    "        outputs = [[self.out_voc.bos_ix] for _ in range(len(inp_lines))]\n",
    "        all_states = [state]\n",
    "        finished = [False] * len(inp_lines)\n",
    "\n",
    "        for t in range(max_len):\n",
    "            state, logits = sess.run([self.next_state, self.next_logits], {**dict(zip(self.prev_state, state)),\n",
    "                                           self.prev_tokens: [out_i[-1] for out_i in outputs]})\n",
    "            next_tokens = np.argmax(logits, axis=-1)\n",
    "            all_states.append(state)\n",
    "            for i in range(len(next_tokens)):\n",
    "                outputs[i].append(next_tokens[i])\n",
    "                finished[i] |= next_tokens[i] == self.out_voc.eos_ix\n",
    "        return out_voc.to_lines(outputs), all_states"
   ]
  },
  {
   "cell_type": "code",
   "execution_count": 11,
   "metadata": {
    "collapsed": true
   },
   "outputs": [
    {
     "name": "stdout",
     "output_type": "stream",
     "text": [
      "dec_start.shape (?, 128)\n"
     ]
    }
   ],
   "source": [
    "tf.reset_default_graph()\n",
    "sess = tf.InteractiveSession()\n",
    "\n",
    "model = BasicModel('model', inp_voc, out_voc)\n",
    "sess.run(tf.global_variables_initializer())"
   ]
  },
  {
   "cell_type": "code",
   "execution_count": 12,
   "metadata": {},
   "outputs": [],
   "source": [
    "batch_size = 64"
   ]
  },
  {
   "cell_type": "markdown",
   "metadata": {},
   "source": [
    "### Loss \n",
    "\n",
    "$$ L = {\\frac1{|D|}} \\sum_{X, Y \\in D} \\sum_{y_t \\in Y} - \\log p(y_t \\mid y_1, \\dots, y_{t-1}, X, \\theta) $$\n"
   ]
  },
  {
   "cell_type": "code",
   "execution_count": 13,
   "metadata": {
    "collapsed": true
   },
   "outputs": [],
   "source": [
    "def compute_logits(model, inp, out, **flags):\n",
    "   \n",
    "    batch_size = tf.shape(inp)[0]\n",
    "    \n",
    "    first_state = model.encode(inp)\n",
    "    \n",
    "    first_logits = tf.log(tf.one_hot(tf.fill([batch_size], model.out_voc.bos_ix),\n",
    "                                     len(model.out_voc)) + 1e-30)\n",
    "    \n",
    "    def step(prev_tupl, y_prev):\n",
    "        prev_state, logits = prev_tupl\n",
    "        next_state, logits = model.decode(prev_state, y_prev)\n",
    "        \n",
    "        return [next_state, logits]\n",
    "    \n",
    "    h_seq, logits_seq = tf.scan(step, elems=tf.transpose(out)[:-1], initializer=[first_state, first_logits])\n",
    "    \n",
    "    logits_seq = tf.concat([first_logits[None], logits_seq], axis = 0)\n",
    "    #print (\"inp shape\", inp.shape)\n",
    "    #print (\"logits_seq.shape\", logits_seq.shape)\n",
    "    # Make sure you convert logits_seq from [time, batch, voc_size] to [batch, time, voc_size]\n",
    "    logits_seq = tf.transpose(logits_seq, (1, 0, 2))\n",
    "    \n",
    "    #print (\"logits_seq.shape\", logits_seq.shape)\n",
    "    \n",
    "    return logits_seq"
   ]
  },
  {
   "cell_type": "code",
   "execution_count": 14,
   "metadata": {
    "collapsed": true,
    "scrolled": true
   },
   "outputs": [],
   "source": [
    "from util_tf import select_values_over_last_axis\n",
    "\n",
    "def compute_loss(model, inp, out, **flags):\n",
    "    mask = infer_mask(out, out_voc.eos_ix)    \n",
    "    logits_seq = compute_logits(model, inp, out, **flags)\n",
    "    #print (\"logits_seq.shape\", logits_seq.shape)\n",
    "    soft_max = tf.nn.log_softmax(logits_seq, -1)\n",
    "    #print (\"soft max shape\", soft_max.shape)\n",
    "    #print (\"out shape\", out.shape)\n",
    "    #print (\"out\", sess.run(out[2]))\n",
    "    symbols = select_values_over_last_axis(soft_max, out)\n",
    "    #print (\"symbols.shape\", symbols.shape)\n",
    "    symbols = symbols*mask\n",
    "    \n",
    "    return -tf.reduce_sum(symbols)/tf.reduce_sum(mask)"
   ]
  },
  {
   "cell_type": "code",
   "execution_count": 15,
   "metadata": {},
   "outputs": [
    {
     "data": {
      "text/plain": [
       "array(['tell me what the notes are for south australia',\n",
       "       'what is the current series where the new series began in june 2011 ?',\n",
       "       'what is the format for south australia ?'], dtype='<U297')"
      ]
     },
     "execution_count": 15,
     "metadata": {},
     "output_type": "execute_result"
    }
   ],
   "source": [
    "train_inp[:3]"
   ]
  },
  {
   "cell_type": "code",
   "execution_count": 16,
   "metadata": {},
   "outputs": [
    {
     "data": {
      "text/plain": [
       "7780"
      ]
     },
     "execution_count": 16,
     "metadata": {},
     "output_type": "execute_result"
    }
   ],
   "source": [
    "len(out_voc.tokens)"
   ]
  },
  {
   "cell_type": "code",
   "execution_count": 17,
   "metadata": {},
   "outputs": [
    {
     "name": "stdout",
     "output_type": "stream",
     "text": [
      "dec_start.shape (3, 128)\n",
      "Loss: 8.45245\n"
     ]
    }
   ],
   "source": [
    "dummy_inp = tf.constant(inp_voc.to_matrix(train_inp[:3]))\n",
    "dummy_out = tf.constant(out_voc.to_matrix(train_out[:3]))\n",
    "dummy_loss = sess.run(compute_loss(model, dummy_inp, dummy_out))\n",
    "print(\"Loss:\", dummy_loss)"
   ]
  },
  {
   "cell_type": "markdown",
   "metadata": {},
   "source": [
    "3 запроса длиной 16 символов максимально, на каждом символе - 70 вероятностей"
   ]
  },
  {
   "cell_type": "markdown",
   "metadata": {},
   "source": [
    "out определяет индекс элемента в реальной последовательности. По этому индексу из logits вытаскивается значение и суммируется. Чем больше значение по реальному индексу(ег овероятность) тем лучше"
   ]
  },
  {
   "cell_type": "markdown",
   "metadata": {},
   "source": [
    "## Убери весь вывод из лосса!!!!"
   ]
  },
  {
   "cell_type": "markdown",
   "metadata": {},
   "source": [
    "### Training loop\n",
    "\n",
    "Training encoder-decoder models isn't that different from any other models: sample batches, compute loss, backprop and update"
   ]
  },
  {
   "cell_type": "code",
   "execution_count": 18,
   "metadata": {
    "collapsed": true
   },
   "outputs": [
    {
     "name": "stdout",
     "output_type": "stream",
     "text": [
      "dec_start.shape (?, 128)\n"
     ]
    }
   ],
   "source": [
    "inp = tf.placeholder('int32', [None, None])\n",
    "out = tf.placeholder('int32', [None, None])\n",
    "\n",
    "loss = compute_loss(model, inp, out)\n",
    "\n",
    "train_step = tf.train.AdamOptimizer().minimize(loss)"
   ]
  },
  {
   "cell_type": "code",
   "execution_count": 19,
   "metadata": {
    "scrolled": false
   },
   "outputs": [],
   "source": [
    "from IPython.display import clear_output\n",
    "from tqdm import tqdm, trange\n",
    "metrics = {'train_loss': []}\n",
    "\n",
    "sess.run(tf.global_variables_initializer())\n",
    "batch_size = 64"
   ]
  },
  {
   "cell_type": "code",
   "execution_count": 26,
   "metadata": {},
   "outputs": [
    {
     "data": {
      "text/plain": [
       "64"
      ]
     },
     "execution_count": 26,
     "metadata": {},
     "output_type": "execute_result"
    }
   ],
   "source": [
    "batch_size"
   ]
  },
  {
   "cell_type": "code",
   "execution_count": 27,
   "metadata": {
    "scrolled": true
   },
   "outputs": [
    {
     "data": {
      "image/png": "[encoded data removed]",
      "text/plain": [
       "<Figure size 864x288 with 1 Axes>"
      ]
     },
     "metadata": {
      "needs_background": "light"
     },
     "output_type": "display_data"
    },
    {
     "name": "stdout",
     "output_type": "stream",
     "text": [
      "Mean loss=0.454\n"
     ]
    },
    {
     "name": "stderr",
     "output_type": "stream",
     "text": [
      "100%|██████████| 12000/12000 [14:13<00:00, 14.07it/s]\n"
     ]
    }
   ],
   "source": [
    "for _ in trange(12000):\n",
    "    step = len(metrics['train_loss']) + 1\n",
    "    batch_ix = np.random.randint(len(train_inp), size=batch_size)\n",
    "    feed_dict = {\n",
    "        inp: inp_voc.to_matrix(train_inp[batch_ix]),\n",
    "        out: out_voc.to_matrix(train_out[batch_ix]),\n",
    "    }\n",
    "    \n",
    "    loss_t, _ = sess.run([loss, train_step], feed_dict)\n",
    "    metrics['train_loss'].append((step, loss_t))\n",
    "    \n",
    "    if step % 100 == 0:\n",
    "        \n",
    "        clear_output(True)\n",
    "        plt.figure(figsize=(12,4))\n",
    "        for i, (name, history) in enumerate(sorted(metrics.items())):\n",
    "            plt.subplot(1, len(metrics), i + 1)\n",
    "            plt.title(name)\n",
    "            plt.plot(*zip(*history))\n",
    "            plt.grid()\n",
    "        plt.show()\n",
    "        print(\"Mean loss=%.3f\" % np.mean(metrics['train_loss'][-10:], axis=0)[1], flush=True)\n",
    "        \n",
    "# Note: it's okay if bleu oscillates up and down as long as it gets better on average over long term (e.g. 5k batches)"
   ]
  },
  {
   "cell_type": "markdown",
   "metadata": {},
   "source": [
    "## Посмотрим, что вышло"
   ]
  },
  {
   "cell_type": "code",
   "execution_count": 28,
   "metadata": {},
   "outputs": [
    {
     "name": "stdout",
     "output_type": "stream",
     "text": [
      "inp_line tell me what the notes are for south australia\n",
      "real query \" SELECT col5 FROM table_1_1000@@ 18@@ 1_1 WHERE col3 = \"\" south australia \"\"\"\n",
      "generated query \" SELECT col5 FROM table_1_1000@@ 18@@ 1_1 WHERE col3 = \"\" south australia \"\"\"\n",
      "\n",
      "inp_line what is the current series where the new series began in june 2011 ?\n",
      "real query \" SELECT col4 FROM table_1_1000@@ 18@@ 1_1 WHERE col5 = \"\" new series be@@ gan in june 2011 \"\"\"\n",
      "generated query \" SELECT col5 FROM table_1_10015132@@ _14 WHERE col4 = \"\" 2001 - 02 \"\"\"\n",
      "\n",
      "inp_line what is the format for south australia ?\n",
      "real query \" SELECT col2 FROM table_1_1000@@ 18@@ 1_1 WHERE col0 = \"\" south australia \"\"\"\n",
      "generated query \" SELECT col4 FROM table_1_196@@ 32@@ 48@@ 1_1 WHERE col2 = \"\" t@@ 69 \"\"\"\n",
      "\n",
      "inp_line name the background colour for the australian capital territory\n",
      "real query \" SELECT col1 FROM table_1_1000@@ 18@@ 1_1 WHERE col0 = \"\" australian capital ter@@ ri@@ tor@@ y \"\"\"\n",
      "generated query \" SELECT col2 FROM table_1_100@@ 76@@ 88_1 WHERE col0 = \"\" 1929 \"\"\"\n",
      "\n",
      "inp_line how many times is the fuel propulsion is c@@ n@@ g ?\n",
      "real query \" SELECT COUNT ( col3 ) FROM table_1_1000@@ 745@@ 2_3 WHERE col5 = \"\" c@@ n@@ g \"\"\"\n",
      "generated query \" SELECT col1 FROM table_1_2@@ 722@@ 59@@ 8_2 WHERE col2 = \"\" k@@ end@@ er bu@@ zo@@ r@@ ation \"\"\"\n",
      "\n",
      "inp_line what is the fuel propulsion where the fleet series ( quantity ) is 310 - 3@@ 29 ( 20 )?\n",
      "real query \" SELECT col5 FROM table_1_1000@@ 745@@ 2_3 WHERE col3 = \"\" 3@@ 10 - 32@@ 9 ( 20 )\"\"\"\n",
      "generated query \" SELECT MIN ( col0 ) FROM table_1_1013@@ 129_1 WHERE col1 = \"\" brett lin@@ dro@@ s \"\"\"\n",
      "\n",
      "inp_line who is the manufacturer for the order year 1998 ?\n",
      "real query \" SELECT col1 FROM table_1_1000@@ 745@@ 2_3 WHERE col0 = \"\" 1998 \"\"\"\n",
      "generated query \" SELECT col1 FROM table_1_10@@ 602@@ 294_1 WHERE col4 = \"\" out of playo@@ ffs \"\"\"\n",
      "\n",
      "inp_line how many times is the model ge@@ 40@@ l@@ fr ?\n",
      "real query \" SELECT COUNT ( col1 ) FROM table_1_1000@@ 745@@ 2_3 WHERE col2 = \"\" ge@@ 40@@ l@@ f@@ r \"\"\"\n",
      "generated query \" SELECT col1 FROM table_1_102368@@ 30_1 WHERE col3 = \"\" va@@ di@@ a la@@ ku@@ z@@ o \"\"\"\n",
      "\n",
      "inp_line how many times is the fleet series ( quantity ) is 4@@ 68 - 4@@ 73 ( 6 )?\n",
      "real query \" SELECT COUNT ( col0 ) FROM table_1_1000@@ 745@@ 2_3 WHERE col3 = \"\" 46@@ 8 - 47@@ 3 ( 6 )\"\"\"\n",
      "generated query \" SELECT COUNT ( col4 ) FROM table_1_235@@ 08@@ 196@@ _5 WHERE col0 = \"\" b@@ attle of par@@ ph@@ gen@@ er \"\"\"\n",
      "\n",
      "inp_line what is the po@@ wer@@ train ( engine / transmission ) when the order year is 2000 ?\n",
      "real query \" SELECT col4 FROM table_1_1000@@ 745@@ 2_3 WHERE col0 = \"\" 2000 \"\"\"\n",
      "generated query \" SELECT COUNT ( col0 ) FROM table_1_15@@ 4319@@ 59_1 WHERE col2 = \"\" steve pat@@ e \"\"\"\n",
      "\n",
      "inp_line what if the description of a ch - 4@@ 7@@ d ch@@ ino@@ ok ?\n",
      "real query \" SELECT col1 FROM table_1_1000@@ 68@@ 30_1 WHERE col0 = \"\" ch - 47@@ d chin@@ oo@@ k \"\"\"\n",
      "generated query \" SELECT col3 FROM table_1_10@@ 399@@ 70@@ 1_2 WHERE col1 = \"\" i ' s ab@@ over@@ land - d - west \"\"\"\n",
      "\n",
      "inp_line what is the max gross weight of the robinson r - 22 ?\n",
      "real query \" SELECT col2 FROM table_1_1000@@ 68@@ 30_1 WHERE col0 = \"\" robinson r - 22 \"\"\"\n",
      "generated query \" SELECT COUNT ( col6 ) FROM table_1_104@@ 20@@ 426_1 WHERE col0 = \"\" 2nd , p@@ um \"\"\"\n",
      "\n",
      "inp_line what school did player number 6 come from ?\n",
      "real query \" SELECT col5 FROM table_1_100151@@ 32_1 WHERE col1 = \"\" 6 \"\"\"\n",
      "generated query \" SELECT col5 FROM table_1_104700@@ 82@@ _8 WHERE col4 = \"\" jim morris \"\"\"\n",
      "\n",
      "inp_line what school did the player that has been in toronto from 2012 - present come from ?\n",
      "real query \" SELECT col5 FROM table_1_100151@@ 32_1 WHERE col4 = \"\" 2012 - pres@@ ent \"\"\"\n",
      "generated query \" SELECT col2 FROM table_1_169@@ 840@@ 1_1 WHERE col0 = \"\" richmond \"\"\"\n",
      "\n",
      "inp_line what school did the player that has been in toronto from 2010 - 2012 go to ?\n",
      "real query \" SELECT col5 FROM table_1_100151@@ 32_1 WHERE col4 = \"\" 2010 - 2012 \"\"\"\n",
      "generated query \" SELECT col4 FROM table_1_276@@ 835@@ 16_3 WHERE col3 = \"\" 21 december 2010 \"\"\"\n",
      "\n",
      "inp_line what position did the player from baylor play ?\n",
      "real query \" SELECT col3 FROM table_1_100151@@ 32_1 WHERE col5 = \"\" ba@@ ylor \"\"\"\n",
      "generated query \" SELECT col0 FROM table_1_10@@ 6@@ 367_2 WHERE col4 = \"\" bobby de@@ as@@ l@@ l@@ l@@ l@@ l@@ l@@ l@@ l@@ l@@ f , italy \"\"\"\n",
      "\n",
      "inp_line who played in the toronto raptors from 1995 - 96 ?\n",
      "real query \" SELECT col0 FROM table_1_10015132@@ _14 WHERE col4 = \"\" 1995 - 96 \"\"\"\n",
      "generated query \" SELECT col0 FROM table_2_180@@ 8254@@ 1_2 WHERE col2 = \"\" 2 . 0 \"\"\"\n",
      "\n",
      "inp_line which number was patrick o ' bryant ?\n",
      "real query \" SELECT col1 FROM table_1_10015132@@ _14 WHERE col0 = \"\" patrick o ' bryant \"\"\"\n",
      "generated query \" SELECT col2 FROM table_1_249@@ 61@@ 421_1 WHERE col3 = \"\" peter ma@@ ir \"\"\"\n",
      "\n",
      "inp_line what school did patrick o ' bryant play for ?\n",
      "real query \" SELECT col5 FROM table_1_10015132@@ _14 WHERE col0 = \"\" patrick o ' bryant \"\"\"\n",
      "generated query \" SELECT col2 FROM table_2_1441790@@ 6_11 WHERE col4 = \"\" 1 \"\"\"\n",
      "\n",
      "inp_line how many number does for@@ d@@ ham school have ?\n",
      "real query \" SELECT COUNT ( col1 ) FROM table_1_10015132@@ _14 WHERE col5 = \"\" for@@ d@@ ham \"\"\"\n",
      "generated query \" SELECT col1 FROM table_1_108129@@ 38_5 WHERE col4 = \"\" st . franc@@ is x@@ at@@ ch \"\"\"\n",
      "\n"
     ]
    }
   ],
   "source": [
    "for inp_line, query, generated_query in zip(train_inp[:20], train_out[:20], model.translate_lines(train_inp[::20])[0]):\n",
    "    print(\"inp_line\", inp_line)\n",
    "    print(\"real query\", query)\n",
    "    print(\"generated query\", generated_query)\n",
    "    print()"
   ]
  },
  {
   "cell_type": "code",
   "execution_count": 29,
   "metadata": {},
   "outputs": [
    {
     "name": "stdout",
     "output_type": "stream",
     "text": [
      "inp_line what is ter@@ r@@ ence ross ' nationality\n",
      "real query \" SELECT col2 FROM table_1_10015132_16 WHERE col0 = \"\" ter@@ rence ross \"\"\"\n",
      "generated query \" SELECT col3 FROM table_1_150@@ 51_4 WHERE col0 = \"\" bur@@ ray cent@@ r@@ sh@@ in \"\"\"\n",
      "\n",
      "inp_line what cl@@ u was in toronto 1995 - 96\n",
      "real query \" SELECT col5 FROM table_1_10015132_16 WHERE col4 = \"\" 1995 - 96 \"\"\"\n",
      "generated query \" SELECT col0 FROM table_1_24@@ 15@@ 95@@ 88_1 WHERE col3 = \"\" ali@@ tan an@@ ent college \"\"\"\n",
      "\n",
      "inp_line which club was in toronto 2003 - 06\n",
      "real query \" SELECT col5 FROM table_1_10015132_16 WHERE col4 = \"\" 2003 - 06 \"\"\"\n",
      "generated query \" SELECT col4 FROM table_1_238@@ 352@@ 13_2 WHERE col2 = \"\" 19@@ 10 - 12 \"\"\"\n",
      "\n",
      "inp_line how many schools or teams had j@@ al@@ en rose\n",
      "real query \" SELECT COUNT ( col5 ) FROM table_1_10015132_16 WHERE col0 = \"\" ja@@ len rose \"\"\"\n",
      "generated query \" SELECT MAX ( col3 ) FROM table_2_1714@@ 35@@ 67_1 WHERE col1 = \"\" carl m@@ jer@@ u stadium \"\"\"\n",
      "\n",
      "inp_line where was ass@@ en held ?\n",
      "real query \" SELECT col2 FROM table_1_100@@ 83@@ 59@@ 8_1 WHERE col3 = \"\" a@@ ssen \"\"\"\n",
      "generated query \" SELECT col4 FROM table_2_1099@@ 6@@ 329_1 WHERE col2 = \"\" lb \"\"\"\n",
      "\n",
      "inp_line what was the number of race that kevin cur@@ tain won ?\n",
      "real query \" SELECT COUNT ( col0 ) FROM table_1_100@@ 83@@ 59@@ 8_1 WHERE col4 = \"\" kevin cur@@ tain \"\"\"\n",
      "generated query \" SELECT col0 FROM table_1_10@@ 41@@ 39@@ 6_1 WHERE col3 = \"\" 2nd \"\"\"\n",
      "\n",
      "inp_line what was the date of the race in mis@@ ano ?\n",
      "real query \" SELECT col1 FROM table_1_100@@ 83@@ 59@@ 8_1 WHERE col3 = \"\" mi@@ san@@ o \"\"\"\n",
      "generated query \" SELECT MAX ( col6 ) FROM table_1_12@@ 608@@ 42@@ 7_8 WHERE col3 = \"\" left con \"\"\"\n",
      "\n",
      "inp_line how many different positions did sher@@ bro@@ o@@ ke f@@ au@@ cons ( qmjhl ) provi@@ de in the draft ?\n",
      "real query \" SELECT COUNT ( col2 ) FROM table_1_101312@@ 9_2 WHERE col5 = \"\" sher@@ broo@@ ke f@@ au@@ con@@ s ( q@@ m@@ j@@ hl )\"\"\"\n",
      "generated query \" SELECT col2 FROM table_1_1013@@ 129_1 WHERE col3 = \"\" new zealand ons \"\"\"\n",
      "\n",
      "inp_line what are the nationalities of the player picked from thunder bay flyers ( ushl )\n",
      "real query \" SELECT col3 FROM table_1_101312@@ 9_2 WHERE col5 = \"\" th@@ under bay flyers ( ush@@ l )\"\"\"\n",
      "generated query \" SELECT col2 FROM table_2_1140@@ 59@@ 7_1 WHERE col3 = \"\" michael le@@ her@@ t \"\"\"\n",
      "\n",
      "inp_line how many different college / junior / club teams provided a player to the washington capit@@ als nhl team ?\n",
      "real query \" SELECT COUNT ( col5 ) FROM table_1_101312@@ 9_2 WHERE col4 = \"\" washington cap@@ ita@@ ls \"\"\"\n",
      "generated query \" SELECT col4 FROM table_1_100151@@ 32_2 WHERE col0 = \"\" wa@@ d@@ ian hu@@ ire@@ l@@ us - se@@ si@@ onal \"\"\"\n",
      "\n",
      "inp_line how many different nationalities do the players of new jersey devils come from ?\n",
      "real query \" SELECT COUNT ( col3 ) FROM table_1_1013129_3 WHERE col4 = \"\" new jersey de@@ vils \"\"\"\n",
      "generated query \" SELECT COUNT ( col1 ) FROM table_1_25@@ 64@@ 20@@ 86_4 WHERE col4 = \"\" 11 . 92 \"\"\"\n",
      "\n",
      "inp_line what ' s dor@@ ain an@@ neck ' s pick number ?\n",
      "real query \" SELECT col0 FROM table_1_1013129_3 WHERE col1 = \"\" d@@ or@@ ain anne@@ ck \"\"\"\n",
      "generated query \" SELECT col5 FROM table_1_2@@ 7515@@ 45@@ 2_3 WHERE col5 = \"\" 95 . 54 \"\"\"\n",
      "\n",
      "inp_line what is the nationality of the player from vancouver canucks ?\n",
      "real query \" SELECT col3 FROM table_1_1013129_3 WHERE col4 = \"\" vancouver canucks \"\"\"\n",
      "generated query \" SELECT col2 FROM table_2_12@@ 175@@ 755_1 WHERE col1 = \"\" mo@@ gi@@ u \"\"\"\n",
      "\n",
      "inp_line what ' s the pick number of the player from springfield olympics ( ne@@ jhl )?\n",
      "real query \" SELECT col0 FROM table_1_1013129_3 WHERE col5 = \"\" sp@@ ring@@ field olymp@@ ics ( ne@@ j@@ hl )\"\"\"\n",
      "generated query \" SELECT col4 FROM table_1_2699629@@ 3_1 WHERE col4 = \"\" van o ' ar@@ y@@ lin@@ da \"\"\"\n",
      "\n",
      "inp_line when were the ships launched that were laid down on september 1 , 1964 ?\n",
      "real query \" SELECT col3 FROM table_1_1014206_2 WHERE col2 = \"\" september 1 , 1964 \"\"\"\n",
      "generated query \" SELECT col2 FROM table_2_10@@ 6179@@ 25_2 WHERE col3 = \"\" or@@ tu@@ n esp \"\"\"\n",
      "\n",
      "inp_line list the # for ships commissioned on december 18 , 1965 .\n",
      "real query \" SELECT col0 FROM table_1_1014206_2 WHERE col4 = \"\" december 18 , 1965 \"\"\"\n",
      "generated query \" SELECT col1 FROM table_2_122@@ 825@@ 6_1 WHERE col2 = \"\" al - un@@ ta@@ te s@@ li@@ z@@ ov \"\"\"\n",
      "\n",
      "inp_line list the # for ships commissioned on september 30 , 1967 .\n",
      "real query \" SELECT col0 FROM table_1_1014206_2 WHERE col4 = \"\" september 30 , 1967 \"\"\"\n",
      "generated query \" SELECT col2 FROM table_1_192@@ 46_1 WHERE col0 = \"\" ge@@ off@@ ten@@ v 1 , central \"\"\"\n",
      "\n",
      "inp_line when were ships laid down that were commissioned on october 29 , 1965 ?\n",
      "real query \" SELECT col2 FROM table_1_1014206_2 WHERE col4 = \"\" october 29 , 1965 \"\"\"\n",
      "generated query \" SELECT col5 FROM table_2_16@@ 10@@ 34@@ 1_6 WHERE col1 = \"\" 1968 ( 19 : 43 \"\"\"\n",
      "\n",
      "inp_line what could a spanish cor@@ on@@ el be add@@ res@@ s@@ ed as in the commonwealth military ?\n",
      "real query \" SELECT col3 FROM table_1_1015521_2 WHERE col1 = \"\" cor@@ on@@ el \"\"\"\n",
      "generated query \" SELECT col1 FROM table_1_1679978@@ 4_2 WHERE col2 = \"\" 49 : 38 \"\"\"\n",
      "\n",
      "inp_line give me a list of all spanish officer titles that could receive recogn@@ ition as group captain in english\n",
      "real query \" SELECT col2 FROM table_1_1015521_2 WHERE col3 = \"\" group cap@@ tain \"\"\"\n",
      "generated query \" SELECT col7 FROM table_1_15@@ 416@@ 00@@ 2_1 WHERE col0 = \"\" er@@ by@@ re@@ n davis \"\"\"\n",
      "\n"
     ]
    }
   ],
   "source": [
    "for inp_line, query, generated_query in zip(test_inp[:20], test_out[:20], model.translate_lines(test_inp[::20])[0]):\n",
    "    print(\"inp_line\", inp_line)\n",
    "    print(\"real query\", query)\n",
    "    print(\"generated query\", generated_query)\n",
    "    print()"
   ]
  },
  {
   "cell_type": "code",
   "execution_count": null,
   "metadata": {},
   "outputs": [],
   "source": [
    "candidate_list = []\n",
    "reference_list = []\n",
    "\n",
    "for inp_line, query, generated_query in zip(test_inp, test_out, model.translate_lines(test_inp)[0]):\n",
    "    candidate_list.append(generated_query)\n",
    "    reference_list.append(query)"
   ]
  },
  {
   "cell_type": "markdown",
   "metadata": {},
   "source": [
    "## Metrcic: accuracy\n",
    "+1 к accuracy, если последовательность символов в запросе полностью совпадает с оригиналом"
   ]
  },
  {
   "cell_type": "code",
   "execution_count": 114,
   "metadata": {},
   "outputs": [],
   "source": [
    "def is_all_same(c1, c2):\n",
    "    if len(c1) == len(c2):\n",
    "        all_same = True\n",
    "        for j in range(len(c1)):\n",
    "            if c1[j] != c2[j]:\n",
    "                all_same = False\n",
    "                break\n",
    "        return all_same\n",
    "    else:\n",
    "        return False\n",
    "\n",
    "\n",
    "def compute_accuracy(candidate_list, reference_list):\n",
    "    if len(candidate_list) != len(reference_list):\n",
    "        print(\"candidate list has length {}, reference list has length {}\\n\".format(len(candidate_list), len(reference_list)))\n",
    "\n",
    "    len_min = min(len(candidate_list), len(reference_list))\n",
    "    c = 0\n",
    "    for i in range(len_min):\n",
    "        #print(candidate_list[i])\n",
    "        #print(reference_list[i])\n",
    "        if is_all_same(candidate_list[i], reference_list[i]):\n",
    "            #print(\"above was all same\")\n",
    "            c = c+1\n",
    "    return c/float(len_min)"
   ]
  },
  {
   "cell_type": "code",
   "execution_count": 115,
   "metadata": {},
   "outputs": [
    {
     "data": {
      "text/plain": [
       "0.5871886120996441"
      ]
     },
     "execution_count": 115,
     "metadata": {},
     "output_type": "execute_result"
    }
   ],
   "source": [
    "compute_accuracy(candidate_list, reference_list)"
   ]
  },
  {
   "cell_type": "markdown",
   "metadata": {},
   "source": [
    "### Attention"
   ]
  },
  {
   "cell_type": "markdown",
   "metadata": {},
   "source": [
    "После работы энкодера есть последовательность его скрытых состояний, каждое из которых относиться к токену входной последовательности $ h^e_0, h^e_1, h^e_2, ..., h^e_T$ \n",
    "Также есть скрытое состояние декодера с прошлого шага $h^d$,\n",
    "\n",
    "* Считаем вот такое\n",
    "$$a_t = linear_{out}(tanh(linear_{e}(h^e_t) + linear_{d}(h_d)))$$\n",
    "* Считаем вес, с которым каждое слово во входной последовательности повлияет на декодер state.\n",
    "$$ p_t = {{e ^ {a_t}} \\over { \\sum_\\tau e^{a_\\tau} }} $$\n",
    "\n",
    "* Добавляем ко внутренему состоянию декодера на предыдущем шаге взвешенную сумму внутренних состояний энкодера.\n",
    "$$ attn = \\sum_t p_t \\cdot h^e_t $$\n",
    "\n",
    "Чуть подробнее тут(https://distill.pub/2016/augmented-rnns/)."
   ]
  },
  {
   "cell_type": "code",
   "execution_count": 116,
   "metadata": {
    "collapsed": true
   },
   "outputs": [],
   "source": [
    "class AttentionLayer:\n",
    "    def __init__(self, name, enc_size, dec_size, hid_size, activ=tf.tanh,):\n",
    "\n",
    "        self.name = name\n",
    "        self.enc_size = enc_size \n",
    "        self.dec_size = dec_size \n",
    "        self.hid_size = hid_size \n",
    "        self.activ = activ       \n",
    "\n",
    "        with tf.variable_scope(name):\n",
    "            \n",
    "            self.linear_enc = L.Dense(hid_size)\n",
    "            self.linear_dec = L.Dense(hid_size)\n",
    "            self.out = L.Dense(1)\n",
    "\n",
    "            # prepare to translate_lines\n",
    "            self.inp = tf.placeholder('int32', [None, None])\n",
    "\n",
    "    def __call__(self, enc, dec, inp_mask):\n",
    "        with tf.variable_scope(self.name):\n",
    "            \n",
    "            \n",
    "            adds = self.linear_enc(enc) + self.linear_dec(dec)[:, None, :]\n",
    "            tanh = tf.tanh(adds)\n",
    "            logits = self.out(adds)[:, :, 0]\n",
    "            print (logits.shape)\n",
    "\n",
    "            \n",
    "           \n",
    "            a = tf.equal(inp_mask, 0.0)\n",
    "            b = logits\n",
    "            c = tf.fill(tf.shape(logits), -1e9)\n",
    "            \n",
    "            logits = tf.where(a, logits, tf.fill(tf.shape(logits), -1e9))\n",
    "            \n",
    "            probs = tf.nn.softmax(logits)\n",
    "            \n",
    "           \n",
    "            attn = tf.reduce_sum(tf.multiply(enc,probs), axis=2)\n",
    "            attn = tf.reduce_sum(probs[:, :, None] * enc, axis=1)\n",
    "            \n",
    "            return attn, probs"
   ]
  },
  {
   "cell_type": "markdown",
   "metadata": {},
   "source": [
    "### Seq2seq с вниманием(attention)\n"
   ]
  },
  {
   "cell_type": "code",
   "execution_count": 117,
   "metadata": {
    "collapsed": true
   },
   "outputs": [],
   "source": [
    "class AttentiveModel(BasicModel):\n",
    "    def __init__(self, name, inp_voc, out_voc,\n",
    "                 emb_size=64, hid_size=128, attn_size=128):\n",
    "        self.name = name\n",
    "        self.inp_voc = inp_voc\n",
    "        self.out_voc = out_voc\n",
    "\n",
    "        with tf.variable_scope(name):\n",
    "            \n",
    "            \n",
    "            self.emb_inp = L.Embedding(len(inp_voc), emb_size)\n",
    "            self.emb_out = L.Embedding(len(out_voc), emb_size)\n",
    "            self.enc0 = tf.nn.rnn_cell.GRUCell(hid_size)\n",
    "            \n",
    "            self.attn_layer = AttentionLayer(\"attn1\", emb_size, emb_size, hid_size)\n",
    "\n",
    "            self.dec_start = L.Dense(hid_size)\n",
    "            self.dec0 = tf.nn.rnn_cell.GRUCell(hid_size)\n",
    "            self.logits = L.Dense(len(out_voc))\n",
    "\n",
    "            self.inp = tf.placeholder('int32', [None, None])\n",
    "            self.initial_state = self.prev_state = self.encode(self.inp)\n",
    "            self.prev_tokens = tf.placeholder('int32', [None])\n",
    "            self.next_state, self.next_logits = self.decode(self.prev_state, self.prev_tokens)\n",
    "        \n",
    "        self.weights = tf.get_collection(tf.GraphKeys.TRAINABLE_VARIABLES, scope=name)\n",
    "        \n",
    "\n",
    "    def encode(self, inp, **flags):\n",
    "        # encode input sequence, create initial decoder states\n",
    "        inp_lengths = infer_length(inp, self.inp_voc.eos_ix)\n",
    "        inp_mask_ = infer_mask(inp, self.inp_voc.eos_ix)\n",
    "        inp_emb = self.emb_inp(inp)\n",
    "        with tf.variable_scope('enc0'):\n",
    "            _, enc_last = tf.nn.dynamic_rnn(\n",
    "                              self.enc0, inp_emb,\n",
    "                              sequence_length=inp_lengths,\n",
    "                              dtype = inp_emb.dtype)\n",
    "        \n",
    "        print (\"enc_last shape \", _.shape)\n",
    "        dec_start = self.dec_start(enc_last)\n",
    "        print (\"enc_last shape \", dec_start.shape)\n",
    "        \n",
    "        #!!! Attention мы добавляем в энкодер. Вот тут вся разница\n",
    "        first_attn, first_attn_probas = self.attn_layer(inp_emb, dec_start, inp_mask_)\n",
    "        \n",
    "        first_state = [dec_start, inp_emb, inp_mask_, first_attn_probas]\n",
    "        return first_state\n",
    "\n",
    "    def decode(self, prev_state, prev_tokens, **flags):\n",
    "       \n",
    "        [dec_start, inp_emb, inp_mask_, first_attn_probas] = prev_state\n",
    "        \n",
    "        \n",
    "        next_attn_response, next_attn_probas = self.attn_layer(inp_emb, dec_start, inp_mask_)\n",
    "        \n",
    "        prev_emb = self.emb_out(prev_tokens[:,None])[:,0]\n",
    "        \n",
    "        print (\"shapes\", prev_emb.shape, next_attn_response.shape)\n",
    "        \n",
    "        with tf.variable_scope('dec0'):\n",
    "            aaa = tf.concat([next_attn_response, prev_emb], axis=-1)\n",
    "            new_dec_out, new_dec_state = self.dec0(aaa, dec_start)\n",
    "        output_logits = self.logits(new_dec_out)\n",
    "\n",
    "        next_state = [new_dec_state, inp_emb, inp_mask_, next_attn_probas]\n",
    "        return next_state, output_logits\n"
   ]
  },
  {
   "cell_type": "code",
   "execution_count": 118,
   "metadata": {},
   "outputs": [
    {
     "name": "stdout",
     "output_type": "stream",
     "text": [
      "enc_last shape  (?, ?, 128)\n",
      "enc_last shape  (?, 128)\n",
      "(?, ?)\n",
      "(?, ?)\n",
      "shapes (?, 64) (?, 64)\n"
     ]
    }
   ],
   "source": [
    "tf.reset_default_graph()\n",
    "sess = tf.InteractiveSession()\n",
    "model = AttentiveModel('model_attn', inp_voc, out_voc)"
   ]
  },
  {
   "cell_type": "markdown",
   "metadata": {},
   "source": [
    "### Training attentive model\n",
    "\n",
    "We'll reuse the infrastructure you've built for the regular model. I hope you didn't hard-code anything :)"
   ]
  },
  {
   "cell_type": "code",
   "execution_count": 119,
   "metadata": {},
   "outputs": [
    {
     "name": "stdout",
     "output_type": "stream",
     "text": [
      "enc_last shape  (?, ?, 128)\n",
      "enc_last shape  (?, 128)\n",
      "(?, ?)\n",
      "(?, ?)\n",
      "shapes (?, 64) (?, 64)\n",
      "inp shape (?, ?)\n",
      "logits_seq.shape (?, ?, 70)\n",
      "logits_seq.shape (?, ?, 70)\n"
     ]
    }
   ],
   "source": [
    "inp = tf.placeholder('int32', [None, None])\n",
    "out = tf.placeholder('int32', [None, None])\n",
    "\n",
    "loss = compute_loss(model, inp, out)\n",
    "train_step = tf.train.AdamOptimizer().minimize(loss)"
   ]
  },
  {
   "cell_type": "code",
   "execution_count": 120,
   "metadata": {
    "collapsed": true
   },
   "outputs": [],
   "source": [
    "metrics = {'train_loss': []}\n",
    "sess.run(tf.global_variables_initializer())\n",
    "batch_size = 64"
   ]
  },
  {
   "cell_type": "code",
   "execution_count": null,
   "metadata": {},
   "outputs": [
    {
     "data": {
      "image/png": "[encoded data removed]",
      "text/plain": [
       "<Figure size 864x288 with 1 Axes>"
      ]
     },
     "metadata": {
      "needs_background": "light"
     },
     "output_type": "display_data"
    },
    {
     "name": "stdout",
     "output_type": "stream",
     "text": [
      "Mean loss=0.097\n"
     ]
    },
    {
     "name": "stderr",
     "output_type": "stream",
     "text": [
      " 59%|█████▊    | 1467/2500 [04:39<03:16,  5.26it/s]"
     ]
    }
   ],
   "source": [
    "for _ in trange(2500):\n",
    "    step = len(metrics['train_loss']) + 1\n",
    "    batch_ix = np.random.randint(len(train_inp), size=batch_size)\n",
    "    feed_dict = {\n",
    "        inp: inp_voc.to_matrix(train_inp[batch_ix]),\n",
    "        out: out_voc.to_matrix(train_out[batch_ix]),\n",
    "    }\n",
    "    \n",
    "    loss_t, _ = sess.run([loss, train_step], feed_dict)\n",
    "    metrics['train_loss'].append((step, loss_t))\n",
    "    \n",
    "    if step % 100 == 0:\n",
    "        \n",
    "        clear_output(True)\n",
    "        plt.figure(figsize=(12,4))\n",
    "        for i, (name, history) in enumerate(sorted(metrics.items())):\n",
    "            plt.subplot(1, len(metrics), i + 1)\n",
    "            plt.title(name)\n",
    "            plt.plot(*zip(*history))\n",
    "            plt.grid()\n",
    "        plt.show()\n",
    "        print(\"Mean loss=%.3f\" % np.mean(metrics['train_loss'][-10:], axis=0)[1], flush=True)\n",
    "        "
   ]
  },
  {
   "cell_type": "markdown",
   "metadata": {},
   "source": [
    "## Посмотрим, что вышло -2"
   ]
  },
  {
   "cell_type": "code",
   "execution_count": 81,
   "metadata": {},
   "outputs": [
    {
     "name": "stdout",
     "output_type": "stream",
     "text": [
      "inp_line where is c0\n",
      "real query ( lambda $ 0 e ( loc : t c0 $ 0 ) )\n",
      "generated query ( lambda $ 0 e ( loc : t c0 $ 0 ) )\n",
      "\n",
      "inp_line river in s0\n",
      "real query ( lambda $ 0 e ( and ( river : t $ 0 ) ( loc : t $ 0 s0 ) ) )\n",
      "generated query ( population : i c0 )\n",
      "\n",
      "inp_line where are mountain\n",
      "real query ( lambda $ 0 e ( exists $ 1 ( and ( mountain : t $ 1 ) ( loc : t $ 1 $ 0 ) ) ) )\n",
      "generated query ( count $ 0 ( and ( state : t $ 0 ) ( next_to : t $ 0 s0 ) ) )\n",
      "\n",
      "inp_line where is c0\n",
      "real query ( lambda $ 0 e ( loc : t c0 $ 0 ) )\n",
      "generated query ( argmax $ 0 ( and ( city : t $ 0 ) ( loc : t $ 0 s0 ) ) ( size : i $ 0 ) )\n",
      "\n",
      "inp_line what state border s0\n",
      "real query ( lambda $ 0 e ( and ( state : t $ 0 ) ( next_to : t $ 0 s0 ) ) )\n",
      "generated query ( argmax $ 0 ( state : t $ 0 ) ( count $ 1 ( and ( state : t $ 1 ) ( loc : t $ 0 $ 1 ) ) ) )\n",
      "\n",
      "inp_line what state border s0\n",
      "real query ( lambda $ 0 e ( and ( state : t $ 0 ) ( next_to : t $ 0 s0 ) ) )\n",
      "generated query ( argmax $ 0 ( and ( place : t $ 0 ) ( loc : t $ 0 ( argmax $ 1 ( state : t $ 1 ) ( population : i $ 1 ) ) ) ) ( elevation : i $ 0 ) )\n",
      "\n"
     ]
    }
   ],
   "source": [
    "for inp_line, query, generated_query in zip(test_inp[:50], test_out[:50], model.translate_lines(test_inp[::50])[0]):\n",
    "    print(\"inp_line\", inp_line)\n",
    "    print(\"real query\", query)\n",
    "    print(\"generated query\", generated_query)\n",
    "    print()"
   ]
  },
  {
   "cell_type": "code",
   "execution_count": 82,
   "metadata": {},
   "outputs": [],
   "source": [
    "candidate_list = []\n",
    "reference_list = []\n",
    "\n",
    "for inp_line, query, generated_query in zip(test_inp, test_out, model.translate_lines(test_inp)[0]):\n",
    "    candidate_list.append(generated_query)\n",
    "    reference_list.append(query)"
   ]
  },
  {
   "cell_type": "code",
   "execution_count": 83,
   "metadata": {},
   "outputs": [
    {
     "data": {
      "text/plain": [
       "0.5836298932384342"
      ]
     },
     "execution_count": 83,
     "metadata": {},
     "output_type": "execute_result"
    }
   ],
   "source": [
    "compute_accuracy(candidate_list, reference_list)"
   ]
  },
  {
   "cell_type": "markdown",
   "metadata": {},
   "source": [
    "чуть лучше"
   ]
  },
  {
   "cell_type": "markdown",
   "metadata": {},
   "source": [
    "## А что не так?\n",
    "\n",
    "* Машинные запросы \"жестче\", чем реальная речь. То есть если человек понимает магиста Йоду, машина вот такой запрос \n",
    "\n",
    "$) \\lambda $ 0 e ( loc : t 0 $ c0 ( )$\n",
    "\n",
    "вместо\n",
    "\n",
    "$( \\lambda $ 0 e ( loc : t c0 $/$$ 0 ) )$\n",
    "\n",
    "понять уже не сможет\n",
    "\n",
    "* Более того, одна ошибка - и запрос не выполнится\n",
    "\n",
    "* Вышестоящая моделька выучиласть открывать/закрывать скобки, но обычно в seq2seq моделях это проблема.\n"
   ]
  },
  {
   "cell_type": "markdown",
   "metadata": {},
   "source": [
    "## Seq2Tree model"
   ]
  },
  {
   "cell_type": "markdown",
   "metadata": {},
   "source": [
    "* У логического выражения иерархическая структура\n",
    "\n",
    "<img src=\"files/hierarical.png\">\n",
    "\n",
    "* В отличи от seq2seq, где каждый последующий в пространстве шаг зависит от предыдущего и неявно от всего входа(если attention), в иерархической структуре дети должны зависеть только от родителей и бабушек с дедушками, но не от сиблингов и тем более от \"двоюродных братьев\". Время вылета в запросе не зависит от города вылета\n",
    "\n",
    "* Поэтому генерация проходит следующим образом:\n",
    "\n",
    "В набор символов добавляется новый символ n, что означает начало дерева. \n",
    "\n",
    "Если выпал символ n, в следующее состояние передается не скрытое состояние n, а сумма всех состояний, сгенерированных на этом уровне до этого момента\n",
    "<img src=\"files/tree_generate.png\">\n",
    "\n",
    "* Loss - такой же, accuracy - так же"
   ]
  },
  {
   "cell_type": "markdown",
   "metadata": {},
   "source": [
    "## SQL запросы (WikiSQL)\n",
    "\n",
    "* Qw: What record company did conductor Mikhail Snitko record for after 1996?\n",
    "\n",
    "  Qu: SELECT Record Company WHERE (Year of Recording > 1996) AND (Conductor = Mikhail Snitko)\n",
    "  \n",
    "* Aggregation operation: SVG, COUNT, MIN, MAX, SUM (\"How many\" -> COUNT)"
   ]
  },
  {
   "cell_type": "markdown",
   "metadata": {},
   "source": [
    "## RL approach\n",
    "\n",
    "<img src=\"files/rl.png\">\n",
    "\n",
    "* предсказываем aggregation operation как возможный ответ классификатора ($Loss_{agg}$ - cross-entropy)\n",
    "* предсказываем название колонки (SELECT) как возможный ответ классификатора ($Loss_{sel}$ - cross-entropy)\n",
    "* предсказываем WHERE clause как последовательность. \n",
    "  \n",
    "  Эта последовательность должна выполняться. \n",
    "  \n",
    "  Если предсказанная последовательность невыполнима, reward = -2, если выполнима, но дает неверный ответ, -1; если выполнима и дает верный ответ, +1\n",
    "  \n",
    "  $Loss_{where}$ = -среднее reward по батчу\n",
    "  \n",
    "* Loss = $Loss_{agg}$ + $Loss_{sel}$ + $Loss_{where}$"
   ]
  },
  {
   "cell_type": "markdown",
   "metadata": {},
   "source": [
    "**Почему reward, а не кросс-энтропия?**\n",
    "\n",
    "запросы\n",
    "\n",
    "**SELECT name FROM insurance WHERE age > 18 AND gender = \"male\"** \n",
    "\n",
    "**SELECT name FROM insurance WHERE gender = \"male\" AND age > 18**\n",
    "\n",
    " дают одинаковый верный результат, но один из них, например, совпадает с ответом из датасета, а другой нет. Вопорос на естественном языке **не взаимно однозначно** связан с его SQL-формой."
   ]
  },
  {
   "cell_type": "markdown",
   "metadata": {},
   "source": [
    "## Coarse-to-fine"
   ]
  },
  {
   "cell_type": "markdown",
   "metadata": {},
   "source": [
    "**Qwestion: What record company did conductor Mikhail Snitko record for after 1996?**\n",
    "\n",
    "**Expected query: SELECT Record Company WHERE (Year of Recording > 1996) AND (Conductor = Mikhail Snitko)**\n",
    "\n",
    "* Энкодим входной вопрос на естественном языке\n",
    "\n",
    "* Агррегатор и название колонки - классификатор на LSTM_encoder\n",
    "\n",
    "* декодим скетч \"WHERE > AND = \"\n",
    "\n",
    "* енкодим скетч\n",
    "\n",
    "* декодим полный WHERE clause \"SELECT Record Company WHERE (Year of Recording > 1996) AND (Conductor = Mikhail Snitko)\"\n",
    "\n",
    "* Profit!!!"
   ]
  },
  {
   "cell_type": "markdown",
   "metadata": {},
   "source": [
    "Дальнейшие работы: генерировать where clause, которых нет в трейне"
   ]
  },
  {
   "cell_type": "code",
   "execution_count": null,
   "metadata": {},
   "outputs": [],
   "source": []
  }
 ],
 "metadata": {
  "kernelspec": {
   "display_name": "Python 3",
   "language": "python",
   "name": "python3"
  },
  "language_info": {
   "codemirror_mode": {
    "name": "ipython",
    "version": 3
   },
   "file_extension": ".py",
   "mimetype": "text/x-python",
   "name": "python",
   "nbconvert_exporter": "python",
   "pygments_lexer": "ipython3",
   "version": "3.6.6"
  }
 },
 "nbformat": 4,
 "nbformat_minor": 2
}
