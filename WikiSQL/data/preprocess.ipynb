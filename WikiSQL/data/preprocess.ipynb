{
 "cells": [
  {
   "cell_type": "code",
   "execution_count": 3,
   "metadata": {},
   "outputs": [
    {
     "ename": "ModuleNotFoundError",
     "evalue": "No module named 'lib.table'",
     "output_type": "error",
     "traceback": [
      "\u001b[1;31m---------------------------------------------------------------------------\u001b[0m",
      "\u001b[1;31mModuleNotFoundError\u001b[0m                       Traceback (most recent call last)",
      "\u001b[1;32m<ipython-input-3-6d868b83253b>\u001b[0m in \u001b[0;36m<module>\u001b[1;34m()\u001b[0m\n\u001b[0;32m      5\u001b[0m \u001b[0mcursor\u001b[0m \u001b[1;33m=\u001b[0m \u001b[0mconn\u001b[0m\u001b[1;33m.\u001b[0m\u001b[0mcursor\u001b[0m\u001b[1;33m(\u001b[0m\u001b[1;33m)\u001b[0m\u001b[1;33m\u001b[0m\u001b[0m\n\u001b[0;32m      6\u001b[0m \u001b[1;33m\u001b[0m\u001b[0m\n\u001b[1;32m----> 7\u001b[1;33m \u001b[1;32mfrom\u001b[0m \u001b[0mlib\u001b[0m\u001b[1;33m.\u001b[0m\u001b[0mtable\u001b[0m \u001b[1;32mimport\u001b[0m \u001b[0mTable\u001b[0m\u001b[1;33m\u001b[0m\u001b[0m\n\u001b[0m\u001b[0;32m      8\u001b[0m \u001b[0mi\u001b[0m \u001b[1;33m=\u001b[0m \u001b[1;36m0\u001b[0m\u001b[1;33m\u001b[0m\u001b[0m\n\u001b[0;32m      9\u001b[0m \u001b[0mid_names\u001b[0m \u001b[1;33m=\u001b[0m \u001b[1;33m{\u001b[0m\u001b[1;33m}\u001b[0m\u001b[1;33m\u001b[0m\u001b[0m\n",
      "\u001b[1;31mModuleNotFoundError\u001b[0m: No module named 'lib.table'"
     ]
    }
   ],
   "source": [
    "import sqlite3\n",
    "import sqlite3\n",
    " \n",
    "conn = sqlite3.connect(\"dev.db\")\n",
    "cursor = conn.cursor()\n",
    "\n",
    "from lib.table import Table\n",
    "i = 0\n",
    "id_names = {}\n",
    "with jsonlines.open('dev.tables.jsonl') as reader:\n",
    "    for obj in reader:\n",
    "        my_table = Table(table_id = obj[\"id\"], header = obj['header'], types = obj['types'], rows = obj['rows'])\n",
    "        id_names[obj[\"id\"]] = my_table.name\n",
    "        if (i < 20):\n",
    "            i = i+1\n",
    "            print (obj[\"id\"])\n",
    "            print (obj['header'])\n",
    "            print (obj['rows'])\n",
    "            print (my_table.name)\n",
    "            #print (my_table.get_schema(conn, obj[\"id\"]))\n",
    "            print()\n",
    "            "
   ]
  },
  {
   "cell_type": "code",
   "execution_count": 19,
   "metadata": {},
   "outputs": [
    {
     "name": "stdout",
     "output_type": "stream",
     "text": [
      "What position does the player who played for butler cc (ks) play?\n",
      "1-10015132-11\n",
      "SELECT  col3 FROM table_1_10015132_11 WHERE col5 = Butler CC (KS)\n",
      "How many schools did player number 3 play at?\n",
      "1-10015132-11\n",
      "SELECT COUNT col5 FROM table_1_10015132_11 WHERE col1 = 3\n",
      "What school did player number 21 play for?\n",
      "1-10015132-11\n",
      "SELECT  col5 FROM table_1_10015132_11 WHERE col1 = 21\n",
      "Who is the player that wears number 42?\n",
      "1-10015132-11\n",
      "SELECT  col0 FROM table_1_10015132_11 WHERE col1 = 42\n",
      "What player played guard for toronto in 1996-97?\n",
      "1-10015132-11\n",
      "SELECT  col0 FROM table_1_10015132_11 WHERE col3 = Guard AND col4 = 1996-97\n",
      "Who are all of the players on the Westchester High School club team?\n",
      "1-10015132-9\n",
      "SELECT  col0 FROM table_1_10015132_9 WHERE col5 = Westchester High School\n",
      "What school/club team is Amir Johnson on?\n",
      "1-10015132-9\n",
      "SELECT  col5 FROM table_1_10015132_9 WHERE col0 = Amir Johnson\n",
      "What are the total amount of numbers on the Toronto team in 2005-06?\n",
      "1-10015132-9\n",
      "SELECT COUNT col1 FROM table_1_10015132_9 WHERE col4 = 2005-06\n",
      "What are the total number of positions on the Toronto team in 2006-07?\n",
      "1-10015132-9\n",
      "SELECT COUNT col3 FROM table_1_10015132_9 WHERE col4 = 2006-07\n",
      "What are the nationality of the players on the Fresno State school/club team?\n",
      "1-10015132-9\n",
      "SELECT  col2 FROM table_1_10015132_9 WHERE col5 = Fresno State\n",
      "What school/club team is Trey Johnson on?\n",
      "1-10015132-9\n",
      "SELECT  col5 FROM table_1_10015132_9 WHERE col0 = Trey Johnson\n",
      "When did Jacques Chirac stop being a G8 leader?\n",
      "1-10026563-1\n",
      "SELECT  col2 FROM table_1_10026563_1 WHERE col3 = Jacques Chirac\n",
      "When did the Prime Minister of Italy take office?\n",
      "1-10026563-1\n",
      "SELECT  col0 FROM table_1_10026563_1 WHERE col4 = Prime Minister of Italy\n",
      "What is the English name of the country whose official native language is Dutch Papiamento?\n",
      "1-1008653-1\n",
      "SELECT  col0 FROM table_1_1008653_1 WHERE col4 = Dutch Papiamento\n",
      "What official or native languages are spoken in the country whose capital city is Canberra?\n",
      "1-1008653-1\n",
      "SELECT  col4 FROM table_1_1008653_1 WHERE col1 = Canberra\n",
      "What is the local name given to the city of Canberra?\n",
      "1-1008653-1\n",
      "SELECT  col3 FROM table_1_1008653_1 WHERE col1 = Canberra\n",
      "What is the local name given to the capital of Anguilla?\n",
      "1-1008653-1\n",
      "SELECT  col3 FROM table_1_1008653_1 WHERE col2 = Anguilla\n",
      "What is the English name given to the city of St. John's?\n",
      "1-1008653-1\n",
      "SELECT  col1 FROM table_1_1008653_1 WHERE col3 = St. John's\n",
      "How many capital cities does Australia have?\n",
      "1-1008653-1\n",
      "SELECT COUNT col3 FROM table_1_1008653_1 WHERE col2 = Australia\n",
      "The episode with production code 9abx02 was originally aired on what date?\n",
      "1-10088101-1\n",
      "SELECT  col5 FROM table_1_10088101_1 WHERE col6 = 9ABX02\n"
     ]
    }
   ],
   "source": [
    "import jsonlines\n",
    "import sys\n",
    "sys.path\n",
    "sys.path.append('/home/vika/seq2sql_botcamp/WikiSQL/')\n",
    "from lib.query import Query\n",
    "from lib.table import Table\n",
    "i = 0\n",
    "with jsonlines.open('dev.jsonl') as reader:\n",
    "    for obj in reader:\n",
    "        if (i < 20):\n",
    "            i = i+1\n",
    "            print (obj[\"question\"])\n",
    "            print (obj['table_id'])\n",
    "            sel_index = obj['sql']['sel']\n",
    "            agg_index = obj['sql'][\"agg\"]\n",
    "            conditions=tuple(obj['sql'][\"conds\"])\n",
    "            my_query = Query(sel_index = sel_index, agg_index  = agg_index, conditions =  conditions)\n",
    "            qwr = my_query.__repr__()\n",
    "            qwr = qwr.replace('table', id_names[obj['table_id']])\n",
    "            print (qwr)"
   ]
  },
  {
   "cell_type": "code",
   "execution_count": 2,
   "metadata": {},
   "outputs": [
    {
     "name": "stdout",
     "output_type": "stream",
     "text": [
      "Collecting jsonlines\n",
      "\u001b[33m  Retrying (Retry(total=4, connect=None, read=None, redirect=None, status=None)) after connection broken by 'ConnectTimeoutError(<pip._vendor.urllib3.connection.VerifiedHTTPSConnection object at 0x7f982d1f7630>, 'Connection to pypi.org timed out. (connect timeout=15)')': /simple/jsonlines/\u001b[0m\n",
      "\u001b[33m  Retrying (Retry(total=3, connect=None, read=None, redirect=None, status=None)) after connection broken by 'ConnectTimeoutError(<pip._vendor.urllib3.connection.VerifiedHTTPSConnection object at 0x7f982d1f73c8>, 'Connection to pypi.org timed out. (connect timeout=15)')': /simple/jsonlines/\u001b[0m\n",
      "^C\n",
      "\u001b[31mOperation cancelled by user\u001b[0m\n"
     ]
    }
   ],
   "source": [
    "! pip3 install --trusted-host=pypi.python.org --trusted-host=pypi.org --trusted-host=files.pythonhosted.org --user jsonlines"
   ]
  },
  {
   "cell_type": "code",
   "execution_count": null,
   "metadata": {
    "collapsed": true
   },
   "outputs": [],
   "source": []
  }
 ],
 "metadata": {
  "kernelspec": {
   "display_name": "Python 3",
   "language": "python",
   "name": "python3"
  }
 },
 "nbformat": 4,
 "nbformat_minor": 2
}
