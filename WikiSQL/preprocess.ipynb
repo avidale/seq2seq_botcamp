{
 "cells": [
  {
   "cell_type": "code",
   "execution_count": 1,
   "metadata": {},
   "outputs": [
    {
     "name": "stdout",
     "output_type": "stream",
     "text": [
      "1-10015132-11\n",
      "['Player', 'No.', 'Nationality', 'Position', 'Years in Toronto', 'School/Club Team']\n",
      "[['Antonio Lang', '21', 'United States', 'Guard-Forward', '1999-2000', 'Duke'], ['Voshon Lenard', '2', 'United States', 'Guard', '2002-03', 'Minnesota'], ['Martin Lewis', '32, 44', 'United States', 'Guard-Forward', '1996-97', 'Butler CC (KS)'], ['Brad Lohaus', '33', 'United States', 'Forward-Center', '1996', 'Iowa'], ['Art Long', '42', 'United States', 'Forward-Center', '2002-03', 'Cincinnati'], ['John Long', '25', 'United States', 'Guard', '1996-97', 'Detroit'], ['Kyle Lowry', '3', 'United States', 'Guard', '2012-Present', 'Villanova']]\n",
      "table_1_10015132_11\n",
      "\n",
      "1-10015132-9\n",
      "['Player', 'No.', 'Nationality', 'Position', 'Years in Toronto', 'School/Club Team']\n",
      "[['Jarrett Jack', '1', 'United States', 'Guard', '2009-10', 'Georgia Tech'], ['Jermaine Jackson', '8', 'United States', 'Guard', '2002-03', 'Detroit'], ['Luke Jackson', '6', 'United States', 'Guard-Forward', '2007', 'Oregon'], ['Mark Jackson', '13', 'United States', 'Guard', '2000-01', \"St. John's\"], ['Mike James', '13', 'United States', 'Guard', '2005-06', 'Duquesne'], ['Nathan Jawai', '21', 'Australia', 'Forward-Center', '2009', 'Midland College'], ['Chris Jefferies', '1, 32', 'United States', 'Forward', '2002-03', 'Fresno State'], ['Amir Johnson', '15', 'United States', 'Forward-Center', '2009-present', 'Westchester High School'], ['James Johnson', '0, 2', 'United States', 'Forward', '2011-2012', 'Wake Forest'], ['Linton Johnson', '13', 'United States', 'Forward', '2008', 'Tulane'], ['Trey Johnson', '12', 'United States', 'Guard', '2011', 'Jackson State'], ['Fred Jones', '20', 'United States', 'Guard', '2006-07', 'Oregon'], ['Popeye Jones', '54', 'United States', 'Forward', '1996-98', 'Murray State']]\n",
      "table_1_10015132_9\n",
      "\n",
      "1-10026563-1\n",
      "['Entered office as Head of State or Government', 'Began time as senior G8 leader', 'Ended time as senior G8 leader', 'Person', 'Office']\n",
      "[['16 October 1964', '15 November 1975', '5 April 1976', 'Harold Wilson', 'Prime Minister of the United Kingdom'], ['16 May 1974', '5 April 1976', '27 June 1976', 'Helmut Schmidt', 'Chancellor of West Germany'], ['20 April 1968', '27 June 1976', '4 June 1979', 'Pierre Trudeau', 'Prime Minister of Canada'], ['16 May 1974', '4 June 1979', '1 October 1982', 'Helmut Schmidt', 'Chancellor of West Germany'], ['4 May 1979', '1 October 1982', '28 November 1990', 'Margaret Thatcher', 'Prime Minister of the United Kingdom'], ['10 May 1981', '28 November 1990', '17 May 1995', 'François Mitterrand', 'President of France'], ['1 October 1982', '17 May 1995', '27 October 1998', 'Helmut Kohl', 'Chancellor of Germany'], ['10 July 1991', '27 October 1998', '31 December 1999', 'Boris Yeltsin', 'President of Russia'], ['20 January 1993', '31 December 1999', '20 January 2001', 'Bill Clinton', 'President of the United States'], ['4 November 1993', '20 January 2001', '12 December 2003', 'Jean Chrétien', 'Prime Minister of Canada'], ['17 May 1995', '12 December 2003', '16 May 2007', 'Jacques Chirac', 'President of France'], ['2 May 1997', '16 May 2007', '27 June 2007', 'Tony Blair', 'Prime Minister of the United Kingdom'], ['31 December 1999', '27 June 2007', '7 May 2008', 'Vladimir Putin', 'President of Russia'], ['20 January 2001', '7 May 2008', '20 January 2009', 'George W. Bush', 'President of the United States'], ['10 May 1994', '20 January 2009', '16 November 2011', 'Silvio Berlusconi', 'Prime Minister of Italy'], ['22 November 2005', '16 November 2011', '7 May 2012', 'Angela Merkel', 'Chancellor of Germany']]\n",
      "table_1_10026563_1\n",
      "\n",
      "1-1008653-1\n",
      "['Country ( exonym )', 'Capital ( exonym )', 'Country ( endonym )', 'Capital ( endonym )', 'Official or native language(s) (alphabet/script)']\n",
      "[['Afghanistan', 'Kabul', 'Afghanestan افغانستان', 'Kaalu كابل', 'Pashto / Dari ( Arabic script )'], ['Albania', 'Tirana', 'Shqipëria', 'Tiranë', 'Albanian'], ['American Samoa', 'Pago Pago', 'Amerika Sāmoa American Samoa', 'Pago Pago Pago Pago', 'Samoan English'], ['Andorra', 'Andorra la Vella', 'Andorra', 'Andorra la Vella', 'Catalan'], ['Angola', 'Luanda', 'Angola', 'Luanda', 'Portuguese'], ['Anguilla', 'The Valley', 'Anguilla', 'The Valley', 'English'], ['Antigua and Barbuda', \"Saint John's\", 'Antigua and Barbuda', \"St. John's\", 'English'], ['Argentina', 'Buenos Aires', 'Argentina', 'Buenos Aires', 'Spanish'], ['Armenia', 'Yerevan', 'Hayastán Հայաստան', 'Yerevan Երեվան', 'Armenian ( Armenian alphabet )'], ['Aruba', 'Oranjestad', 'Aruba Aruba', 'Oranjestad Oranjestad', 'Dutch Papiamento'], ['Australia', 'Canberra', 'Australia', 'Canberra', 'English / Aboriginal native languages'], ['Austria', 'Vienna', 'Österreich', 'Wien', 'German']]\n",
      "table_1_1008653_1\n",
      "\n",
      "1-10088101-1\n",
      "['No. in set', 'No. in series', 'Title', 'Directed by', 'Written by', 'Original air date', 'Production code']\n",
      "[[1, 174, '\" Per Manum \"', 'Kim Manners', 'Chris Carter & Frank Spotnitz', 'February18,2001', '8ABX13'], [2, 175, '\" This is Not Happening \"', 'Kim Manners', 'Chris Carter & Frank Spotnitz', 'February25,2001', '8ABX14'], [3, 176, '\" Deadalive \"', 'Tony Wharmby', 'Chris Carter & Frank Spotnitz', 'April1,2001', '8ABX15'], [4, 177, '\" Three Words \"', 'Tony Wharmby', 'Chris Carter & Frank Spotnitz', 'April8,2001', '8ABX16'], [5, 179, '\" Vienen \"', 'Rod Hardy', 'Steven Maeda', 'April29,2001', '8ABX18'], [6, 181, '\" Essence \"', 'Kim Manners', 'Chris Carter', 'May13,2001', '8ABX20'], [7, 182, '\" Existence \"', 'Kim Manners', 'Chris Carter', 'May20,2001', '8ABX21'], [8, 183, '\" Nothing Important Happened Today \"', 'Kim Manners', 'Chris Carter & Frank Spotnitz', 'November11,2001', '9ABX01'], [9, 184, '\" Nothing Important Happened Today II \"', 'Tony Wharmby', 'Chris Carter & Frank Spotnitz', 'November18,2001', '9ABX02'], [10, 188, '\" Trust No 1 \"', 'Tony Wharmby', 'Chris Carter & Frank Spotnitz', 'January6,2002', '9ABX06'], [11, 191, '\" Provenance \"', 'Kim Manners', 'Chris Carter & Frank Spotnitz', 'March3,2002', '9ABX09'], [12, 192, '\" Providence \"', 'Chris Carter', 'Chris Carter & Frank Spotnitz', 'March10,2002', '9ABX10']]\n",
      "table_1_10088101_1\n",
      "\n",
      "1-10295819-2\n",
      "['Player', 'Highest singles ranking', 'Highest doubles ranking', 'First year played', 'Years played', 'Ties played', 'Total W–L', 'Singles W–L', 'Doubles W–L']\n",
      "[['Aivaras Balžekas Category:Articles with hCards', '926', '939', 1999, 5, 19, '10–13', '9–12', '1–1'], ['Ričardas Berankis Category:Articles with hCards', '67', '285', 2007, 6, 13, '17–9', '14–5', '3–4'], ['Mantas Bugailiškis Category:Articles with hCards', 'N/A', 'N/A', 2013, 1, 1, '0–1', '0–0', '0–1'], ['Eugenijus Cariovas Category:Articles with hCards', 'N/A', 'N/A', 2006, 2, 8, '8–5', '2–3', '6–2'], ['Mindaugas Čeledinas', 'N/A', 'N/A', 2006, 2, 3, '0–4', '0–1', '0–3'], ['Artūras Gotovskis Category:Articles with hCards', 'N/A', 'N/A', 2005, 1, 2, '1–1', '0–1', '1–0'], ['Julius Gotovskis Category:Articles with hCards', 'N/A', 'N/A', 2011, 1, 1, '0–1', '0–1', '0–0'], ['Laurynas Grigelis Category:Articles with hCards', '183', '132', 2008, 4, 9, '7–9', '4–7', '3–2'], ['Denis Ivancovas Category:Articles with hCards', 'N/A', 'N/A', 1994, 3, 8, '7–4', '2–2', '5–2'], ['Paulius Jurkėnas Category:Articles with hCards', 'N/A', '1434', 2000, 2, 5, '1–4', '0–0', '1–4'], ['Aurimas Karpavičius Category:Articles with hCards', 'N/A', 'N/A', 2003, 1, 2, '0–2', '0–1', '0–1'], ['Daniel Lencina-Ribes Category:Articles with hCards', '591', '671', 2005, 5, 20, '19–9', '11–4', '8–5'], ['Gitanas Mažonas Category:Articles with hCards', 'N/A', 'N/A', 1994, 4, 13, '10–7', '7–4', '3–3'], ['Lukas Mugevičius Category:Articles with hCards', 'N/A', '1513', 2010, 4, 6, '3–7', '2–4', '1–3'], ['Rolandas Muraška Category:Articles with hCards', '575', '1100', 1994, 12, 49, '56–32', '37–12', '19–20'], ['Tomas Petrauskas Category:Articles with hCards', 'N/A', 'N/A', 1998, 1, 2, '2–1', '1–0', '1–1'], ['Vadim Pinko Category:Articles with hCards', 'N/A', 'N/A', 2009, 1, 1, '0–1', '0–0', '0–1'], ['Denis Riabuchin Category:Articles with hCards', 'N/A', 'N/A', 2006, 1, 2, '0–2', '0–0', '0–2'], ['Arūnas Rozga Category:Articles with hCards', 'N/A', 'N/A', 1999, 2, 8, '4–4', '0–0', '4–4'], ['Gvidas Sabeckis Category:Articles with hCards', '488', '548', 2002, 8, 31, '23–21', '11–7', '12–14'], ['Dovydas Šakinis', '808', '1214', 2009, 5, 10, '4–8', '3–5', '1–3'], ['Aistis Šlajus', '1346', '1434', 1998, 3, 11, '6–10', '4–7', '2–3'], ['Julius Tverijonas Category:Articles with hCards', '1418', 'N/A', 2011, 1, 1, '0–1', '0–1', '0–0'], ['Giedrius Vėželis Category:Articles with hCards', 'N/A', 'N/A', 1994, 1, 3, '1–2', '1–0', '0–2']]\n",
      "table_1_10295819_2\n",
      "\n",
      "1-10342194-3\n",
      "['District', 'Total amount of trees', 'Prevailing types, %', 'Amount of old trees', 'Amount of trees, that require replacement']\n",
      "[['Kirovsky', 188497, 'Pine — 29.37 Poplar — 26.12 Acer negundo — 13.2', '98,374 (52.18%)', '2,322 (2.36%)'], ['Motovilikhinsky', 129888, 'Acer negundo — 27.62 Poplar — 15.88 Willow — 14.05', '13,603 (10.47%)', '1,419 (10.43%)'], ['Ordzhonikidzevsky', 101566, 'Poplar — 24.09 Birch — 17.32 Acer negundo — 13.02', '1,928 (1.89%)', '1,297 (67.27%)'], ['Sverdlovsky', 163945, 'Acer negundo — 24.82 Willow — 15.94 Poplar — 13.18', '6,133 (3.74%)', '642 (10.47%)'], ['Leninsky', 13151, 'Acer negundo — 30.22 Tilia — 18.6 Poplar — 15.23', '3,283 (14.53%)', '897 (27.32%)']]\n",
      "table_1_10342194_3\n",
      "\n",
      "1-10429820-13\n",
      "['Iowa State vs.', 'Overall Record', 'in Ames', 'at Opponents Venue', 'at Neutral Site', 'Last 5 Meetings', 'Last 10 Meetings', 'Current Streak', 'Since Beginning of Big 12']\n",
      "[['Baylor', 'ISU, 14–8', 'ISU, 10–0', 'BU, 2–7', 'ISU, 2–1', 'ISU, 4–1', 'ISU, 6–4', 'W 3', 'ISU, 13–7'], ['Kansas', 'KU, 174–59', 'KU, 67–37', 'KU, 89–15', 'KU, 18–7', 'KU, 4–1', 'KU, 9–1', 'L 3', 'KU, 28–7'], ['Kansas State', 'KSU, 134–77', 'KSU, 50–48', 'KSU, 78–21', 'ISU, 9–7', 'ISU, 3–2', 'KSU, 6–4', 'L 1', 'KSU, 18–15'], ['Oklahoma', 'OU, 111–79', 'ISU, 46–37', 'OU, 61–22', 'OU, 13–11', 'ISU, 4–1', 'Tied, 5–5', 'W 1', 'OU, 13–7'], ['Oklahoma State', 'OSU, 62–53', 'ISU, 34–14', 'OSU, 36–13', 'OSU, 12–6', 'OSU, 3–2', 'OSU, 7–3', 'W 1', 'OSU, 16–5'], ['Texas', 'UT, 14–10', 'ISU, 7–4', 'UT, 1–9', 'ISU, 2–1', 'UT, 3–2', 'UT, 8–2', 'L 1', 'UT, 13–6'], ['TCU', 'TCU, 5–3', 'ISU, 2–1', 'TCU, 2–1', 'TCU, 2–0', 'TCU, 3–2', 'TCU, 5–3', 'W 2', 'N/A'], ['Texas Tech', 'ISU, 12–11', 'ISU, 7–3', 'TTU, 7–2', 'Tied, 1–1', 'ISU, 3–2', 'TTU, 6–4', 'W 1', 'TTU, 11–8'], ['West Virginia', 'ISU, 2-0', 'ISU, 1-0', 'ISU, 1-0', 'N/A', 'ISU, 2-0', 'ISU, 2-0', 'W 2', 'ISU, 2-0'], ['Iowa State vs.', 'Overall Record', 'in Ames', \"at Opponent's Venue\", 'at Neutral Site', 'Last 5 Meetings', 'Last 10 Meetings', 'Current Streak', 'Since Beginning of Big 12'], ['Colorado', 'ISU, 77–70', 'ISU, 48–18', 'CU, 48–16', 'ISU, 13–4', 'CU, 3–2', 'Tied, 5–5', 'L 1', 'Tied, 16–16'], ['Missouri', 'MU, 147–84', 'ISU, 58–47', 'MU, 84–21', 'MU, 5–16', 'MU, 5–0', 'MU, 8–2', 'L 9', 'MU, 18–14'], ['Nebraska', 'NU, 131–103', 'ISU, 62–48', 'NU, 78–33', 'ISU, 8–5', 'ISU, 3–2', 'ISU, 7–3', 'W 1', 'ISU, 18–12'], ['Texas A&M', 'TAMU, 10–7', 'ISU, 4–3', 'TAMU, 5–3', 'Tied, 1–1', 'TAMU, 3–2', 'TAMU, 8–2', 'W 2', 'TAMU, 10–7']]\n",
      "table_1_10429820_13\n",
      "\n",
      "1-1046170-5\n",
      "['Year', 'Division', 'League', 'Regular Season', 'Playoffs', 'U.S. Open Cup']\n",
      "[[1993, '3', 'USISL', '4th, Atlantic Division', 'Divisional Semifinals', 'Did Not Enter'], [1994, '3', 'USISL', '9th, Atlantic Division', 'Did Not Qualify', 'Did Not Enter'], [1994, 'N/A', 'USISL Indoor', '2nd, Northern Division', 'Did Not Qualify', 'Did Not Enter'], [1995, '4', 'USISL Premier League', '2nd, Eastern Division', 'Champions', 'Champions'], [1996, '3', 'USISL Select League', '2nd, North Atlantic Division', 'Final', 'Did Not Qualify'], [1997, '2', 'USISL A-League', '3rd, Atlantic Division', 'Division Semifinals', '3rd Round'], [1998, '2', 'USISL A-League', '1st, Atlantic Division', 'Conference Semifinals', 'Did Not Qualify'], [1999, '2', 'USL A-League', '2nd, Atlantic Division', 'Second Round', 'Did Not Qualify'], [2000, '2', 'USL A-League', '2nd, Atlantic Division', 'Conference Semifinals', '3rd round'], [2001, '2', 'USL A-League', '1st, Central Conference', 'Quarterfinals', 'Quarterfinals'], [2002, '2', 'USL A-League', '2nd, Southeast Division', 'Final', '3rd Round'], [2003, '2', 'USL A-League', '3rd, Southeast Division', 'Did Not Qualify', 'Did Not Qualify'], [2004, '2', 'USL A-League', '2nd, Eastern Conference', 'Quarterfinals', 'Quarterfinals'], [2005, '2', 'USL First Division', '6th', 'Final', '4th Round'], [2006, '3', 'USL Second Division', '1st', 'Champions', '2nd Round'], [2007, '3', 'USL Second Division', '1st', 'Final', 'Quarterfinals'], [2008, '3', 'USL Second Division', '2nd', 'Semifinals', '3rd Round'], [2009, '3', 'USL Second Division', '2nd', 'Champions', '1st Round'], [2010, '3', 'USL Second Division', '2nd', 'Final', '3rd Round'], [2011, '3', 'USL Pro', '3rd, American Division', 'Semifinals', 'Semifinals'], [2012, '3', 'USL Pro', '4th', '1st Round', '3rd Round']]\n",
      "table_1_1046170_5\n",
      "\n",
      "1-1061075-1\n",
      "['Season', 'Competition', 'Round', 'Opponents', '1st leg', '2nd leg', 'Aggregate']\n",
      "[['1980-81', \"UEFA Cup Winners' Cup\", 'First round', 'Haugar', '1-1', '0-2', '1-3'], ['1992-93', 'UEFA Champions League', 'First round', 'Tavriya Simferopol', '4-1 (h)', '3-1 (a)', '7-2'], ['1992-93', 'UEFA Champions League', 'Second round', 'Porto', '2-2 (h)', '0-4 (a)', '2-6'], ['2007–08', 'UEFA Cup', 'Second qualifying round', 'Ried', '1–1', '3–0', '4–1'], ['2007–08', 'UEFA Cup', 'First round', 'Galatasaray', '3–2', '1–5', '4–7'], ['2009–10', 'UEFA Europa League', 'Play-off round', 'Fenerbahçe', '0–2', '2–2', '2–4']]\n",
      "table_1_1061075_1\n",
      "\n",
      "1-10706879-3\n",
      "['Rd', 'Name', 'Pole Position', 'Fastest Lap', 'Winning driver', 'Winning team', 'Report']\n",
      "[[1, 'Kraco Car Stereo 200', 'Bobby Unser', 'Unknown', 'Johnny Rutherford', 'Chaparral', 'Report'], [2, 'Gould-Rex Mays 150', 'Gordon Johncock', 'Unknown', 'Mike Mosley', 'All American Racers', 'Report'], [3, 'Kraco Twin 125 (R1)', 'Johnny Rutherford', 'Unknown', 'Rick Mears', 'Penske Racing', 'Report'], [4, 'Kraco Twin 125 (R2)', 'Rick Mears', 'Unknown', 'Rick Mears', 'Penske Racing', 'Report'], [5, 'Norton Michigan 500', 'Tom Sneva', 'Unknown', 'Pancho Carter', 'Alex Foods', 'Report'], [6, 'Los Angeles Times 500', 'Geoff Brabham', 'Unknown', 'Rick Mears', 'Penske Racing', 'Report'], [7, 'Tony Bettenhausen 200', 'Johnny Rutherford', 'Unknown', 'Tom Sneva', 'Bignotti-Cotter', 'Report'], [8, 'Detroit News Grand Prix', 'Rick Mears', 'Unknown', 'Rick Mears', 'Penske Racing', 'Report'], [9, 'Watkins Glen 200', 'Mario Andretti', 'Unknown', 'Rick Mears', 'Penske Racing', 'Report'], [10, 'II Copa Mexico 150', 'Bobby Unser', 'Unknown', 'Rick Mears', 'Penske Racing', 'Report']]\n",
      "table_1_10706879_3\n",
      "\n",
      "1-10706961-2\n",
      "['Rd', 'Name', 'Pole Position', 'Fastest Lap', 'Winning driver', 'Winning team', 'Report']\n",
      "[[1, 'Kraco Dixie 200', 'Rick Mears', '26.730', 'Gordon Johncock', 'Patrick Racing', 'Report'], [2, 'Indianapolis 500', 'Teo Fabi', '2:53.582', 'Tom Sneva', 'Bignotti-Cotter Racing', 'Report'], [3, 'Dana-Rex Mays 150', 'Teo Fabi', '26.259', 'Tom Sneva', 'Bignotti-Cotter Racing', 'Report'], [4, 'Budweiser Cleveland 500', 'Mario Andretti', '1:13.516', 'Al Unser', 'Penske Racing', 'Report'], [5, 'Michigan 500', 'Teo Fabi', '35.621', 'John Paul, Jr.', 'VDS Racing', 'Report'], [6, 'Promi Veal 200', 'Mario Andretti', '1:58.898', 'Mario Andretti', 'Newman/Haas Racing', 'Report'], [7, \"Domino's Pizza 500\", 'Tom Sneva', '46.912', 'Teo Fabi', 'Forsythe Racing', 'Report'], [8, 'LA Times/Budweiser 500', 'Teo Fabi', '1:30.887', 'Bobby Rahal', 'Truesports', 'Report'], [9, 'Escort Radar Warning 200', 'Bobby Rahal', '1:21.364', 'Teo Fabi', 'Forsythe Racing', 'Report'], [10, 'Detroit News Grand Prix', 'Bobby Rahal', '35.075', 'Rick Mears', 'Penske Racing', 'Report'], [11, 'Caesars Palace Grand Prix', 'John Paul, Jr.', '34.888', 'Mario Andretti', 'Newman/Haas Racing', 'Report'], [12, 'Cribari Wines 300k', 'Teo Fabi', '56.920', 'Teo Fabi', 'Forsythe Racing', 'Report']]\n",
      "table_1_10706961_2\n",
      "\n",
      "1-10707176-2\n",
      "['Rnd', 'Race Name', 'Circuit', 'City/Location', 'Date', 'Pole position', 'Winning driver', 'Winning team', 'Report']\n",
      "[['1', 'Checker Autoworks 200', 'Phoenix International Raceway', 'Phoenix, Arizona', 'April 9', 'Rick Mears', 'Rick Mears', 'Team Penske', 'Report'], ['2', 'Long Beach Grand Prix', 'Streets of Long Beach', 'Long Beach, California', 'April 16', 'Al Unser, Jr.', 'Al Unser, Jr.', 'Galles Racing', 'Report'], ['3', '73rd Indianapolis 500', 'Indianapolis Motor Speedway', 'Speedway, Indiana', 'May 28', 'Rick Mears', 'Emerson Fittipaldi', 'Patrick Racing', 'Report'], ['4', 'Dana-Rex Mays 200', 'Milwaukee Mile', 'West Allis, Wisconsin', 'June 4', 'Rick Mears', 'Rick Mears', 'Team Penske', 'Report'], ['5', 'Valvoline Detroit Grand Prix', 'Streets of Detroit', 'Detroit, Michigan', 'June 18', 'Michael Andretti', 'Emerson Fittipaldi', 'Patrick Racing', 'Report'], ['6', \"Budweiser/G. I. Joe's 200\", 'Portland International Raceway', 'Portland, Oregon', 'June 25', 'Teo Fabi', 'Emerson Fittipaldi', 'Patrick Racing', 'Report'], ['7', 'Cleveland Grand Prix', 'Cleveland Burke Lakefront Airport', 'Cleveland, Ohio', 'July 2', 'Michael Andretti', 'Emerson Fittipaldi', 'Patrick Racing', 'Report'], ['8', 'Meadowlands Grand Prix', 'Meadowlands Sports Complex', 'East Rutherford, New Jersey', 'July 16', 'Emerson Fittipaldi', 'Bobby Rahal', 'Kraco Racing', 'Report'], ['9', 'Molson Indy Toronto', 'Exhibition Place', 'Toronto, Ontario', 'July 23', 'Emerson Fittipaldi', 'Michael Andretti', 'Newman/Haas Racing', 'Report'], ['10', 'Marlboro 500', 'Michigan International Speedway', 'Brooklyn, Michigan', 'August 6', 'Emerson Fittipaldi', 'Michael Andretti', 'Newman/Haas Racing', 'Report'], ['11', 'Pocono 500', 'Pocono Raceway', 'Long Pond, Pennsylvania', 'August 20', 'Emerson Fittipaldi', 'Danny Sullivan', 'Team Penske', 'Report'], ['12', 'Red Roof Inns 200', 'Mid-Ohio Sports Car Course', 'Lexington, Ohio', 'September 3', 'Teo Fabi', 'Teo Fabi', 'Porsche North America', 'Report'], ['13', 'Race for Life 200', 'Road America', 'Elkhart Lake, Wisconsin', 'September 10', 'Danny Sullivan', 'Danny Sullivan', 'Team Penske', 'Report'], ['14', 'Bosch Spark Plug Grand Prix', 'Nazareth Speedway', 'Nazareth, Pennsylvania', 'September 24', 'Rick Mears', 'Emerson Fittipaldi', 'Patrick Racing', 'Report'], ['NC', 'Marlboro Challenge', 'Mazda Raceway Laguna Seca', 'Monterey, California', 'October 14', 'Emerson Fittipaldi', 'Al Unser, Jr.', 'Galles Racing', 'Report']]\n",
      "table_1_10707176_2\n",
      "\n",
      "1-10712301-5\n",
      "['Region', 'Operator', 'Licence award date', 'On air date', 'Closure date']\n",
      "[['Central Scotland', 'Switch Digital', '6 October 2000', 'June 2001', 'N/A'], ['North East England', 'MXR Ltd', '15 December 2000', 'July 2001', '29 July 2013'], ['South Wales and the Severn Estuary', 'MXR Ltd', '23 January 2001', 'July 2001', '29 July 2013'], ['West Midlands', 'MXR Ltd', '9 February 2001', 'August 2001', '27 August 2013'], ['North West England', 'MXR Ltd', '9 March 2001', 'September 2001', '24 September 2013']]\n",
      "table_1_10712301_5\n",
      "\n",
      "1-10733530-3\n",
      "['Nation', 'Population (thousands)', 'Internet subscriptions (2000) (thousands of users)', 'Internet subscriptions (2008) (thousands of users)', '% growth (2000–2008)', '% Internet users']\n",
      "[['Algeria', 33770, 50, 3500, 69, 10], ['Angola', 12531, 30, 100, 233, 1], ['Benin', 8295, 15, 150, 900, 2], ['Botswana', 1842, 15, 80, 433, 4], ['Burkina Faso', 15265, 10, 80, 700, 1], ['Burundi', 8691, 3, 60, 1900, 1], ['Camerun', 18468, 20, 370, 1750, 2], ['Cape Verde', 427, 8, 37, 362, 9], ['Central African Republic', 4435, 1, 13, 767, 1], ['Chad', 10111, 1, 60, 5900, 1], ['Comoros', 732, 1, 21, 1300, 3], ['Congo', 3903, 1, 70, 13900, 2], ['DR Congo', 66514, 1, 230, 45980, 1], [\"Côte d'Ivoire\", 18373, 40, 300, 650, 2], ['Djibouti', 506, 1, 11, 685, 2], ['Egypt', 81713, 450, 8620, 1815, 10], ['Equatorial Guinea', 616, 1, 8, 1500, 1], ['Eritrea', 5028, 5, 120, 2300, 2], ['Ethiopia', 78254, 10, 291, 2810, 1], ['Gabon', 1486, 15, 81, 440, 5], ['Gambia', 1735, 4, 100, 2405, 6], ['Ghana', 23383, 30, 650, 2066, 3], ['Guinea', 10211, 8, 50, 525, 1], ['Guinea Bissau', 1503, 1, 37, 2366, 2], ['Kenya', 37954, 200, 3000, 1400, 8], ['Lesotho', 2128, 4, 70, 1650, 3], ['Liberia', 3335, 1, 1, 100, 1], ['Libya', 6174, 10, 260, 2500, 4], ['Madagascar', 20043, 30, 110, 266, 1], ['Malawi', 13932, 15, 139, 830, 1], ['Mali', 12324, 18, 100, 431, 1], ['Mauritania', 3365, 5, 30, 500, 1], ['Mauritius', 1274, 87, 340, 291, 27], ['Morocco', 34343, 100, 7300, 7200, 21], ['Mozambique', 21285, 30, 200, 566, 1], ['Namibia', 2089, 30, 100, 233, 5], ['Niger', 13273, 5, 40, 703, 1], ['Nigeria', 138283, 200, 10000, 4900, 7], ['Rwanda', 10186, 5, 150, 2900, 1], ['São Tomé and Príncipe', 206, 6, 23, 253, 11], ['Senegal', 12853, 40, 820, 1950, 6], ['Seychelles', 82, 6, 32, 433, 39], ['Sierra Leone', 6295, 5, 13, 160, 1], ['Somalia', 9559, 1, 98, 48900, 1], ['South Africa', 43786, 2400, 5100, 112, 22], ['Sudan', 40218, 30, 1500, 4900, 4], ['Swaziland', 1128, 10, 42, 320, 4], ['Tanzania', 40213, 115, 400, 248, 1], ['Togo', 5859, 100, 320, 220, 5], ['Tunisia', 10383, 100, 1722, 1622, 17], ['Uganda', 31368, 40, 2000, 4900, 6], ['Zambia', 11669, 20, 500, 2400, 4], ['Zimbabwe', 12382, 50, 1351, 2602, 11]]\n",
      "table_1_10733530_3\n",
      "\n",
      "1-10798421-1\n",
      "['Village (German)', 'Village (Slovenian)', 'Number of people 1991', 'Percent of Slovenes 1991', 'Percent of Slovenes 1951']\n",
      "[['Zell Freibach', 'Sele Borovnica', 187, '92.5%', '96.9%'], ['Zell Homölisch', 'Sele Hmelše', 23, '47.8%', '76.3%'], ['Zell Mitterwinkel', 'Sele Srednji Kot', 98, '98%', '95.7%'], ['Zell Oberwinkel', 'Sele Zvrhnji Kot', 91, '96.7%', '97.1%'], ['Zell Pfarre', 'Sele Fara', 235, '93.2%', '92.1%']]\n",
      "table_1_10798421_1\n",
      "\n",
      "1-10812293-3\n",
      "['Game', 'Date', 'Team', 'Score', 'High points', 'High rebounds', 'High assists', 'Location Attendance', 'Record']\n",
      "[[2, 'November 3', 'Milwaukee', 'W 109–92 (OT)', 'Chris Bosh (26)', 'Chris Bosh (15)', 'T. J. Ford (11)', 'Air Canada Centre 19,832', '1–1'], [3, 'November 5', 'San Antonio', 'L 94–103 (OT)', 'Chris Bosh (19)', 'Chris Bosh (17)', 'T. J. Ford (5)', 'Air Canada Centre 18,098', '1–2'], [4, 'November 8', 'Philadelphia', 'W 106–104 (OT)', 'Chris Bosh (29)', 'Chris Bosh (44)', 'T. J. Ford (7)', 'Air Canada Centre 15,831', '2–2'], [5, 'November 10', 'Atlanta', 'L 102–111 (OT)', 'Chris Bosh (19)', 'Chris Bosh (17)', 'T. J. Ford (11)', 'Air Canada Centre 14,680', '2-3'], [6, 'November 12', '@ Sacramento', 'L 92–107 (OT)', 'Chris Bosh (19)', 'Chris Bosh (7)', 'T. J. Ford (7)', 'ARCO Arena 17,317', '2–4'], [7, 'November 14', '@ Golden State', 'L 99–110 (OT)', 'Chris Bosh (23)', 'Chris Bosh (22)', 'T. J. Ford (6)', 'Oracle Arena 16,182', '2–5'], [8, 'November 17', '@ L.A. Lakers', 'L 100–107 (OT)', 'Chris Bosh , Morris Peterson (20)', 'Chris Bosh (10)', 'T. J. Ford , Fred Jones (6)', 'Staples Center 18,997', '2–6'], [9, 'November 18', '@ Denver', 'L 109–117 (OT)', 'Chris Bosh (31)', 'Jorge Garbajosa (10)', 'T. J. Ford (18)', 'Pepsi Center 15,531', '2–7'], [10, 'November 20', '@ Utah', 'L 96–101 (OT)', 'Chris Bosh (17)', 'Chris Bosh (11)', 'T. J. Ford (5)', 'EnergySolutions Arena 18,881', '2–8'], [11, 'November 22', 'Cleveland', 'W 95–87 (OT)', 'Chris Bosh (25)', 'Chris Bosh (14)', 'Chris Bosh (6)', 'Air Canada Centre 19,800', '3–8'], [12, 'November 24', '@ Atlanta', 'L 93–97 (OT)', 'T. J. Ford (25)', 'Jorge Garbajosa (12)', 'T. J. Ford (12)', 'Philips Arena 16,630', '3–9'], [13, 'November 26', 'Indiana', 'W 92–83 (OT)', 'Chris Bosh (17)', 'Chris Bosh (11)', 'T. J. Ford (6)', 'Air Canada Centre 18,075', '4–9'], [14, 'November 28', '@ New Orleans/Oklahoma City', 'W 94–77 (OT)', 'Chris Bosh , Anthony Parker (19)', 'Chris Bosh (14)', 'José Calderón (4)', 'Ford Center 15,647', '5–9']]\n",
      "table_1_10812293_3\n",
      "\n",
      "1-10935205-1\n",
      "['No. in season', 'No. in series', 'Title', 'Canadian airdate', 'US airdate', 'Production code']\n",
      "[[1, 120, '\"Standing in the Dark\" Part One', '14 January 2008', '5 October 2007', 701], [2, 121, '\"Standing in the Dark\" Part Two', '21 January 2008', '5 October 2007', 702], [3, 122, '\"Love is a Battlefield\"', '19 May 2008', '12 October 2007', 703], [4, 123, '\"It\\'s Tricky\"', '28 January 2008', '19 October 2007', 704], [5, 124, '\"Death or Glory\" Part One', '4 February 2008', '2 November 2007', 705], [6, 125, '\"Death or Glory\" Part Two', '11 February 2008', '9 November 2007', 706], [7, 126, '\"We Got the Beat\"', '18 February 2008', '16 November 2007', 707], [8, 127, '\"Jessie\\'s Girl\"', '25 February 2008', '8 February 2008', 708], [9, 128, '\"Hungry Eyes\"', '3 March 2008', '15 February 2008', 709], [10, 129, '\"Pass the Dutchie\"', '10 March 2008', '22 February 2008', 710], [11, 130, '\"Owner of a Lonely Heart\"', '17 March 2008', '29 February 2008', 711], [12, 131, '\"Live to Tell\"', '24 March 2008', '7 March 2008', 712], [13, 132, '\"Bust a Move\" Part One', '31 March 2008', '4 April 2008', 713], [14, 133, '\"Bust a Move\" Part Two', '7 April 2008', '4 April 2008', 714], [15, 134, '\"Got My Mind Set on You\"', '14 April 2008', '11 April 2008', 715], [16, 135, '\"Sweet Child o\\' Mine\"', '21 April 2008', '18 April 2008', 716], [17, 136, '\"Talking in Your Sleep\"', '28 April 2008', '9 May 2008', 717], [18, 137, '\"Another Brick in the Wall\"', '5 May 2008', '25 April 2008', 718], [19, 138, '\"Broken Wings\"', '12 May 2008', '11 July 2008', 719], [20, 139, '\"Ladies\\' Night\"', '26 May 2008', '18 July 2008', 720], [21, 140, '\"Everything She Wants\"', '2 June 2008', '11 July 2008', 721], [22, 141, '\"Don\\'t Stop Believin\\'\"', '9 June 2008', '25 July 2008', 722], [23, 142, '\"If This Is It\"', '16 June 2008', '8 August 2008', 723]]\n",
      "table_1_10935205_1\n",
      "\n",
      "1-10953197-5\n",
      "['No. in series', 'No. in season', 'Title', 'Director', 'Writer(s)', 'Original air date', 'Production code']\n",
      "[[131, 1, '\"Living With Disaster\"', 'Frank South', 'Frank South', 'September9,1996', '2396126'], [132, 2, '\"Over Dick\\'s Dead Body\"', 'Chip Chalmers', 'Charles Pratt, Jr.', 'September16,1996', '2396127'], [133, 3, '\"Moving Violations\"', 'Richard Lang', 'Carol Mendelsohn', 'September23,1996', '2396128'], [134, 4, '\"Hunka Hunka Burnin\\' Love\"', 'Charles Correll', 'Dee Johnson', 'September30,1996', '2396129'], [135, 5, '\"Un-Janed Melody\"', 'Jefferson Kibbee', 'James Kahn', 'October28,1996', '2396130'], [136, 6, '\"Jane\\'s Addiction\"', 'Chip Chalmers', 'Kathryn Baker', 'November4,1996', '2396131'], [137, 7, '\"Young Doctors in Heat\"', 'Anson Williams', 'Edward Gold', 'November11,1996', '2396132'], [138, 8, '\"Mission: Interpersonal\"', 'Charles Correll', 'Charles Pratt, Jr.', 'November11,1996', '2396133'], [139, 9, '\"Farewell, Mike\\'s Concubine\"', 'Jefferson Kibbee', 'Carol Mendelsohn', 'November18,1996', '2396134'], [140, 10, '\"Nice Work If You Can Get It\"', 'Charles Correll', 'Dee Johnson', 'November25,1996', '2396135'], [141, 11, '\"Sole Sister\"', 'Chip Hayes', 'Chip Hayes', 'December2,1996', '2396136'], [142, 12, '\"Quest for Mother\"', 'Charles Correll', 'James Kahn', 'December9,1996', '2396137'], [143, 13, '\"Crazy Love\"', 'Chip Chalmers', 'Kathryn Baker', 'December16,1996', '2396138'], [144, 14, '\"The Accidental Doctor\"', 'Charles Correll', 'Edward Gold', 'January6,1997', '2396139'], [145, 15, '\"Escape From L.A.\"', 'Richard Lang', 'Frank South', 'January13,1997', '2396140'], [146, 16, '\"The Eyes of the Storm\"', 'Harvey Frost', 'Cynthia J. Cohen', 'January20,1997', '2396141'], [147, 17, '\"Better Homes and Condos\"', 'Janet Greek', 'James Kahn', 'January27,1997', '2396142'], [148, 18, '\"Great Sexpectations (1)\"', 'Richard Lang', 'Carol Mendelsohn & Dee Johnson', 'February3,1997', '2396143A'], [149, 19, '\"Great Sexpectations (2)\"', 'Richard Lang', 'Carol Mendelsohn & Dee Johnson', 'February3,1997', '2396143B'], [150, 20, '\"Catch Her in the Lie\"', 'Charles Pratt, Jr.', 'Charles Pratt, Jr.', 'February10,1997', '2396144'], [151, 21, '\"Men Are From Melrose\"', 'Chip Hayes', 'Frank South', 'February17,1997', '2396145'], [152, 22, '\"Frames \\'R\\' Us\"', 'Robert J. Metoyer', 'James Kahn', 'February24,1997', '2396146'], [153, 23, '\"Screams From a Marriage\"', 'Charles Correll', 'Edward Gold', 'March3,1997', '2396147'], [154, 24, '\"101 Damnations\"', 'Richard Lang', 'Carol Mendelsohn', 'March10,1997', '2396148'], [155, 25, '\"From Here to Maternity\"', 'Thomas Calabro', 'Dee Johnson', 'March17,1997', '2396149'], [156, 26, '\"Last Exit to Ohio\"', 'Jefferson Kibbee', 'Frank South', 'March31,1997', '2396150'], [157, 27, '\"The Dead Wives Club\"', 'Chip Chalmers', 'Charles Pratt, Jr.', 'April7,1997', '2396151'], [158, 28, '\"Deja Vu, All Over Again\"', 'James Darren', 'Neil Landau', 'April14,1997', '2396152'], [159, 29, '\"All Beths Are Off\"', 'Charles Correll', 'Chip Hayes', 'April21,1997', '2396153'], [160, 30, '\"Ultimatums and the Single Guy\"', 'Anson Williams', 'Dee Johnson', 'April28,1997', '2396154'], [161, 31, '\"Going Places\"', 'Charles Pratt, Jr.', 'Carol Mendelsohn', 'May5,1997', '2396155'], [162, 32, '\"Secrets and Lies and More Lies\"', 'Frank South', 'Frank South', 'May12,1997', '2396156'], [163, 33, '\"Who\\'s Afraid of Amanda Woodward? (1)\"', 'Charles Correll', 'Charles Pratt, Jr.', 'May19,1997', '2396157A']]\n",
      "table_1_10953197_5\n",
      "\n",
      "1-10975034-2\n",
      "['Pick #', 'CFL Team', 'Player', 'Position', 'College']\n",
      "[[10, 'Edmonton Eskimos', 'Gilles Lezi', 'FB', 'Northwestern'], [11, 'Calgary Stampeders', 'Tyler Lymem', 'DL', 'Calgary'], [12, 'Ottawa Renegades', 'Christian Leibl-Cote', 'OL', 'New Hampshire'], [13, 'BC Lions (via Toronto)', 'Nautyn McKay-Loescher', 'DE', 'Alabama'], [14, 'Hamilton Tiger-Cats', 'Marwan Hage', 'OL', 'Colorado'], [15, 'Montreal Alouettes', 'Ryan Jeffrey', 'OL', 'Wilfrid Laurier'], [16, 'Calgary Stampeders', 'Pascal Masson', 'DB', 'Laval']]\n",
      "table_1_10975034_2\n",
      "\n"
     ]
    }
   ],
   "source": [
    "import sqlite3\n",
    "import jsonlines\n",
    "\n",
    "conn = sqlite3.connect(\"dev.db\")\n",
    "cursor = conn.cursor()\n",
    "\n",
    "from lib.table import Table\n",
    "i = 0\n",
    "id_names = {}\n",
    "with jsonlines.open('dev.tables.jsonl') as reader:\n",
    "    for obj in reader:\n",
    "        my_table = Table(table_id = obj[\"id\"], header = obj['header'], types = obj['types'], rows = obj['rows'])\n",
    "        id_names[obj[\"id\"]] = my_table.name\n",
    "        if (i < 20):\n",
    "            i = i+1\n",
    "            print (obj[\"id\"])\n",
    "            print (obj['header'])\n",
    "            print (obj['rows'])\n",
    "            print (my_table.name)\n",
    "            #print (my_table.get_schema(conn, obj[\"id\"]))\n",
    "            print()\n",
    "            "
   ]
  },
  {
   "cell_type": "code",
   "execution_count": 2,
   "metadata": {},
   "outputs": [
    {
     "name": "stdout",
     "output_type": "stream",
     "text": [
      "What position does the player who played for butler cc (ks) play?\n",
      "1-10015132-11\n",
      "SELECT  col3 FROM table_1_10015132_11 WHERE col5 = Butler CC (KS)\n",
      "How many schools did player number 3 play at?\n",
      "1-10015132-11\n",
      "SELECT COUNT col5 FROM table_1_10015132_11 WHERE col1 = 3\n",
      "What school did player number 21 play for?\n",
      "1-10015132-11\n",
      "SELECT  col5 FROM table_1_10015132_11 WHERE col1 = 21\n",
      "Who is the player that wears number 42?\n",
      "1-10015132-11\n",
      "SELECT  col0 FROM table_1_10015132_11 WHERE col1 = 42\n",
      "What player played guard for toronto in 1996-97?\n",
      "1-10015132-11\n",
      "SELECT  col0 FROM table_1_10015132_11 WHERE col3 = Guard AND col4 = 1996-97\n",
      "Who are all of the players on the Westchester High School club team?\n",
      "1-10015132-9\n",
      "SELECT  col0 FROM table_1_10015132_9 WHERE col5 = Westchester High School\n",
      "What school/club team is Amir Johnson on?\n",
      "1-10015132-9\n",
      "SELECT  col5 FROM table_1_10015132_9 WHERE col0 = Amir Johnson\n",
      "What are the total amount of numbers on the Toronto team in 2005-06?\n",
      "1-10015132-9\n",
      "SELECT COUNT col1 FROM table_1_10015132_9 WHERE col4 = 2005-06\n",
      "What are the total number of positions on the Toronto team in 2006-07?\n",
      "1-10015132-9\n",
      "SELECT COUNT col3 FROM table_1_10015132_9 WHERE col4 = 2006-07\n",
      "What are the nationality of the players on the Fresno State school/club team?\n",
      "1-10015132-9\n",
      "SELECT  col2 FROM table_1_10015132_9 WHERE col5 = Fresno State\n",
      "What school/club team is Trey Johnson on?\n",
      "1-10015132-9\n",
      "SELECT  col5 FROM table_1_10015132_9 WHERE col0 = Trey Johnson\n",
      "When did Jacques Chirac stop being a G8 leader?\n",
      "1-10026563-1\n",
      "SELECT  col2 FROM table_1_10026563_1 WHERE col3 = Jacques Chirac\n",
      "When did the Prime Minister of Italy take office?\n",
      "1-10026563-1\n",
      "SELECT  col0 FROM table_1_10026563_1 WHERE col4 = Prime Minister of Italy\n",
      "What is the English name of the country whose official native language is Dutch Papiamento?\n",
      "1-1008653-1\n",
      "SELECT  col0 FROM table_1_1008653_1 WHERE col4 = Dutch Papiamento\n",
      "What official or native languages are spoken in the country whose capital city is Canberra?\n",
      "1-1008653-1\n",
      "SELECT  col4 FROM table_1_1008653_1 WHERE col1 = Canberra\n",
      "What is the local name given to the city of Canberra?\n",
      "1-1008653-1\n",
      "SELECT  col3 FROM table_1_1008653_1 WHERE col1 = Canberra\n",
      "What is the local name given to the capital of Anguilla?\n",
      "1-1008653-1\n",
      "SELECT  col3 FROM table_1_1008653_1 WHERE col2 = Anguilla\n",
      "What is the English name given to the city of St. John's?\n",
      "1-1008653-1\n",
      "SELECT  col1 FROM table_1_1008653_1 WHERE col3 = St. John's\n",
      "How many capital cities does Australia have?\n",
      "1-1008653-1\n",
      "SELECT COUNT col3 FROM table_1_1008653_1 WHERE col2 = Australia\n",
      "The episode with production code 9abx02 was originally aired on what date?\n",
      "1-10088101-1\n",
      "SELECT  col5 FROM table_1_10088101_1 WHERE col6 = 9ABX02\n"
     ]
    }
   ],
   "source": [
    "import jsonlines\n",
    "import sys\n",
    "#sys.path.append('/home/vika/seq2sql_botcamp/WikiSQL/')\n",
    "from lib.query import Query\n",
    "from lib.table import Table\n",
    "i = 0\n",
    "with jsonlines.open('dev.jsonl') as reader:\n",
    "    for obj in reader:\n",
    "        if (i < 20):\n",
    "            i = i+1\n",
    "            print (obj[\"question\"])\n",
    "            print (obj['table_id'])\n",
    "            sel_index = obj['sql']['sel']\n",
    "            agg_index = obj['sql'][\"agg\"]\n",
    "            conditions=tuple(obj['sql'][\"conds\"])\n",
    "            my_query = Query(sel_index = sel_index, agg_index  = agg_index, conditions =  conditions)\n",
    "            qwr = my_query.__repr__()\n",
    "            qwr = qwr.replace('table', id_names[obj['table_id']])\n",
    "            print (qwr)"
   ]
  },
  {
   "cell_type": "code",
   "execution_count": 3,
   "metadata": {
    "collapsed": true
   },
   "outputs": [],
   "source": [
    "rows = list(cursor.execute('SELECT COUNT(col3) FROM table_1_1008653_1 WHERE col2 = \"australia\" '))"
   ]
  },
  {
   "cell_type": "code",
   "execution_count": 4,
   "metadata": {},
   "outputs": [
    {
     "data": {
      "text/plain": [
       "[(1,)]"
      ]
     },
     "execution_count": 4,
     "metadata": {},
     "output_type": "execute_result"
    }
   ],
   "source": [
    "list(cursor.execute('SELECT COUNT(col3) FROM table_1_1008653_1 WHERE col2 = \"australia\" '))"
   ]
  },
  {
   "cell_type": "code",
   "execution_count": 15,
   "metadata": {},
   "outputs": [
    {
     "data": {
      "text/plain": [
       "[('kabul', 'afghanestan افغانستان', 'kaalu كابل'),\n",
       " ('tirana', 'shqipëria', 'tiranë'),\n",
       " ('pago pago', 'amerika sāmoa american samoa', 'pago pago pago pago'),\n",
       " ('andorra la vella', 'andorra', 'andorra la vella'),\n",
       " ('luanda', 'angola', 'luanda'),\n",
       " ('the valley', 'anguilla', 'the valley'),\n",
       " (\"saint john's\", 'antigua and barbuda', \"st. john's\"),\n",
       " ('buenos aires', 'argentina', 'buenos aires'),\n",
       " ('yerevan', 'hayastán հայաստան', 'yerevan երեվան'),\n",
       " ('oranjestad', 'aruba aruba', 'oranjestad oranjestad'),\n",
       " ('canberra', 'australia', 'canberra'),\n",
       " ('vienna', 'österreich', 'wien')]"
      ]
     },
     "execution_count": 15,
     "metadata": {},
     "output_type": "execute_result"
    }
   ],
   "source": [
    "list(cursor.execute('SELECT col1, col2, col3 FROM table_1_1008653_1 '))"
   ]
  },
  {
   "cell_type": "code",
   "execution_count": null,
   "metadata": {
    "collapsed": true
   },
   "outputs": [],
   "source": [
    "mode"
   ]
  },
  {
   "cell_type": "code",
   "execution_count": 18,
   "metadata": {},
   "outputs": [
    {
     "data": {
      "text/plain": [
       "[('guard-forward',)]"
      ]
     },
     "execution_count": 18,
     "metadata": {},
     "output_type": "execute_result"
    }
   ],
   "source": [
    "list(cursor.execute('SELECT  col3 FROM table_1_10015132_11 WHERE col5 = \"butler cc (ks)\" '))"
   ]
  },
  {
   "cell_type": "code",
   "execution_count": 17,
   "metadata": {},
   "outputs": [
    {
     "data": {
      "text/plain": [
       "[('21', 'united states', 'guard-forward', '1999-2000', 'duke'),\n",
       " ('2', 'united states', 'guard', '2002-03', 'minnesota'),\n",
       " ('32, 44', 'united states', 'guard-forward', '1996-97', 'butler cc (ks)'),\n",
       " ('33', 'united states', 'forward-center', '1996', 'iowa'),\n",
       " ('42', 'united states', 'forward-center', '2002-03', 'cincinnati'),\n",
       " ('25', 'united states', 'guard', '1996-97', 'detroit'),\n",
       " ('3', 'united states', 'guard', '2012-present', 'villanova')]"
      ]
     },
     "execution_count": 17,
     "metadata": {},
     "output_type": "execute_result"
    }
   ],
   "source": [
    "list(cursor.execute('SELECT col1, col2, col3, col4, col5 FROM table_1_10015132_11 '))"
   ]
  },
  {
   "cell_type": "code",
   "execution_count": null,
   "metadata": {
    "collapsed": true
   },
   "outputs": [],
   "source": []
  }
 ],
 "metadata": {
  "kernelspec": {
   "display_name": "Python 3",
   "language": "python",
   "name": "python3"
  },
  "language_info": {
   "codemirror_mode": {
    "name": "ipython",
    "version": 3
   },
   "file_extension": ".py",
   "mimetype": "text/x-python",
   "name": "python",
   "nbconvert_exporter": "python",
   "pygments_lexer": "ipython3",
   "version": "3.6.1"
  }
 },
 "nbformat": 4,
 "nbformat_minor": 2
}
