{
 "cells": [
  {
   "cell_type": "code",
   "execution_count": null,
   "metadata": {
    "collapsed": true
   },
   "outputs": [],
   "source": []
  },
  {
   "cell_type": "markdown",
   "metadata": {},
   "source": [
    "Простые задания, по мотивам https://arxiv.org/pdf/1709.00103.pdf"
   ]
  },
  {
   "cell_type": "code",
   "execution_count": 1,
   "metadata": {
    "collapsed": true
   },
   "outputs": [],
   "source": [
    "import os\n",
    "import sys"
   ]
  },
  {
   "cell_type": "code",
   "execution_count": 2,
   "metadata": {
    "collapsed": true
   },
   "outputs": [],
   "source": [
    "def add_sys_path(p):\n",
    "    p = os.path.abspath(p)\n",
    "    if p not in sys.path:\n",
    "        sys.path.insert(0, p)"
   ]
  },
  {
   "cell_type": "code",
   "execution_count": 3,
   "metadata": {
    "collapsed": true
   },
   "outputs": [],
   "source": [
    "root = 'C://users/ddale/yandexdisk/code/NLP/seq2seq_botcamp/WikiSQL'\n",
    "add_sys_path(root)"
   ]
  },
  {
   "cell_type": "code",
   "execution_count": 4,
   "metadata": {
    "collapsed": true
   },
   "outputs": [],
   "source": [
    "import sqlite3\n",
    "import jsonlines\n",
    "\n",
    "conn = sqlite3.connect(\"dev.db\")\n",
    "cursor = conn.cursor()"
   ]
  },
  {
   "cell_type": "code",
   "execution_count": 5,
   "metadata": {
    "collapsed": true
   },
   "outputs": [],
   "source": [
    "import lib\n",
    "from lib.table import Table"
   ]
  },
  {
   "cell_type": "markdown",
   "metadata": {},
   "source": [
    "### какие таблицы на входе"
   ]
  },
  {
   "cell_type": "code",
   "execution_count": 139,
   "metadata": {
    "scrolled": true
   },
   "outputs": [
    {
     "name": "stdout",
     "output_type": "stream",
     "text": [
      "1-1341472-11\n",
      "['District', 'Incumbent', 'Party', 'First elected', 'Result', 'Candidates']\n",
      "[['Florida 1', 'Joe Scarborough', 'Republican', 1994, 'Re-elected', 'Joe Scarborough (R) 72.54% Kevin Beck (D) 27.42%'], ['Florida 4', 'Tillie Fowler', 'Republican', 1992, 'Re-elected', 'Tillie Fowler (R) unopposed'], ['Florida 5', 'Karen Thurman', 'Democratic', 1992, 'Re-elected', 'Karen Thurman (D) 61.68% Dave Gentry (R) 38.32%'], ['Florida 6', 'Cliff Stearns', 'Republican', 1988, 'Re-elected', \"Cliff Stearns (R) 67.18% Newell O'Brien (D) 32.82%\"], ['Florida 7', 'John Mica', 'Republican', 1992, 'Re-elected', 'John Mica (R) 62.04% George Stuart (D) 37.93%'], ['Florida 8', 'Bill McCollum', 'Republican', 1980, 'Re-elected', 'Bill McCollum (R) 67.47% Al Krulick (D) 32.52%'], ['Florida 10', 'Bill Young', 'Republican', 1970, 'Re-elected', 'Bill Young (R) 66.61% Henry Green (D) 33.39%'], ['Florida 11', 'Sam Gibbons', 'Democratic', 1962, 'Retired Democratic hold', 'Jim Davis (D) 57.91% Mark Sharpe (R) 42.09%'], ['Florida 12', 'Charles Canady', 'Republican', 1992, 'Re-elected', 'Charles Canady (R) 61.57% Mike Canady (D) 38.43%'], ['Florida 13', 'Dan Miller', 'Republican', 1992, 'Re-elected', 'Dan Miller (R) 64.34% Sanford Gordon (D) 35.60%'], ['Florida 14', 'Porter Goss', 'Republican', 1988, 'Re-elected', 'Porter Goss (R) 73.49% Jim Nolan (D) 26.51%'], ['Florida 16', 'Mark Foley', 'Republican', 1994, 'Re-elected', 'Mark Foley (R) 64% Jim Stuber (D) 36%'], ['Florida 17', 'Carrie Meek', 'Democratic', 1992, 'Re-elected', 'Carrie Meek (D) 88.75% Wellington Rolle (R) 11.24%'], ['Florida 18', 'Ileana Ros-Lehtinen', 'Republican', 1989, 'Re-elected', 'Ileana Ros-Lehtinen (R) unopposed'], ['Florida 20', 'Peter Deutsch', 'Democratic', 1992, 'Re-elected', 'Peter Deutsch (D) 64.99% Jim Jacobs (R) 35.01%'], ['Florida 21', 'Lincoln Diaz-Balart', 'Republican', 1992, 'Re-elected', 'Lincoln Diaz-Balart (R) unopposed']]\n",
      "table_1_1341472_11\n",
      "\n",
      "1-1341472-12\n",
      "['District', 'Incumbent', 'Party', 'First elected', 'Result', 'Candidates']\n",
      "[['Georgia 2', 'Sanford Bishop', 'Democratic', 1992, 'Re-elected', 'Sanford Bishop (D) 53.97% Darrel Ealum (R) 46.03%'], ['Georgia 3', 'Mac Collins', 'Republican', 1992, 'Re-elected', 'Mac Collins (R) 61.11% Jim Chafin (D) 38.89%'], ['Georgia 5', 'John Lewis', 'Democratic', 1986, 'Re-elected', 'John Lewis (D) unopposed'], ['Georgia 6', 'Newt Gingrich', 'Republican', 1978, 'Re-elected', 'Newt Gingrich (R) 57.80% Michael Coles (D) 42.20%'], ['Georgia 7', 'Bob Barr', 'Republican', 1994, 'Re-elected', 'Bob Barr (R) 57.80% Charlie Watts (D) 42.20%'], ['Georgia 8', 'Saxby Chambliss', 'Republican', 1994, 'Re-elected', 'Saxby Chambliss (R) 52.56% Jim Wiggins (D) 47.44%'], ['Georgia 9', 'Nathan Deal', 'Republican', 1992, 'Re-elected', 'Nathan Deal (R) 65.55% Ken Poston (D) 34.45%'], ['Georgia 10', 'Charlie Norwood', 'Republican', 1994, 'Re-elected', 'Charlie Norwood (R) 52.34% David Bell (D) 47.65%']]\n",
      "table_1_1341472_12\n",
      "\n",
      "1-1341472-15\n",
      "['District', 'Incumbent', 'Party', 'First elected', 'Result', 'Candidates']\n",
      "[['Illinois 9', 'Sidney Yates', 'Democratic', '1948 , 1964', 'Re-elected', 'Sidney Yates (D) 63.40% Joseph Walsh (R) 36.60%'], ['Illinois 10', 'John Porter', 'Republican', '1980', 'Re-elected', 'John Porter (R) 69.09% Philip Torf (D) 30.91%'], ['Illinois 11', 'Jerry Weller', 'Republican', '1994', 'Re-elected', 'Jerry Weller (R) 51.77% Clem Balanoff (D) 48.23%'], ['Illinois 13', 'Harris Fawell', 'Republican', '1984', 'Re-elected', 'Harris Fawell (R) 59.93% Susan Hynes (D) 40.06%'], ['Illinois 14', 'Dennis Hastert', 'Republican', '1986', 'Re-elected', 'Dennis Hastert (R) 64.39% Doug Mains (D) 35.60%'], ['Illinois 15', 'Thomas Ewing', 'Republican', '1991', 'Re-elected', 'Thomas Ewing (R) 57.33% Laurel Prussing (D) 42.67%'], ['Illinois 18', 'Ray LaHood', 'Republican', '1994', 'Re-elected', 'Ray LaHood (R) 59.25% Mike Curran (D) 40.75%']]\n",
      "table_1_1341472_15\n",
      "\n",
      "1-1341472-20\n",
      "['District', 'Incumbent', 'Party', 'First elected', 'Result', 'Candidates']\n",
      "[['Louisiana 1', 'Robert Livingston', 'Republican', 1977, 'Re-elected', 'Robert Livingston (R) (unopposed)'], ['Louisiana 2', 'William J. Jefferson', 'Democratic', 1990, 'Re-elected', 'William J. Jefferson (D) (unopposed)'], ['Louisiana 3', 'Billy Tauzin', 'Republican', 1980, 'Re-elected', 'Billy Tauzin (R) (unopposed)'], ['Louisiana 4', 'Jim McCrery', 'Republican', 1988, 'Re-elected', 'Jim McCrery (R) 71.38% Paul Chachere (D) 28.62%'], ['Louisiana 6', 'Richard Baker', 'Republican', 1986, 'Re-elected', 'Richard Baker (R) 69.30% Steve Myers (D) 30.70%']]\n",
      "table_1_1341472_20\n",
      "\n",
      "1-1341472-34\n",
      "['District', 'Incumbent', 'Party', 'First elected', 'Result', 'Candidates']\n",
      "[['New York 1', 'Michael Forbes', 'Republican', 1994, 'Re-elected', 'Michael Forbes (R) 54.72% Nora Bredes (D) 45.28%'], ['New York 6', 'Floyd Flake', 'Democratic', 1986, 'Re-elected', 'Floyd Flake (D) 84.85% Jorawar Misir (R) 15.14%'], ['New York 7', 'Thomas Manton', 'Democratic', 1984, 'Re-elected', 'Thomas Manton (D) 71.07% Rose Birtley (R) 28.93%'], ['New York 11', 'Major Owens', 'Democratic', 1982, 'Re-elected', 'Major Owens (D) 91.95% Claudette Hayle (R) 8.04%'], ['New York 22', 'Gerald Solomon', 'Republican', 1978, 'Re-elected', 'Gerald Solomon (R) 60.48% Steve James (D) 39.52%'], ['New York 25', 'Jim Walsh', 'Republican', 1988, 'Re-elected', 'Jim Walsh (R) 55.11% Marty Mack (D) 44.89%'], ['New York 27', 'Bill Paxon', 'Republican', 1988, 'Re-elected', 'Bill Paxon (R) 59.88% Thomas Fricano (D) 40.12%'], ['New York 29', 'John LaFalce', 'Democratic', 1974, 'Re-elected', 'John LaFalce (D) 61.99% David Callard (R) 38.01%']]\n",
      "table_1_1341472_34\n",
      "\n",
      "1-1341472-45\n",
      "['District', 'Incumbent', 'Party', 'First elected', 'Result', 'Candidates']\n",
      "[['Texas 5', 'John Bryant', 'Democratic', 1982, 'Retired to run for U.S. Senate Republican gain', 'Pete Sessions (R) 53.07% John Pouland (D) 46.93%'], ['Texas 8', 'Jack Fields', 'Republican', 1980, 'Retired Republican hold', 'Kevin Brady (R) 59.11% Gene Fontenot (D) 40.89%'], ['Texas 9', 'Steve Stockman', 'Republican', 1994, 'Lost re-election Democratic gain', 'Nick Lampson (D) 52.83% Steve Stockman (R) 47.16%'], ['Texas 19', 'Larry Combest', 'Republican', 1984, 'Re-elected', 'Larry Combest (R) 80.37% John Sawyer (D) 19.63%'], ['Texas 22', 'Tom DeLay', 'Republican', 1984, 'Re-elected', 'Tom DeLay (R) 68.11% Scott Cunningham (D) 31.89%']]\n",
      "table_1_1341472_45\n",
      "\n",
      "1-1341472-49\n",
      "['District', 'Incumbent', 'Party', 'First elected', 'Result', 'Candidates']\n",
      "[['Washington 1', 'Rick White', 'Republican', 1994, 'Re-elected', 'Rick White (R) 53.74% Jeff Coopersmith (D) 46.26%'], ['Washington 3', 'Linda Smith', 'Republican', 1994, 'Re-elected', 'Linda Smith (R) 50.18% Brian Baird (D) 49.82%'], ['Washington 4', 'Doc Hastings', 'Republican', 1994, 'Re-elected', 'Doc Hastings (R) 52.96% Rick Locke (D) 47.04%'], ['Washington 5', 'George Nethercutt', 'Republican', 1994, 'Re-elected', 'George Nethercutt (R) 55.58% Judy Olson (D) 44.41%'], ['Washington 7', 'Jim McDermott', 'Democratic', 1988, 'Re-elected', 'Jim McDermott (D) 80.96% Frank Kleschen (R) 19.04%']]\n",
      "table_1_1341472_49\n",
      "\n"
     ]
    }
   ],
   "source": [
    "i = 0\n",
    "id_names = {}\n",
    "id2table = {}\n",
    "\n",
    "with jsonlines.open(os.path.join(root, 'train.tables.jsonl')) as reader:\n",
    "    for obj in reader:\n",
    "        my_table = Table(table_id = obj[\"id\"], header = obj['header'], types = obj['types'], rows = obj['rows'])\n",
    "        id_names[obj[\"id\"]] = my_table.name\n",
    "        id2table[obj['id']] = obj\n",
    "        if ('1341472' in obj[\"id\"]):\n",
    "            i = i+1\n",
    "            print (obj[\"id\"])\n",
    "            print (obj['header'])\n",
    "            print (obj['rows'])\n",
    "            print (my_table.name)\n",
    "            #print (my_table.get_schema(conn, obj[\"id\"]))\n",
    "            print()"
   ]
  },
  {
   "cell_type": "code",
   "execution_count": 143,
   "metadata": {},
   "outputs": [
    {
     "data": {
      "text/plain": [
       "['District', 'Incumbent', 'Party', 'First elected', 'Result', 'Candidates']"
      ]
     },
     "execution_count": 143,
     "metadata": {},
     "output_type": "execute_result"
    }
   ],
   "source": [
    "id2table['1-1341472-11']['header']"
   ]
  },
  {
   "cell_type": "markdown",
   "metadata": {},
   "source": [
    "### какие запросы на входе"
   ]
  },
  {
   "cell_type": "code",
   "execution_count": 7,
   "metadata": {
    "collapsed": true
   },
   "outputs": [],
   "source": [
    "from collections import Counter"
   ]
  },
  {
   "cell_type": "code",
   "execution_count": 8,
   "metadata": {
    "collapsed": true
   },
   "outputs": [],
   "source": [
    "sel_counter = Counter()\n",
    "agg_counter = Counter()\n",
    "cmp_counter = Counter()\n",
    "cond_len_counter = Counter()\n",
    "with jsonlines.open(os.path.join(root, 'train.jsonl')) as reader:\n",
    "    for obj in reader:\n",
    "        s = obj['sql']\n",
    "        sel_counter[s['sel']] += 1\n",
    "        agg_counter[s['agg']] += 1\n",
    "        cond_len_counter[len(s['conds'])] += 1\n",
    "        for cmp in s['conds']:\n",
    "            cmp_counter[cmp[1]] += 1"
   ]
  },
  {
   "cell_type": "code",
   "execution_count": 82,
   "metadata": {},
   "outputs": [
    {
     "data": {
      "text/plain": [
       "[(0, 63880), (1, 6606), (2, 6243)]"
      ]
     },
     "execution_count": 82,
     "metadata": {},
     "output_type": "execute_result"
    }
   ],
   "source": [
    "# cond_ops = ['=', '>', '<', 'OP']\n",
    "cmp_counter.most_common()"
   ]
  },
  {
   "cell_type": "code",
   "execution_count": 80,
   "metadata": {},
   "outputs": [
    {
     "data": {
      "text/plain": [
       "[(1, 39096), (2, 13346), (3, 3019), (4, 471), (0, 423)]"
      ]
     },
     "execution_count": 80,
     "metadata": {},
     "output_type": "execute_result"
    }
   ],
   "source": [
    "cond_len_counter.most_common()"
   ]
  },
  {
   "cell_type": "code",
   "execution_count": 81,
   "metadata": {},
   "outputs": [
    {
     "data": {
      "text/plain": [
       "[(0, 40606), (3, 5114), (2, 3231), (1, 3161), (5, 2201), (4, 2042)]"
      ]
     },
     "execution_count": 81,
     "metadata": {},
     "output_type": "execute_result"
    }
   ],
   "source": [
    "# agg_ops = ['', 'MAX', 'MIN', 'COUNT', 'SUM', 'AVG']\n",
    "agg_counter.most_common()"
   ]
  },
  {
   "cell_type": "markdown",
   "metadata": {},
   "source": [
    "#### препроцессор "
   ]
  },
  {
   "cell_type": "code",
   "execution_count": 11,
   "metadata": {
    "collapsed": true
   },
   "outputs": [],
   "source": [
    "import youtokentome as yttm"
   ]
  },
  {
   "cell_type": "code",
   "execution_count": 12,
   "metadata": {
    "collapsed": true
   },
   "outputs": [],
   "source": [
    "train_data_path = \"cheat/train_data.txt\"\n",
    "model_path = \"cheat/example.model\""
   ]
  },
  {
   "cell_type": "code",
   "execution_count": 152,
   "metadata": {
    "collapsed": true
   },
   "outputs": [],
   "source": [
    "X_text = []\n",
    "y_list = []\n",
    "y_sel_list = []\n",
    "y_cond_list = []\n",
    "table_ids_list = []\n",
    "\n",
    "with open(train_data_path, \"w\", encoding='utf-8') as fout:\n",
    "    with jsonlines.open(os.path.join(root, 'train.jsonl')) as reader:\n",
    "        for obj in reader:\n",
    "            X_text.append(obj['question'])\n",
    "            y_list.append(obj['sql']['agg'])\n",
    "            y_sel_list.append(obj['sql']['sel'])\n",
    "            y_cond_list.append(obj['sql']['conds'])\n",
    "            table_ids_list.append(obj['table_id'])\n",
    "            print(obj['question'], file=fout)"
   ]
  },
  {
   "cell_type": "code",
   "execution_count": 148,
   "metadata": {
    "collapsed": true
   },
   "outputs": [],
   "source": [
    "import random"
   ]
  },
  {
   "cell_type": "code",
   "execution_count": 161,
   "metadata": {},
   "outputs": [
    {
     "name": "stdout",
     "output_type": "stream",
     "text": [
      "55077\n",
      "Who is the player who was born before 1980 who currently plays for the Toronto Raptors?\n",
      "0\n",
      "['Player', 'Height', 'Position', 'Year born', 'Current Club']\n"
     ]
    }
   ],
   "source": [
    "i = random.randint(0, len(X_text) - 1)\n",
    "print(i)\n",
    "print(X_text[i])\n",
    "print(y_sel_list[i])\n",
    "print(id2table[table_ids_list[i]]['header'])"
   ]
  },
  {
   "cell_type": "code",
   "execution_count": 51,
   "metadata": {},
   "outputs": [
    {
     "name": "stdout",
     "output_type": "stream",
     "text": [
      "8421\n"
     ]
    }
   ],
   "source": [
    "X_dev_text = []\n",
    "y_dev_list = []\n",
    "with jsonlines.open(os.path.join(root, 'dev.jsonl')) as reader:\n",
    "    for obj in reader:\n",
    "        X_dev_text.append(obj['question'])\n",
    "        y_dev_list.append(obj['sql']['agg'])\n",
    "print(len(X_dev_text))"
   ]
  },
  {
   "cell_type": "code",
   "execution_count": 83,
   "metadata": {
    "collapsed": true
   },
   "outputs": [],
   "source": [
    "yttm.BPE.train(data=train_data_path, vocab_size=30000, model=model_path)\n",
    "bpe = yttm.BPE(model=model_path)"
   ]
  },
  {
   "cell_type": "code",
   "execution_count": 84,
   "metadata": {
    "collapsed": true
   },
   "outputs": [],
   "source": [
    "test_text = 'Who lives on the ocean floor?'"
   ]
  },
  {
   "cell_type": "code",
   "execution_count": 85,
   "metadata": {},
   "outputs": [
    {
     "name": "stdout",
     "output_type": "stream",
     "text": [
      "[[2, 1175, 1092, 5243, 1186, 1062, 21636, 4446, 20, 3]]\n",
      "[['<BOS>', '▁Who', '▁l', 'ives', '▁on', '▁the', '▁ocean', '▁floor', '?', '<EOS>']]\n"
     ]
    }
   ],
   "source": [
    "print(bpe.encode([test_text], output_type=yttm.OutputType.ID, bos=True, eos=True))\n",
    "print(bpe.encode([test_text], output_type=yttm.OutputType.SUBWORD, bos=True, eos=True))"
   ]
  },
  {
   "cell_type": "code",
   "execution_count": 86,
   "metadata": {
    "collapsed": true
   },
   "outputs": [],
   "source": [
    "X_token = bpe.encode(X_text, bos=True, eos=True)"
   ]
  },
  {
   "cell_type": "code",
   "execution_count": 87,
   "metadata": {
    "collapsed": true
   },
   "outputs": [],
   "source": [
    "X_dev_token = bpe.encode(X_dev_text, bos=True, eos=True)"
   ]
  },
  {
   "cell_type": "code",
   "execution_count": 166,
   "metadata": {
    "collapsed": true
   },
   "outputs": [],
   "source": [
    "for k, v in id2table.items():\n",
    "    v['header_bpe'] = bpe.encode(v['header'], bos=True, eos=True)"
   ]
  },
  {
   "cell_type": "markdown",
   "metadata": {},
   "source": [
    "####  предсказываем агрегацию"
   ]
  },
  {
   "cell_type": "code",
   "execution_count": 88,
   "metadata": {
    "collapsed": true
   },
   "outputs": [],
   "source": [
    "import torch\n",
    "from torch.autograd import Variable\n",
    "import torch.nn as nn\n",
    "import torch.nn.functional as F\n",
    "\n",
    "\n",
    "class BiLSTMClassifier(nn.Module):\n",
    "    def __init__(self, embedding_dim, hidden_dim, vocab_size, label_size, use_gpu, batch_size):\n",
    "        super(BiLSTMClassifier, self).__init__()\n",
    "        self.hidden_dim = hidden_dim\n",
    "        self.use_gpu = use_gpu\n",
    "        self.batch_size = batch_size\n",
    "        self.embeddings = nn.Embedding(vocab_size, embedding_dim)\n",
    "        self.lstm = nn.LSTM(input_size=embedding_dim, hidden_size=hidden_dim, bidirectional=True)\n",
    "        self.hidden2label = nn.Linear(hidden_dim*2, label_size)\n",
    "        self.hidden = self.init_hidden()\n",
    "\n",
    "    def init_hidden(self):\n",
    "        # first is the hidden h\n",
    "        # second is the cell c\n",
    "        if self.use_gpu:\n",
    "            return (Variable(torch.zeros(2, self.batch_size, self.hidden_dim).cuda()),\n",
    "                    Variable(torch.zeros(2, self.batch_size, self.hidden_dim).cuda()))\n",
    "        else:\n",
    "            return (Variable(torch.zeros(2, self.batch_size, self.hidden_dim)),\n",
    "                    Variable(torch.zeros(2, self.batch_size, self.hidden_dim)))\n",
    "\n",
    "    def forward(self, sentence):\n",
    "        x = self.embeddings(sentence).view(len(sentence), self.batch_size, -1)\n",
    "        lstm_out, self.hidden = self.lstm(x, self.hidden)\n",
    "        y = self.hidden2label(lstm_out[-1])\n",
    "        log_probs = F.log_softmax(y, dim=1)\n",
    "        return log_probs"
   ]
  },
  {
   "cell_type": "code",
   "execution_count": 89,
   "metadata": {
    "collapsed": true
   },
   "outputs": [],
   "source": [
    "EMBEDDING_DIM = 128\n",
    "HIDDEN_DIM = 128\n",
    "USE_GPU = False\n",
    "BATCH_SIZE = 1"
   ]
  },
  {
   "cell_type": "code",
   "execution_count": 90,
   "metadata": {
    "collapsed": true
   },
   "outputs": [],
   "source": [
    "model = BiLSTMClassifier(\n",
    "    embedding_dim=EMBEDDING_DIM, \n",
    "    hidden_dim=HIDDEN_DIM, \n",
    "    vocab_size=len(bpe.vocab()), \n",
    "    label_size=len(set(y_list)),\n",
    "    use_gpu=USE_GPU, \n",
    "    batch_size=BATCH_SIZE\n",
    ")\n",
    "if USE_GPU:\n",
    "    model = model.cuda()"
   ]
  },
  {
   "cell_type": "code",
   "execution_count": 100,
   "metadata": {
    "collapsed": true
   },
   "outputs": [],
   "source": [
    "optimizer = torch.optim.Adam(model.parameters(), lr=1e-4)"
   ]
  },
  {
   "cell_type": "code",
   "execution_count": 92,
   "metadata": {
    "collapsed": true
   },
   "outputs": [],
   "source": [
    "from tqdm.auto import tqdm, trange"
   ]
  },
  {
   "cell_type": "code",
   "execution_count": 93,
   "metadata": {
    "collapsed": true
   },
   "outputs": [],
   "source": [
    "def get_accuracy(truth, pred):\n",
    "    assert len(truth) == len(pred)\n",
    "    right = 0\n",
    "    for i in range(len(truth)):\n",
    "        if truth[i] == pred[i]:\n",
    "            right += 1.0\n",
    "    return right / len(truth)\n",
    "\n",
    "\n",
    "def train_epoch_progress(model, train_iter, loss_function, optimizer, text_field, label_field, epoch):\n",
    "    model.train()\n",
    "    avg_loss = 0.0\n",
    "    truth_res = []\n",
    "    pred_res = []\n",
    "    count = 0\n",
    "    for batch in tqdm(train_iter, desc='Train epoch '+str(epoch+1)):\n",
    "        sent, label = batch.text, batch.label\n",
    "        label.data.sub_(1)\n",
    "        truth_res += list(label.data)\n",
    "        model.batch_size = len(label.data)\n",
    "        model.hidden = model.init_hidden()\n",
    "        pred = model(sent)\n",
    "        pred_label = pred.data.max(1)[1].numpy()\n",
    "        pred_res += [x for x in pred_label]\n",
    "        model.zero_grad()\n",
    "        loss = loss_function(pred, label)\n",
    "        avg_loss += loss.data[0]\n",
    "        count += 1\n",
    "        loss.backward()\n",
    "        optimizer.step()\n",
    "    avg_loss /= len(train_iter)\n",
    "    acc = get_accuracy(truth_res, pred_res)\n",
    "    return avg_loss, acc"
   ]
  },
  {
   "cell_type": "code",
   "execution_count": 94,
   "metadata": {
    "collapsed": true
   },
   "outputs": [],
   "source": [
    "#for batch in tqdm(train_iter, desc='Train epoch '+str(epoch+1)):"
   ]
  },
  {
   "cell_type": "code",
   "execution_count": 95,
   "metadata": {
    "collapsed": true
   },
   "outputs": [],
   "source": [
    "EPOCHS = 20"
   ]
  },
  {
   "cell_type": "code",
   "execution_count": 96,
   "metadata": {
    "collapsed": true
   },
   "outputs": [],
   "source": [
    "loss_function = nn.NLLLoss()"
   ]
  },
  {
   "cell_type": "code",
   "execution_count": 137,
   "metadata": {
    "collapsed": true
   },
   "outputs": [],
   "source": [
    "??torch.cosine_similarity"
   ]
  },
  {
   "cell_type": "code",
   "execution_count": 97,
   "metadata": {
    "collapsed": true
   },
   "outputs": [],
   "source": [
    "PRINT_EVERY = 300"
   ]
  },
  {
   "cell_type": "markdown",
   "metadata": {},
   "source": [
    "На маленьких батчах и небольшом словарике получилось так, что лосс даже упавший вдвое с 1.5 до 0.75 приводил к тому, что всегда моделька предсказывает \"ничего не агрегировать\", которое встречается в 3/4 случаев.  \n",
    "\n",
    "Увеличил словарь до 30К, уменьшил шаг с 10-3 до 10-4, поменял sgd на adam, и вроде как трейн пошёл запоминаться. "
   ]
  },
  {
   "cell_type": "code",
   "execution_count": 113,
   "metadata": {
    "collapsed": true
   },
   "outputs": [],
   "source": [
    "import matplotlib.pyplot as plt\n",
    "%matplotlib inline"
   ]
  },
  {
   "cell_type": "code",
   "execution_count": null,
   "metadata": {
    "collapsed": true
   },
   "outputs": [],
   "source": []
  },
  {
   "cell_type": "code",
   "execution_count": 116,
   "metadata": {},
   "outputs": [
    {
     "data": {
      "text/plain": [
       "[<matplotlib.lines.Line2D at 0x2908fe62c18>]"
      ]
     },
     "execution_count": 116,
     "metadata": {},
     "output_type": "execute_result"
    },
    {
     "data": {
      "image/png": "[encoded data removed]",
      "text/plain": [
       "<Figure size 1080x216 with 1 Axes>"
      ]
     },
     "metadata": {},
     "output_type": "display_data"
    }
   ],
   "source": [
    "plt.figure(figsize=(15, 3))\n",
    "plt.plot(y_list, linewidth=0.1)"
   ]
  },
  {
   "cell_type": "code",
   "execution_count": 118,
   "metadata": {},
   "outputs": [
    {
     "data": {
      "text/plain": [
       "array([ 5301, 25008, 35082, ..., 31689, 55540, 45803])"
      ]
     },
     "execution_count": 118,
     "metadata": {},
     "output_type": "execute_result"
    }
   ],
   "source": []
  },
  {
   "cell_type": "code",
   "execution_count": 132,
   "metadata": {
    "scrolled": true
   },
   "outputs": [
    {
     "data": {
      "application/vnd.jupyter.widget-view+json": {
       "model_id": "6c9769137397431da7df383ef72c3a98"
      }
     },
     "metadata": {},
     "output_type": "display_data"
    },
    {
     "name": "stdout",
     "output_type": "stream",
     "text": [
      "0.6969633615016937 0.81\n",
      "0.7326979112625122 0.82\n",
      "0.7656886800130208 0.7866666666666666\n",
      "0.7166480859120686 0.7733333333333333\n",
      "0.6853464021285375 0.79\n",
      "0.7680416462818781 0.78\n",
      "0.7307754890124003 0.7966666666666666\n",
      "0.712203178803126 0.8133333333333334\n",
      "0.7730471154054006 0.7833333333333333\n",
      "0.781995957493782 0.7566666666666667\n",
      "0.7520631104707718 0.7833333333333333\n",
      "0.6507197336355846 0.78\n",
      "0.6670562740166982 0.8133333333333334\n",
      "0.5830300919214885 0.8333333333333334\n",
      "0.6537801285584768 0.8166666666666667\n",
      "0.671521024107933 0.79\n",
      "0.7150744360685348 0.7633333333333333\n",
      "0.6541157325108846 0.8266666666666667\n",
      "0.7193737510840098 0.7433333333333333\n",
      "0.6773665865262349 0.7833333333333333\n",
      "0.6984126148621241 0.77\n",
      "0.7149234465758005 0.72\n",
      "0.6960839080810547 0.8233333333333334\n"
     ]
    },
    {
     "ename": "KeyboardInterrupt",
     "evalue": "",
     "output_type": "error",
     "traceback": [
      "\u001b[1;31m---------------------------------------------------------------------------\u001b[0m",
      "\u001b[1;31mKeyboardInterrupt\u001b[0m                         Traceback (most recent call last)",
      "\u001b[1;32m<ipython-input-132-5f3fbcec7ef0>\u001b[0m in \u001b[0;36m<module>\u001b[1;34m()\u001b[0m\n\u001b[0;32m     13\u001b[0m         \u001b[0ml\u001b[0m \u001b[1;33m=\u001b[0m \u001b[0mloss_function\u001b[0m\u001b[1;33m(\u001b[0m\u001b[0mpred\u001b[0m\u001b[1;33m,\u001b[0m \u001b[0my\u001b[0m\u001b[1;33m)\u001b[0m\u001b[1;33m\u001b[0m\u001b[0m\n\u001b[0;32m     14\u001b[0m         \u001b[0ml\u001b[0m\u001b[1;33m.\u001b[0m\u001b[0mbackward\u001b[0m\u001b[1;33m(\u001b[0m\u001b[1;33m)\u001b[0m\u001b[1;33m\u001b[0m\u001b[0m\n\u001b[1;32m---> 15\u001b[1;33m         \u001b[0moptimizer\u001b[0m\u001b[1;33m.\u001b[0m\u001b[0mstep\u001b[0m\u001b[1;33m(\u001b[0m\u001b[1;33m)\u001b[0m\u001b[1;33m\u001b[0m\u001b[0m\n\u001b[0m\u001b[0;32m     16\u001b[0m \u001b[1;33m\u001b[0m\u001b[0m\n\u001b[0;32m     17\u001b[0m         \u001b[0mit\u001b[0m \u001b[1;33m+=\u001b[0m \u001b[1;36m1\u001b[0m\u001b[1;33m\u001b[0m\u001b[0m\n",
      "\u001b[1;32mC:\\Users\\ddale\\AppData\\Local\\Continuum\\Anaconda3\\lib\\site-packages\\torch\\optim\\adam.py\u001b[0m in \u001b[0;36mstep\u001b[1;34m(self, closure)\u001b[0m\n\u001b[0;32m    105\u001b[0m                 \u001b[0mstep_size\u001b[0m \u001b[1;33m=\u001b[0m \u001b[0mgroup\u001b[0m\u001b[1;33m[\u001b[0m\u001b[1;34m'lr'\u001b[0m\u001b[1;33m]\u001b[0m \u001b[1;33m*\u001b[0m \u001b[0mmath\u001b[0m\u001b[1;33m.\u001b[0m\u001b[0msqrt\u001b[0m\u001b[1;33m(\u001b[0m\u001b[0mbias_correction2\u001b[0m\u001b[1;33m)\u001b[0m \u001b[1;33m/\u001b[0m \u001b[0mbias_correction1\u001b[0m\u001b[1;33m\u001b[0m\u001b[0m\n\u001b[0;32m    106\u001b[0m \u001b[1;33m\u001b[0m\u001b[0m\n\u001b[1;32m--> 107\u001b[1;33m                 \u001b[0mp\u001b[0m\u001b[1;33m.\u001b[0m\u001b[0mdata\u001b[0m\u001b[1;33m.\u001b[0m\u001b[0maddcdiv_\u001b[0m\u001b[1;33m(\u001b[0m\u001b[1;33m-\u001b[0m\u001b[0mstep_size\u001b[0m\u001b[1;33m,\u001b[0m \u001b[0mexp_avg\u001b[0m\u001b[1;33m,\u001b[0m \u001b[0mdenom\u001b[0m\u001b[1;33m)\u001b[0m\u001b[1;33m\u001b[0m\u001b[0m\n\u001b[0m\u001b[0;32m    108\u001b[0m \u001b[1;33m\u001b[0m\u001b[0m\n\u001b[0;32m    109\u001b[0m         \u001b[1;32mreturn\u001b[0m \u001b[0mloss\u001b[0m\u001b[1;33m\u001b[0m\u001b[0m\n",
      "\u001b[1;31mKeyboardInterrupt\u001b[0m: "
     ]
    }
   ],
   "source": [
    "for epoch in range(EPOCHS):\n",
    "    it = 0\n",
    "    tot = 0\n",
    "    act = 0\n",
    "\n",
    "    for idx in tqdm(np.random.permutation(len(y_list))):\n",
    "        x = torch.tensor(X_token[idx], dtype=torch.long)\n",
    "        y = torch.tensor([y_list[idx]])\n",
    "        \n",
    "        optimizer.zero_grad()\n",
    "        model.hidden = model.init_hidden()\n",
    "        pred = model(x)\n",
    "        l = loss_function(pred, y)\n",
    "        l.backward()\n",
    "        optimizer.step()\n",
    "        \n",
    "        it += 1\n",
    "        tot += l.item()\n",
    "        act += (pred.detach().numpy().argmax() == yy)\n",
    "        if it == PRINT_EVERY:\n",
    "            print(tot/it, act/it)\n",
    "            it = 0\n",
    "            tot = 0\n",
    "            act = 0\n",
    "    #avg_loss, acc = train_epoch_progress(model, train_iter, loss_function, optimizer, text_field, label_field, epoch)\n",
    "    #tqdm.write('Train: loss %.2f acc %.1f' % (avg_loss, acc*100))"
   ]
  },
  {
   "cell_type": "code",
   "execution_count": 133,
   "metadata": {
    "scrolled": true
   },
   "outputs": [
    {
     "data": {
      "application/vnd.jupyter.widget-view+json": {
       "model_id": "cf8ae272b9994a4a97218cb893715a0b"
      }
     },
     "metadata": {},
     "output_type": "display_data"
    }
   ],
   "source": [
    "preds = []\n",
    "for xx in tqdm(X_dev_token):\n",
    "    x = torch.tensor(xx, dtype=torch.long)\n",
    "    model.hidden = model.init_hidden()\n",
    "    preds.append(model(x).detach().numpy().argmax())\n"
   ]
  },
  {
   "cell_type": "code",
   "execution_count": 134,
   "metadata": {},
   "outputs": [
    {
     "data": {
      "image/png": "[encoded data removed]",
      "text/plain": [
       "<Figure size 432x288 with 1 Axes>"
      ]
     },
     "metadata": {},
     "output_type": "display_data"
    }
   ],
   "source": [
    "plt.plot(preds, linewidth=0.1);"
   ]
  },
  {
   "cell_type": "code",
   "execution_count": 135,
   "metadata": {
    "collapsed": true
   },
   "outputs": [],
   "source": [
    "import numpy as np"
   ]
  },
  {
   "cell_type": "markdown",
   "metadata": {},
   "source": [
    "0.7659422871392946"
   ]
  },
  {
   "cell_type": "code",
   "execution_count": 136,
   "metadata": {},
   "outputs": [
    {
     "name": "stdout",
     "output_type": "stream",
     "text": [
      "0.7894549340933381\n",
      "0.7145232157700986\n"
     ]
    }
   ],
   "source": [
    "print((np.array(preds) == np.array(y_dev_list[:len(preds)])).mean())\n",
    "print((0 == np.array(y_dev_list[:len(preds)])).mean())"
   ]
  },
  {
   "cell_type": "markdown",
   "metadata": {},
   "source": [
    "### пробуем всё"
   ]
  },
  {
   "cell_type": "code",
   "execution_count": null,
   "metadata": {
    "collapsed": true
   },
   "outputs": [],
   "source": [
    "import numpy as np\n",
    "import matplotlib.pyplot as plt\n",
    "%matplotlib inline\n",
    "from nltk.tokenize import WordPunctTokenizer\n",
    "from subword_nmt.learn_bpe import learn_bpe\n",
    "from subword_nmt.apply_bpe import BPE"
   ]
  },
  {
   "cell_type": "code",
   "execution_count": null,
   "metadata": {
    "collapsed": true
   },
   "outputs": [],
   "source": [
    "tokenizer = WordPunctTokenizer()\n",
    "\n",
    "def tokenize_src(x):\n",
    "    return ' '.join(tokenizer.tokenize(x.lower()))\n",
    "\n",
    "def tokenize_tgt(x):\n",
    "    return ' '.join(tokenizer.tokenize(x))"
   ]
  },
  {
   "cell_type": "code",
   "execution_count": null,
   "metadata": {
    "collapsed": true
   },
   "outputs": [],
   "source": [
    "def preprocess(dataset_type, datadir, source_voc_type, dist_voc_type): #создает bpe-словарики из слов в словарях sourcevoc(это все возможные слова, \n",
    "    # которые могут встретиться в вопросах на натуральном языке по этой базе данных), targetvoc(символы математического языка запроса)\n",
    "    with open(\"{}.{}\".format(dataset_type,source_voc_type), 'w') as f_src,  open(\"{}.{}\".format(dataset_type, dist_voc_type), 'w') as f_dst:\n",
    "        for line in open('{}/{}.txt'.format(datadir, dataset_type), encoding='utf-8'):\n",
    "            try:\n",
    "                src_line, dst_line = line.strip().split('\\t')\n",
    "            except:\n",
    "                print (line)\n",
    "                continue\n",
    "            try:\n",
    "                f_src.write(tokenize_src(src_line) + '\\n')\n",
    "                f_dst.write(tokenize_tgt(dst_line) + '\\n')\n",
    "            except:\n",
    "                continue\n",
    "                i = i +1 \n",
    "                print (tokenize_src(src_line) + '\\n')\n",
    "                print (tokenize_tgt(dst_line) + '\\n')\n",
    "        \n",
    "    bpe = {}\n",
    "    print (\"create bpe\")\n",
    "    for v_type in [source_voc_type, dist_voc_type]:\n",
    "        learn_bpe(open('./{}.'.format(dataset_type) + v_type), open('bpe_rules.' + v_type, 'w'), num_symbols=8000)\n",
    "        bpe[v_type] = BPE(open('./bpe_rules.' + v_type))\n",
    "        with open('{}.bpe.'.format(dataset_type) + v_type, 'w') as f_out:\n",
    "            for line in open('{}.'.format(dataset_type) + v_type):\n",
    "                f_out.write(bpe[v_type].process_line(line.strip()) + '\\n')"
   ]
  },
  {
   "cell_type": "code",
   "execution_count": null,
   "metadata": {
    "collapsed": true
   },
   "outputs": [],
   "source": [
    "preprocess('train', root + '/data', 'qw', 'qu')"
   ]
  },
  {
   "cell_type": "markdown",
   "metadata": {},
   "source": [
    "#### Предсказываем агрегируемую колонку (и тип агрегации тоже, отдельной головой)"
   ]
  },
  {
   "cell_type": "code",
   "execution_count": 429,
   "metadata": {
    "collapsed": true
   },
   "outputs": [],
   "source": [
    "class ToyChooser(nn.Module):\n",
    "    def __init__(self, hidden_size=64, vocab_size=14, embedding_dim=32, proj_size=128, agg_size=5):\n",
    "        super().__init__()\n",
    "        RNN = nn.LSTM\n",
    "        self.embeddings = nn.Embedding(vocab_size, embedding_dim)\n",
    "        self.sent_rnn = RNN(embedding_dim, hidden_size, bidirectional=True)\n",
    "        self.sent_proj = nn.Linear(hidden_size * 2, proj_size)\n",
    "        \n",
    "        self.option_rnn = RNN(embedding_dim, hidden_size, bidirectional=True) # self.sent_rnn #\n",
    "        self.option_proj = nn.Linear(hidden_size * 2, proj_size)\n",
    "        \n",
    "        self.mix_mlp = nn.Sequential(\n",
    "            nn.Linear(3 * proj_size, proj_size), \n",
    "            nn.LeakyReLU(), \n",
    "            nn.Linear(proj_size, 1),             \n",
    "        )\n",
    "        \n",
    "        self.agg_mlp = nn.Sequential(\n",
    "            nn.Linear(hidden_size * 2, hidden_size),\n",
    "            nn.LeakyReLU(), \n",
    "            nn.Linear(hidden_size, agg_size),   \n",
    "        )\n",
    "    \n",
    "    def forward(self, sentence, options):\n",
    "        batch_size = 1\n",
    "        sent_len = sentence.shape[0]\n",
    "        x = self.embeddings(sentence).view(sent_len, batch_size,  -1)\n",
    "        sent_rnn_out, _ = self.sent_rnn(x)\n",
    "        encoded_sentence = self.sent_proj(sent_rnn_out[-1])[0]\n",
    "        \n",
    "        dots = []\n",
    "        for option in options:\n",
    "            z = self.embeddings(option).view(option.shape[0], batch_size,  -1)\n",
    "            opt_rnn_out, _ = self.option_rnn(z)\n",
    "            encoded_option = self.option_proj(opt_rnn_out[-1])[0]\n",
    "            #dots.append(torch.cosine_similarity(encoded_sentence, encoded_option, dim=0))\n",
    "            dots.append(self.mix_mlp(\n",
    "                torch.cat([encoded_sentence, encoded_option, torch.mul(encoded_sentence, encoded_option)])\n",
    "            ))\n",
    "        sel_scores = torch.stack(dots).view(1, -1)\n",
    "        \n",
    "        agg_scores = self.agg_mlp(sent_rnn_out[-1]).view(1, -1)\n",
    "        \n",
    "        return sel_scores, agg_scores"
   ]
  },
  {
   "cell_type": "code",
   "execution_count": null,
   "metadata": {
    "collapsed": true
   },
   "outputs": [],
   "source": [
    "class BatchedToyChooser(nn.Module):\n",
    "    def __init__(self, hidden_size=64, vocab_size=14, embedding_dim=32, proj_size=128, agg_size=5):\n",
    "        super().__init__()\n",
    "        RNN = nn.LSTM\n",
    "        self.embeddings = nn.Embedding(vocab_size, embedding_dim)\n",
    "        self.sent_rnn = RNN(embedding_dim, hidden_size, bidirectional=True)\n",
    "        self.sent_proj = nn.Linear(hidden_size * 2, proj_size)\n",
    "        \n",
    "        self.option_rnn = RNN(embedding_dim, hidden_size, bidirectional=True) # self.sent_rnn #\n",
    "        self.option_proj = nn.Linear(hidden_size * 2, proj_size)\n",
    "        \n",
    "        self.mix_mlp = nn.Sequential(\n",
    "            nn.Linear(3 * proj_size, proj_size), \n",
    "            nn.LeakyReLU(), \n",
    "            nn.Linear(proj_size, 1),             \n",
    "        )\n",
    "        \n",
    "        self.agg_mlp = nn.Sequential(\n",
    "            nn.Linear(hidden_size * 2, hidden_size),\n",
    "            nn.LeakyReLU(), \n",
    "            nn.Linear(hidden_size, agg_size),   \n",
    "        )\n",
    "    \n",
    "    def forward(self, sentence, options):\n",
    "        batch_size = sentence.shape[1]\n",
    "        #sent_len = sentence.shape[0]\n",
    "        \n",
    "        # pack_padded_sequence and pad_packed_sequence\n",
    "        \n",
    "        x = self.embeddings(sentence).view(sent_len, batch_size,  -1)\n",
    "        sent_rnn_out, _ = self.sent_rnn(x)\n",
    "        encoded_sentence = self.sent_proj(sent_rnn_out[-1])[0]\n",
    "        \n",
    "        dots = []\n",
    "        for option in options:\n",
    "            z = self.embeddings(option).view(option.shape[0], batch_size,  -1)\n",
    "            opt_rnn_out, _ = self.option_rnn(z)\n",
    "            encoded_option = self.option_proj(opt_rnn_out[-1])[0]\n",
    "            #dots.append(torch.cosine_similarity(encoded_sentence, encoded_option, dim=0))\n",
    "            dots.append(self.mix_mlp(\n",
    "                torch.cat([encoded_sentence, encoded_option, torch.mul(encoded_sentence, encoded_option)])\n",
    "            ))\n",
    "        sel_scores = torch.stack(dots).view(1, -1)\n",
    "        \n",
    "        agg_scores = self.agg_mlp(sent_rnn_out[-1]).view(1, -1)\n",
    "        \n",
    "        return sel_scores, agg_scores"
   ]
  },
  {
   "cell_type": "code",
   "execution_count": 430,
   "metadata": {
    "collapsed": true
   },
   "outputs": [],
   "source": [
    "sel_model = ToyChooser(\n",
    "    vocab_size=bpe.vocab_size(), \n",
    "    embedding_dim=128, \n",
    "    hidden_size=128, \n",
    "    proj_size=128,\n",
    "    agg_size=len(set(y_list)),\n",
    ")"
   ]
  },
  {
   "cell_type": "code",
   "execution_count": 431,
   "metadata": {},
   "outputs": [
    {
     "data": {
      "text/plain": [
       "ToyChooser(\n",
       "  (embeddings): Embedding(30000, 128)\n",
       "  (sent_rnn): LSTM(128, 128, bidirectional=True)\n",
       "  (sent_proj): Linear(in_features=256, out_features=128, bias=True)\n",
       "  (option_rnn): LSTM(128, 128, bidirectional=True)\n",
       "  (option_proj): Linear(in_features=256, out_features=128, bias=True)\n",
       "  (mix_mlp): Sequential(\n",
       "    (0): Linear(in_features=384, out_features=128, bias=True)\n",
       "    (1): LeakyReLU(negative_slope=0.01)\n",
       "    (2): Linear(in_features=128, out_features=1, bias=True)\n",
       "  )\n",
       "  (agg_mlp): Sequential(\n",
       "    (0): Linear(in_features=256, out_features=128, bias=True)\n",
       "    (1): LeakyReLU(negative_slope=0.01)\n",
       "    (2): Linear(in_features=128, out_features=6, bias=True)\n",
       "  )\n",
       ")"
      ]
     },
     "execution_count": 431,
     "metadata": {},
     "output_type": "execute_result"
    }
   ],
   "source": [
    "sel_model"
   ]
  },
  {
   "cell_type": "code",
   "execution_count": 432,
   "metadata": {
    "collapsed": true
   },
   "outputs": [],
   "source": [
    "sel_optimizer = torch.optim.Adam(sel_model.parameters(), lr=3e-3)\n",
    "sel_loss = nn.CrossEntropyLoss()\n",
    "agg_loss = nn.CrossEntropyLoss()"
   ]
  },
  {
   "cell_type": "code",
   "execution_count": 433,
   "metadata": {
    "collapsed": true
   },
   "outputs": [],
   "source": [
    "PRINT_EVERY = 100\n",
    "EPOCHS = 100"
   ]
  },
  {
   "cell_type": "markdown",
   "metadata": {},
   "source": [
    "Моделька не факт что выигрывает, если увеличить размерность: с 32-мерными эмбеддингами она, казалось, совсем не обучалась, а с 128-тоже.\n",
    "\n",
    "Пробуем оверфитнуться под первые 100 примеров, и вроде бы получается, хоть даже это происходит оч медленно. И даже на первой сотке лосс и акураси коррелируют не очень сильно, что вообще-то странненько. Через пару десятков эпох лосс 1e-3 начал дребезжать, но вроде потом сам выровнялся и дал таки эпохе на 20-й 98% точность. Ненадолго, правда. Надо таки его подсократить. \n",
    "\n",
    "Добавил вторую голову, для выбора типа агрегации. Что приятно: с двумя головами не медленнее, чем  с одной, т.к. всё равно всё время на rnn-ки уходит. Что странно: GRU учится не быстрее LSTM"
   ]
  },
  {
   "cell_type": "markdown",
   "metadata": {},
   "source": [
    "После ночи обучения лосс где-то в космосе, а точность разбора безумно скачет. Чё-то я делаю не так..."
   ]
  },
  {
   "cell_type": "code",
   "execution_count": 435,
   "metadata": {
    "scrolled": true
   },
   "outputs": [
    {
     "data": {
      "application/vnd.jupyter.widget-view+json": {
       "model_id": "e3c703de713140dcbdd45c1133fa708c"
      }
     },
     "metadata": {},
     "output_type": "display_data"
    },
    {
     "name": "stdout",
     "output_type": "stream",
     "text": [
      "1.819 0.19 ; 1.015  0.7\n",
      "1.864 0.11 ; 0.8453 0.73\n",
      "1.826 0.11 ; 1.019 0.73\n",
      "1.828 0.18 ; 0.577 0.84\n",
      "1.874 0.15 ; 1.192 0.66\n",
      "1.815 0.13 ; 0.9322 0.71\n",
      "1.843 0.08 ; 0.8244 0.71\n",
      "1.823  0.2 ; 0.9521  0.7\n",
      "1.838 0.17 ; 0.887 0.72\n",
      "1.788 0.16 ; 0.8296 0.72\n",
      "1.823  0.2 ; 1.065 0.71\n",
      "1.834 0.23 ; 1.004 0.71\n",
      "1.832 0.15 ; 0.6986 0.76\n",
      "1.785 0.09 ; 0.8878 0.73\n",
      "1.842 0.15 ; 0.5616 0.87\n",
      "1.847 0.22 ; 0.6588 0.78\n",
      "1.829 0.15 ; 0.5954 0.81\n",
      "1.79 0.26 ; 0.6351 0.86\n",
      "1.847 0.17 ; 0.6284 0.82\n",
      "1.851 0.14 ; 0.7753 0.76\n",
      "1.825 0.17 ; 0.4173 0.85\n",
      "1.798 0.14 ; 0.6033 0.84\n",
      "1.795 0.16 ; 0.6157 0.83\n",
      "1.847 0.17 ; 0.612 0.78\n",
      "1.802 0.19 ; 0.4705 0.91\n"
     ]
    },
    {
     "ename": "KeyboardInterrupt",
     "evalue": "",
     "output_type": "error",
     "traceback": [
      "\u001b[1;31m---------------------------------------------------------------------------\u001b[0m",
      "\u001b[1;31mKeyboardInterrupt\u001b[0m                         Traceback (most recent call last)",
      "\u001b[1;32m<ipython-input-435-b4f3b55723c8>\u001b[0m in \u001b[0;36m<module>\u001b[1;34m()\u001b[0m\n\u001b[0;32m     19\u001b[0m         \u001b[0mtotal_loss\u001b[0m \u001b[1;33m=\u001b[0m \u001b[0ml1\u001b[0m \u001b[1;33m+\u001b[0m \u001b[0ml2\u001b[0m\u001b[1;33m\u001b[0m\u001b[0m\n\u001b[0;32m     20\u001b[0m \u001b[1;33m\u001b[0m\u001b[0m\n\u001b[1;32m---> 21\u001b[1;33m         \u001b[0mtotal_loss\u001b[0m\u001b[1;33m.\u001b[0m\u001b[0mbackward\u001b[0m\u001b[1;33m(\u001b[0m\u001b[1;33m)\u001b[0m\u001b[1;33m\u001b[0m\u001b[0m\n\u001b[0m\u001b[0;32m     22\u001b[0m         \u001b[0mtorch\u001b[0m\u001b[1;33m.\u001b[0m\u001b[0mnn\u001b[0m\u001b[1;33m.\u001b[0m\u001b[0mutils\u001b[0m\u001b[1;33m.\u001b[0m\u001b[0mclip_grad_norm_\u001b[0m\u001b[1;33m(\u001b[0m\u001b[0msel_model\u001b[0m\u001b[1;33m.\u001b[0m\u001b[0mparameters\u001b[0m\u001b[1;33m(\u001b[0m\u001b[1;33m)\u001b[0m\u001b[1;33m,\u001b[0m \u001b[1;36m10.0\u001b[0m\u001b[1;33m)\u001b[0m\u001b[1;33m\u001b[0m\u001b[0m\n\u001b[0;32m     23\u001b[0m         \u001b[0msel_optimizer\u001b[0m\u001b[1;33m.\u001b[0m\u001b[0mstep\u001b[0m\u001b[1;33m(\u001b[0m\u001b[1;33m)\u001b[0m\u001b[1;33m\u001b[0m\u001b[0m\n",
      "\u001b[1;32mC:\\Users\\ddale\\AppData\\Local\\Continuum\\Anaconda3\\lib\\site-packages\\torch\\tensor.py\u001b[0m in \u001b[0;36mbackward\u001b[1;34m(self, gradient, retain_graph, create_graph)\u001b[0m\n\u001b[0;32m    105\u001b[0m                 \u001b[0mproducts\u001b[0m\u001b[1;33m.\u001b[0m \u001b[0mDefaults\u001b[0m \u001b[0mto\u001b[0m\u001b[0;31m \u001b[0m\u001b[0;31m`\u001b[0m\u001b[0;31m`\u001b[0m\u001b[1;32mFalse\u001b[0m\u001b[0;31m`\u001b[0m\u001b[0;31m`\u001b[0m\u001b[1;33m.\u001b[0m\u001b[1;33m\u001b[0m\u001b[0m\n\u001b[0;32m    106\u001b[0m         \"\"\"\n\u001b[1;32m--> 107\u001b[1;33m         \u001b[0mtorch\u001b[0m\u001b[1;33m.\u001b[0m\u001b[0mautograd\u001b[0m\u001b[1;33m.\u001b[0m\u001b[0mbackward\u001b[0m\u001b[1;33m(\u001b[0m\u001b[0mself\u001b[0m\u001b[1;33m,\u001b[0m \u001b[0mgradient\u001b[0m\u001b[1;33m,\u001b[0m \u001b[0mretain_graph\u001b[0m\u001b[1;33m,\u001b[0m \u001b[0mcreate_graph\u001b[0m\u001b[1;33m)\u001b[0m\u001b[1;33m\u001b[0m\u001b[0m\n\u001b[0m\u001b[0;32m    108\u001b[0m \u001b[1;33m\u001b[0m\u001b[0m\n\u001b[0;32m    109\u001b[0m     \u001b[1;32mdef\u001b[0m \u001b[0mregister_hook\u001b[0m\u001b[1;33m(\u001b[0m\u001b[0mself\u001b[0m\u001b[1;33m,\u001b[0m \u001b[0mhook\u001b[0m\u001b[1;33m)\u001b[0m\u001b[1;33m:\u001b[0m\u001b[1;33m\u001b[0m\u001b[0m\n",
      "\u001b[1;32mC:\\Users\\ddale\\AppData\\Local\\Continuum\\Anaconda3\\lib\\site-packages\\torch\\autograd\\__init__.py\u001b[0m in \u001b[0;36mbackward\u001b[1;34m(tensors, grad_tensors, retain_graph, create_graph, grad_variables)\u001b[0m\n\u001b[0;32m     91\u001b[0m     Variable._execution_engine.run_backward(\n\u001b[0;32m     92\u001b[0m         \u001b[0mtensors\u001b[0m\u001b[1;33m,\u001b[0m \u001b[0mgrad_tensors\u001b[0m\u001b[1;33m,\u001b[0m \u001b[0mretain_graph\u001b[0m\u001b[1;33m,\u001b[0m \u001b[0mcreate_graph\u001b[0m\u001b[1;33m,\u001b[0m\u001b[1;33m\u001b[0m\u001b[0m\n\u001b[1;32m---> 93\u001b[1;33m         allow_unreachable=True)  # allow_unreachable flag\n\u001b[0m\u001b[0;32m     94\u001b[0m \u001b[1;33m\u001b[0m\u001b[0m\n\u001b[0;32m     95\u001b[0m \u001b[1;33m\u001b[0m\u001b[0m\n",
      "\u001b[1;31mKeyboardInterrupt\u001b[0m: "
     ]
    }
   ],
   "source": [
    "for epoch in range(EPOCHS):\n",
    "    it = 0\n",
    "    tot1 = 0\n",
    "    act1 = 0\n",
    "    tot2 = 0\n",
    "    act2 = 0\n",
    "\n",
    "    for idx in tqdm(np.random.permutation(len(y_list))): # # \n",
    "        x = torch.tensor(X_token[idx], dtype=torch.long)\n",
    "        options = [torch.tensor(op) for op in id2table[table_ids_list[idx]]['header_bpe']]\n",
    "        agg_y = torch.tensor([y_list[idx]])\n",
    "        sel_y = torch.tensor([y_sel_list[idx]])\n",
    "        \n",
    "        sel_optimizer.zero_grad()\n",
    "        # model.hidden = model.init_hidden()\n",
    "        sel_scores, agg_scores = sel_model(x, options)\n",
    "        l1 = sel_loss(sel_scores, sel_y)\n",
    "        l2 = agg_loss(agg_scores, agg_y)\n",
    "        total_loss = l1 + l2\n",
    "        \n",
    "        total_loss.backward()\n",
    "        torch.nn.utils.clip_grad_norm_(sel_model.parameters(), 10.0)\n",
    "        sel_optimizer.step()\n",
    "        \n",
    "        it += 1\n",
    "        tot1 += l1.item()\n",
    "        act1 += (sel_scores.detach().numpy().argmax() == y_sel_list[idx])\n",
    "        \n",
    "        tot2 += l2.item()\n",
    "        act2 += (agg_scores.detach().numpy().argmax() == y_list[idx])\n",
    "        if it == PRINT_EVERY:\n",
    "            print('{:4.4} {:4.4} ; {:4.4} {:4.4}'.format(tot1/it, act1/it, tot2/it, act2/it))\n",
    "            it = 0\n",
    "            tot1, act1, tot2, act2 = 0, 0, 0, 0"
   ]
  },
  {
   "cell_type": "markdown",
   "metadata": {},
   "source": [
    "Воспроизводим отдельные кусочки"
   ]
  },
  {
   "cell_type": "code",
   "execution_count": 421,
   "metadata": {
    "collapsed": true
   },
   "outputs": [],
   "source": [
    "idx = random.randint(0, -1 + len(y_list))\n",
    "x = torch.tensor(X_token[idx], dtype=torch.long)\n",
    "options = [torch.tensor(op) for op in id2table[table_ids_list[idx]]['header_bpe']]\n",
    "agg_y = torch.tensor([y_list[idx]])\n",
    "sel_y = torch.tensor([y_sel_list[idx]])"
   ]
  },
  {
   "cell_type": "code",
   "execution_count": 422,
   "metadata": {},
   "outputs": [
    {
     "name": "stdout",
     "output_type": "stream",
     "text": [
      "What is the lowest team (s) that have tvmk as top scorer (s) and flora as the champion?\n",
      "['Season', 'Champion', 'Runner-Up', '3rd Position', 'Top Goalscorer(s)', 'Team(s)']\n",
      "5 Team(s)\n"
     ]
    }
   ],
   "source": [
    "print(X_text[idx])\n",
    "h = id2table[table_ids_list[idx]]['header']\n",
    "print(h)\n",
    "print(y_sel_list[idx], h[y_sel_list[idx]])\n"
   ]
  },
  {
   "cell_type": "code",
   "execution_count": 423,
   "metadata": {},
   "outputs": [
    {
     "data": {
      "text/plain": [
       "[tensor([   2, 2077,    3]),\n",
       " tensor([   2, 4511,    3]),\n",
       " tensor([    2, 23702,     3]),\n",
       " tensor([   2, 2177, 1722,    3]),\n",
       " tensor([   2, 2362, 2122, 1122, 1068, 1801,    3]),\n",
       " tensor([   2, 1436, 1801,    3])]"
      ]
     },
     "execution_count": 423,
     "metadata": {},
     "output_type": "execute_result"
    }
   ],
   "source": [
    "options"
   ]
  },
  {
   "cell_type": "code",
   "execution_count": 424,
   "metadata": {
    "collapsed": true
   },
   "outputs": [],
   "source": [
    "sel_scores, agg_scores = sel_model(x, options)"
   ]
  },
  {
   "cell_type": "code",
   "execution_count": 425,
   "metadata": {},
   "outputs": [
    {
     "data": {
      "text/plain": [
       "tensor([[ 0.6206,  0.5592,  1.0296,  0.0177,  0.5290, -0.2559]],\n",
       "       grad_fn=<ViewBackward>)"
      ]
     },
     "execution_count": 425,
     "metadata": {},
     "output_type": "execute_result"
    }
   ],
   "source": [
    "sel_scores"
   ]
  },
  {
   "cell_type": "code",
   "execution_count": 426,
   "metadata": {
    "collapsed": true
   },
   "outputs": [],
   "source": [
    "batch_size=1\n",
    "sent_len = x.shape[0]\n",
    "sent_emb = sel_model.embeddings(x).view(sent_len, batch_size,  -1)\n",
    "sent_rnn_out, _ = sel_model.sent_rnn(sent_emb)\n",
    "encoded_sentence = sel_model.sent_proj(sent_rnn_out[-1])[0]"
   ]
  },
  {
   "cell_type": "code",
   "execution_count": 428,
   "metadata": {},
   "outputs": [
    {
     "data": {
      "text/plain": [
       "torch.Size([20, 1, 128])"
      ]
     },
     "execution_count": 428,
     "metadata": {},
     "output_type": "execute_result"
    }
   ],
   "source": [
    "sent_emb.shape"
   ]
  },
  {
   "cell_type": "code",
   "execution_count": 368,
   "metadata": {},
   "outputs": [
    {
     "data": {
      "text/plain": [
       "torch.Size([10, 1, 256])"
      ]
     },
     "execution_count": 368,
     "metadata": {},
     "output_type": "execute_result"
    }
   ],
   "source": [
    "sent_rnn_out.shape"
   ]
  },
  {
   "cell_type": "code",
   "execution_count": 377,
   "metadata": {},
   "outputs": [
    {
     "data": {
      "text/plain": [
       "array([ 1.0000000e+00, -1.0000000e+00,  1.2099743e-05, -1.0000000e+00,\n",
       "        0.0000000e+00,  1.0000000e+00, -1.0000000e+00,  1.0000000e+00,\n",
       "       -1.0000000e+00,  1.0000000e+00,  1.0000000e+00,  1.1920929e-07,\n",
       "       -1.0000000e+00, -1.0000000e+00,  0.0000000e+00,  0.0000000e+00,\n",
       "        1.0000000e+00, -1.0000000e+00,  1.0000000e+00,  1.0000000e+00,\n",
       "        1.0000000e+00, -1.0000000e+00,  0.0000000e+00,  0.0000000e+00,\n",
       "        1.0000000e+00, -1.0000000e+00, -1.0000000e+00, -9.9999642e-01,\n",
       "        9.9999654e-01, -1.0000000e+00,  9.9999952e-01, -1.0000000e+00,\n",
       "        0.0000000e+00,  0.0000000e+00,  1.0000000e+00,  0.0000000e+00,\n",
       "        0.0000000e+00, -9.9990940e-01, -2.3841858e-06, -1.0000000e+00,\n",
       "       -1.0000000e+00, -1.0000000e+00,  9.9999994e-01,  0.0000000e+00,\n",
       "        1.0000000e+00, -1.1920929e-07, -9.9998850e-01, -1.0000000e+00,\n",
       "        1.0000000e+00, -1.0000000e+00, -1.0000000e+00, -1.0000000e+00,\n",
       "        1.0000000e+00,  9.9999881e-01,  9.9999988e-01, -2.3841858e-07,\n",
       "        1.0000000e+00,  9.9999994e-01, -1.0000000e+00, -9.9999863e-01,\n",
       "        1.0000000e+00,  0.0000000e+00, -1.0000000e+00,  0.0000000e+00,\n",
       "       -1.0000000e+00,  1.0000000e+00,  9.9998122e-01, -1.0000000e+00,\n",
       "        0.0000000e+00, -1.0000000e+00,  1.0000000e+00,  0.0000000e+00,\n",
       "        0.0000000e+00, -9.9999994e-01,  1.0000000e+00,  1.0000000e+00,\n",
       "        1.0000000e+00,  1.1920929e-07,  1.0000000e+00, -1.0000000e+00,\n",
       "        1.0000000e+00,  0.0000000e+00, -9.9969280e-01,  1.0000000e+00,\n",
       "        0.0000000e+00,  1.0000000e+00,  0.0000000e+00,  1.0000000e+00,\n",
       "        1.0000000e+00,  0.0000000e+00,  0.0000000e+00,  9.9998951e-01,\n",
       "        5.6952238e-04,  0.0000000e+00, -9.9999988e-01,  1.0000000e+00,\n",
       "        1.0000000e+00, -6.5565109e-07, -1.0000000e+00,  9.9998683e-01,\n",
       "        0.0000000e+00, -1.0000000e+00,  1.0000000e+00,  0.0000000e+00,\n",
       "       -1.0000000e+00, -1.0000000e+00, -1.3113022e-06,  1.0000000e+00,\n",
       "        1.1920929e-07,  7.2479248e-05, -1.0000000e+00, -1.0000000e+00,\n",
       "        0.0000000e+00,  1.0000000e+00,  9.9999994e-01,  0.0000000e+00,\n",
       "        0.0000000e+00,  1.0000000e+00,  0.0000000e+00,  0.0000000e+00,\n",
       "        9.9908519e-01, -1.0000000e+00, -1.6450882e-05,  9.9994981e-01,\n",
       "       -9.4175339e-06, -9.9999988e-01, -1.0000000e+00,  0.0000000e+00,\n",
       "        0.0000000e+00,  0.0000000e+00,  0.0000000e+00,  0.0000000e+00,\n",
       "        0.0000000e+00,  0.0000000e+00,  0.0000000e+00,  0.0000000e+00,\n",
       "        0.0000000e+00,  0.0000000e+00,  0.0000000e+00, -1.0000000e+00,\n",
       "        0.0000000e+00,  0.0000000e+00,  1.0000000e+00,  0.0000000e+00,\n",
       "        0.0000000e+00,  0.0000000e+00,  1.0000000e+00,  0.0000000e+00,\n",
       "        0.0000000e+00,  0.0000000e+00,  0.0000000e+00,  0.0000000e+00,\n",
       "        0.0000000e+00,  0.0000000e+00,  0.0000000e+00,  0.0000000e+00,\n",
       "        0.0000000e+00,  0.0000000e+00,  0.0000000e+00,  0.0000000e+00,\n",
       "        0.0000000e+00,  0.0000000e+00,  0.0000000e+00,  1.0000000e+00,\n",
       "        0.0000000e+00,  0.0000000e+00,  0.0000000e+00,  1.0000000e+00,\n",
       "        0.0000000e+00,  0.0000000e+00, -1.0000000e+00,  0.0000000e+00,\n",
       "       -1.0000000e+00,  0.0000000e+00,  0.0000000e+00,  0.0000000e+00,\n",
       "        0.0000000e+00,  0.0000000e+00,  1.0000000e+00,  0.0000000e+00,\n",
       "        0.0000000e+00,  0.0000000e+00,  0.0000000e+00,  0.0000000e+00,\n",
       "        1.0000000e+00,  0.0000000e+00,  0.0000000e+00,  0.0000000e+00,\n",
       "        0.0000000e+00,  0.0000000e+00,  0.0000000e+00,  0.0000000e+00,\n",
       "        0.0000000e+00,  0.0000000e+00,  0.0000000e+00,  0.0000000e+00,\n",
       "        0.0000000e+00,  1.0000000e+00,  0.0000000e+00,  0.0000000e+00,\n",
       "        0.0000000e+00,  0.0000000e+00,  0.0000000e+00,  0.0000000e+00,\n",
       "       -1.0000000e+00,  0.0000000e+00, -1.0000000e+00,  0.0000000e+00,\n",
       "        0.0000000e+00,  0.0000000e+00,  0.0000000e+00,  0.0000000e+00,\n",
       "        0.0000000e+00,  0.0000000e+00, -1.0000000e+00,  0.0000000e+00,\n",
       "        1.0000000e+00,  0.0000000e+00, -1.0000000e+00,  0.0000000e+00,\n",
       "        0.0000000e+00,  0.0000000e+00,  0.0000000e+00,  0.0000000e+00,\n",
       "        0.0000000e+00,  0.0000000e+00,  0.0000000e+00,  0.0000000e+00,\n",
       "        0.0000000e+00,  0.0000000e+00,  1.0000000e+00,  0.0000000e+00,\n",
       "        0.0000000e+00,  1.0000000e+00,  0.0000000e+00,  0.0000000e+00,\n",
       "        0.0000000e+00,  0.0000000e+00,  0.0000000e+00,  0.0000000e+00,\n",
       "        0.0000000e+00,  0.0000000e+00,  0.0000000e+00,  0.0000000e+00,\n",
       "        0.0000000e+00,  0.0000000e+00,  0.0000000e+00,  0.0000000e+00,\n",
       "        0.0000000e+00,  0.0000000e+00,  0.0000000e+00,  0.0000000e+00,\n",
       "        0.0000000e+00,  0.0000000e+00, -1.0000000e+00,  0.0000000e+00],\n",
       "      dtype=float32)"
      ]
     },
     "execution_count": 377,
     "metadata": {},
     "output_type": "execute_result"
    }
   ],
   "source": [
    "sent_rnn_out[-1][0].detach().numpy()"
   ]
  },
  {
   "cell_type": "code",
   "execution_count": 330,
   "metadata": {},
   "outputs": [
    {
     "data": {
      "text/plain": [
       "'▁Time/Retired'"
      ]
     },
     "execution_count": 330,
     "metadata": {},
     "output_type": "execute_result"
    }
   ],
   "source": [
    "bpe.vocab()[2624]"
   ]
  },
  {
   "cell_type": "code",
   "execution_count": 336,
   "metadata": {},
   "outputs": [
    {
     "data": {
      "text/plain": [
       "[['▁Qu', 'ay', '▁c', 'ran', 'es']]"
      ]
     },
     "execution_count": 336,
     "metadata": {},
     "output_type": "execute_result"
    }
   ],
   "source": [
    "bpe.encode(['Quay cranes'], output_type=yttm.OutputType.SUBWORD)"
   ]
  },
  {
   "cell_type": "code",
   "execution_count": 280,
   "metadata": {},
   "outputs": [
    {
     "data": {
      "text/plain": [
       "5"
      ]
     },
     "execution_count": 280,
     "metadata": {},
     "output_type": "execute_result"
    }
   ],
   "source": [
    "y_sel_list[idx]"
   ]
  },
  {
   "cell_type": "code",
   "execution_count": 281,
   "metadata": {},
   "outputs": [
    {
     "data": {
      "text/plain": [
       "tensor([[0.0932, 0.0865, 0.0879, 0.0915, 0.0902, 0.0841, 0.0862, 0.0992]],\n",
       "       grad_fn=<ViewBackward>)"
      ]
     },
     "execution_count": 281,
     "metadata": {},
     "output_type": "execute_result"
    }
   ],
   "source": [
    "sel_scores"
   ]
  },
  {
   "cell_type": "code",
   "execution_count": 282,
   "metadata": {},
   "outputs": [
    {
     "data": {
      "text/plain": [
       "torch.Size([1, 8])"
      ]
     },
     "execution_count": 282,
     "metadata": {},
     "output_type": "execute_result"
    }
   ],
   "source": [
    "sel_scores.shape"
   ]
  },
  {
   "cell_type": "code",
   "execution_count": 283,
   "metadata": {},
   "outputs": [
    {
     "data": {
      "text/plain": [
       "['Series #',\n",
       " 'Season #',\n",
       " 'Title',\n",
       " 'Directed by',\n",
       " 'Written by',\n",
       " 'Original air date',\n",
       " 'Prod. code',\n",
       " 'U.S. viewers (millions)']"
      ]
     },
     "execution_count": 283,
     "metadata": {},
     "output_type": "execute_result"
    }
   ],
   "source": [
    "id2table[table_ids_list[idx]]['header']"
   ]
  },
  {
   "cell_type": "code",
   "execution_count": 284,
   "metadata": {},
   "outputs": [
    {
     "data": {
      "text/plain": [
       "[[2, 2729, 1509, 3],\n",
       " [2, 2077, 1509, 3],\n",
       " [2, 2572, 3],\n",
       " [2, 12969, 1316, 3],\n",
       " [2, 6309, 2021, 1316, 3],\n",
       " [2, 3361, 1512, 1225, 3],\n",
       " [2, 2199, 1168, 42, 1609, 3],\n",
       " [2, 2559, 1869, 7190, 3]]"
      ]
     },
     "execution_count": 284,
     "metadata": {},
     "output_type": "execute_result"
    }
   ],
   "source": [
    "id2table[table_ids_list[idx]]['header_bpe']"
   ]
  },
  {
   "cell_type": "code",
   "execution_count": 285,
   "metadata": {},
   "outputs": [
    {
     "data": {
      "text/plain": [
       "tensor([[ 0.0236,  0.0251,  0.0895,  0.0796, -0.1099,  0.0182]],\n",
       "       grad_fn=<ViewBackward>)"
      ]
     },
     "execution_count": 285,
     "metadata": {},
     "output_type": "execute_result"
    }
   ],
   "source": [
    "agg_scores"
   ]
  },
  {
   "cell_type": "code",
   "execution_count": 272,
   "metadata": {},
   "outputs": [
    {
     "data": {
      "text/plain": [
       "torch.Size([1, 60])"
      ]
     },
     "execution_count": 272,
     "metadata": {},
     "output_type": "execute_result"
    }
   ],
   "source": [
    "agg_scores.shape"
   ]
  },
  {
   "cell_type": "markdown",
   "metadata": {},
   "source": [
    "### пакуем батчи побольше\n",
    "\n",
    "1) Пакуем опции в совместные пакетики, чтобы ходить по ним не циклами, а в один прогон. На CPU это ускоряет лишь слегка; на GPU - почти в два раза. Клёво. "
   ]
  },
  {
   "cell_type": "code",
   "execution_count": 438,
   "metadata": {
    "collapsed": true
   },
   "outputs": [],
   "source": [
    "def to_cuda(x):\n",
    "    if torch.cuda.is_available():\n",
    "        return x.cuda()\n",
    "    return x"
   ]
  },
  {
   "cell_type": "code",
   "execution_count": 534,
   "metadata": {
    "collapsed": true
   },
   "outputs": [],
   "source": [
    "def do_pad(sentences):\n",
    "    lengths = [len(s) for s in sentences]\n",
    "    max_len = max(lengths)\n",
    "    new_sentences = [[s[i] if i < len(s) else 0 for i in range(max_len)] for s in sentences]\n",
    "    return to_cuda(torch.tensor(new_sentences)), to_cuda(torch.tensor(lengths))"
   ]
  },
  {
   "cell_type": "code",
   "execution_count": 560,
   "metadata": {
    "collapsed": true
   },
   "outputs": [],
   "source": []
  },
  {
   "cell_type": "code",
   "execution_count": 561,
   "metadata": {},
   "outputs": [
    {
     "data": {
      "text/plain": [
       "torch.Size([5, 128])"
      ]
     },
     "execution_count": 561,
     "metadata": {},
     "output_type": "execute_result"
    }
   ],
   "source": [
    "multiple_sentences.shape"
   ]
  },
  {
   "cell_type": "code",
   "execution_count": 562,
   "metadata": {},
   "outputs": [
    {
     "data": {
      "text/plain": [
       "torch.Size([5, 128])"
      ]
     },
     "execution_count": 562,
     "metadata": {},
     "output_type": "execute_result"
    }
   ],
   "source": [
    "proj.shape"
   ]
  },
  {
   "cell_type": "code",
   "execution_count": 563,
   "metadata": {},
   "outputs": [
    {
     "data": {
      "text/plain": [
       "torch.Size([5, 128])"
      ]
     },
     "execution_count": 563,
     "metadata": {},
     "output_type": "execute_result"
    }
   ],
   "source": [
    "torch.mul(multiple_sentences, proj).shape"
   ]
  },
  {
   "cell_type": "code",
   "execution_count": 566,
   "metadata": {},
   "outputs": [
    {
     "data": {
      "text/plain": [
       "torch.Size([5, 384])"
      ]
     },
     "execution_count": 566,
     "metadata": {},
     "output_type": "execute_result"
    }
   ],
   "source": [
    "torch.cat([multiple_sentences, proj, torch.mul(multiple_sentences, proj)], dim=1).shape"
   ]
  },
  {
   "cell_type": "code",
   "execution_count": 570,
   "metadata": {
    "collapsed": true
   },
   "outputs": [],
   "source": []
  },
  {
   "cell_type": "code",
   "execution_count": 571,
   "metadata": {},
   "outputs": [
    {
     "data": {
      "text/plain": [
       "tensor([[-0.3226, -0.3306, -0.3299, -0.3362, -0.3433]], grad_fn=<ViewBackward>)"
      ]
     },
     "execution_count": 571,
     "metadata": {},
     "output_type": "execute_result"
    }
   ],
   "source": [
    "option_scores"
   ]
  },
  {
   "cell_type": "code",
   "execution_count": 568,
   "metadata": {},
   "outputs": [
    {
     "data": {
      "text/plain": [
       "torch.Size([5, 1])"
      ]
     },
     "execution_count": 568,
     "metadata": {},
     "output_type": "execute_result"
    }
   ],
   "source": [
    "option_scores.shape"
   ]
  },
  {
   "cell_type": "code",
   "execution_count": 556,
   "metadata": {},
   "outputs": [
    {
     "data": {
      "text/plain": [
       "torch.Size([5, 1, 128])"
      ]
     },
     "execution_count": 556,
     "metadata": {},
     "output_type": "execute_result"
    }
   ],
   "source": [
    "proj.shape"
   ]
  },
  {
   "cell_type": "code",
   "execution_count": 543,
   "metadata": {},
   "outputs": [
    {
     "data": {
      "text/plain": [
       "torch.Size([5, 1, 256])"
      ]
     },
     "execution_count": 543,
     "metadata": {},
     "output_type": "execute_result"
    }
   ],
   "source": [
    "rnn_o_last.shape"
   ]
  },
  {
   "cell_type": "code",
   "execution_count": 658,
   "metadata": {
    "collapsed": true
   },
   "outputs": [],
   "source": [
    "class ToyChooser(nn.Module):\n",
    "    def __init__(self, hidden_size=64, vocab_size=14, embedding_dim=32, proj_size=128, agg_size=5):\n",
    "        super().__init__()\n",
    "        RNN = nn.LSTM\n",
    "        self.embeddings = nn.Embedding(vocab_size, embedding_dim)\n",
    "        self.sent_rnn = RNN(embedding_dim, hidden_size, bidirectional=True)\n",
    "        self.sent_proj = nn.Linear(hidden_size * 2, proj_size)\n",
    "        \n",
    "        self.option_rnn = RNN(embedding_dim, hidden_size, bidirectional=True) # self.sent_rnn #\n",
    "        self.option_proj = nn.Linear(hidden_size * 2, proj_size)\n",
    "        \n",
    "        self.mix_mlp = nn.Sequential(\n",
    "            nn.Linear(3 * proj_size, proj_size), \n",
    "            nn.LeakyReLU(), \n",
    "            nn.Linear(proj_size, 1),             \n",
    "        )\n",
    "        \n",
    "        self.agg_mlp = nn.Sequential(\n",
    "            nn.Linear(hidden_size * 2, hidden_size),\n",
    "            nn.LeakyReLU(), \n",
    "            nn.Linear(hidden_size, agg_size),   \n",
    "        )\n",
    "\n",
    "    def embed_multiple_sentences(self, inputs, embeddings_, rnn_, proj_):\n",
    "        padded_options, options_lengths = do_pad(inputs)\n",
    "        wemb = embeddings_(padded_options)\n",
    "        wemb_packed = torch.nn.utils.rnn.pack_padded_sequence(wemb, options_lengths, batch_first=True, enforce_sorted=False)\n",
    "        rnn_o, rnn_h = rnn_(wemb_packed)\n",
    "        rnn_o_unp, _ = torch.nn.utils.rnn.pad_packed_sequence(rnn_o, batch_first=True)\n",
    "        \n",
    "        end_idx = (options_lengths-1).view(-1, 1).expand(len(options_lengths), rnn_o_unp.size(2)).unsqueeze(1)\n",
    "        rnn_o_last = torch.gather(rnn_o_unp, 1, end_idx)\n",
    "\n",
    "        result = proj_(rnn_o_last)[:, 0, :]\n",
    "        return result\n",
    "\n",
    "    def forward(self, sentence, options):\n",
    "        batch_size = 1\n",
    "        sent_len = sentence.shape[0]\n",
    "        x = self.embeddings(sentence).view(sent_len, batch_size,  -1)\n",
    "        sent_rnn_out, _ = self.sent_rnn(x)\n",
    "        encoded_sentence = self.sent_proj(sent_rnn_out[-1])[0]\n",
    "        \n",
    "        \"\"\"\n",
    "        dots = []\n",
    "        for option in options:\n",
    "            z = self.embeddings(option).view(option.shape[0], batch_size,  -1)\n",
    "            opt_rnn_out, _ = self.option_rnn(z)\n",
    "            encoded_option = self.option_proj(opt_rnn_out[-1])[0]\n",
    "            #dots.append(torch.cosine_similarity(encoded_sentence, encoded_option, dim=0))\n",
    "            dots.append(self.mix_mlp(\n",
    "                torch.cat([encoded_sentence, encoded_option, torch.mul(encoded_sentence, encoded_option)])\n",
    "            ))\n",
    "        sel_scores = torch.stack(dots).view(1, -1)\n",
    "        \"\"\"\n",
    "        options_proj = self.embed_multiple_sentences(\n",
    "            options, \n",
    "            embeddings_ = self.embeddings,\n",
    "            rnn_ = self.option_rnn,\n",
    "            proj_ = self.option_proj\n",
    "        )\n",
    "        \n",
    "        multiple_sentences = encoded_sentence.view(1, -1).expand(options_proj.shape[0], options_proj.shape[1])\n",
    "        \n",
    "        sel_scores = sel_model.mix_mlp(\n",
    "            torch.cat([multiple_sentences, options_proj, torch.mul(multiple_sentences, options_proj)], dim=1)\n",
    "        ).view(1, -1)\n",
    "        \n",
    "        agg_scores = self.agg_mlp(sent_rnn_out[-1]).view(1, -1)\n",
    "        \n",
    "        return sel_scores, agg_scores"
   ]
  },
  {
   "cell_type": "code",
   "execution_count": 769,
   "metadata": {
    "collapsed": true
   },
   "outputs": [],
   "source": [
    "class ToyChooser(nn.Module):\n",
    "    def __init__(self, hidden_size=64, vocab_size=14, embedding_dim=32, proj_size=128, agg_size=5):\n",
    "        super().__init__()\n",
    "        RNN = nn.LSTM\n",
    "        self.embeddings = nn.Embedding(vocab_size, embedding_dim)\n",
    "        self.sent_rnn = RNN(embedding_dim, hidden_size, bidirectional=True)\n",
    "        self.sent_proj = nn.Linear(hidden_size * 2, proj_size)\n",
    "        \n",
    "        self.option_rnn = RNN(embedding_dim, hidden_size, bidirectional=True) # self.sent_rnn #\n",
    "        self.option_proj = nn.Linear(hidden_size * 2, proj_size)\n",
    "        \n",
    "        self.mix_mlp = nn.Sequential(\n",
    "            nn.Linear(3 * proj_size, proj_size), \n",
    "            nn.LeakyReLU(), \n",
    "            nn.Linear(proj_size, 1),             \n",
    "        )\n",
    "        \n",
    "        self.agg_mlp = nn.Sequential(\n",
    "            #nn.Linear(hidden_size * 2, hidden_size),\n",
    "            #nn.LeakyReLU(), \n",
    "            nn.Linear(hidden_size, agg_size),   \n",
    "        )\n",
    "\n",
    "    def embed_multiple_sentences(self, inputs, embeddings_, rnn_, proj_):\n",
    "        padded_options, options_lengths = do_pad(inputs)\n",
    "        wemb = embeddings_(padded_options)\n",
    "        wemb_packed = torch.nn.utils.rnn.pack_padded_sequence(wemb, options_lengths, batch_first=True, enforce_sorted=False)\n",
    "        rnn_o, rnn_h = rnn_(wemb_packed)\n",
    "        rnn_o_unp, _ = torch.nn.utils.rnn.pad_packed_sequence(rnn_o, batch_first=True)\n",
    "        \n",
    "        end_idx = (options_lengths-1).view(-1, 1).expand(len(options_lengths), rnn_o_unp.size(2)).unsqueeze(1)\n",
    "        rnn_o_last = torch.gather(rnn_o_unp, 1, end_idx)\n",
    "\n",
    "        result = proj_(rnn_o_last)[:, 0, :]\n",
    "        return result\n",
    "\n",
    "    def forward(self, sentences, options):\n",
    "        embedded_options = self.embed_multiple_sentences(\n",
    "            options, \n",
    "            embeddings_ = self.embeddings,\n",
    "            rnn_ = self.option_rnn,\n",
    "            proj_ = self.option_proj\n",
    "        )\n",
    "        embedded_sentences = self.embed_multiple_sentences(\n",
    "            sentences, \n",
    "            embeddings_ = self.embeddings,\n",
    "            rnn_ = self.sent_rnn,\n",
    "            proj_ = self.sent_proj\n",
    "        )\n",
    "        sh1 = embedded_options.shape\n",
    "        sh2 = embedded_sentences.shape\n",
    "        options_expandeds = embedded_options.view(sh1[0], 1, sh1[1]).expand(sh1[0], sh2[0], sh1[1])\n",
    "        sentences_expanded = embedded_sentences.view(1, sh2[0], sh1[1]).expand(sh1[0], sh2[0], sh1[1])\n",
    "        \n",
    "        sel_scores = self.mix_mlp(\n",
    "            torch.cat([options_expandeds, sentences_expanded, torch.mul(options_expandeds, sentences_expanded)], dim=2)\n",
    "        )[:, :, 0]\n",
    "        sel_scores = torch.transpose(sel_scores, 0, 1)\n",
    "        \n",
    "        agg_scores = self.agg_mlp(embedded_sentences)\n",
    "        \n",
    "        return sel_scores, agg_scores"
   ]
  },
  {
   "cell_type": "code",
   "execution_count": 774,
   "metadata": {
    "collapsed": true
   },
   "outputs": [],
   "source": [
    "sel_model = ToyChooser(\n",
    "    vocab_size=bpe.vocab_size(), \n",
    "    embedding_dim=128, \n",
    "    hidden_size=128, \n",
    "    proj_size=128,\n",
    "    agg_size=len(set(y_list)),\n",
    ")\n",
    "if torch.cuda.is_available():\n",
    "    sel_model.cuda()"
   ]
  },
  {
   "cell_type": "code",
   "execution_count": 775,
   "metadata": {
    "collapsed": true
   },
   "outputs": [],
   "source": [
    "sel_optimizer = torch.optim.Adam(sel_model.parameters(), lr=3e-3)\n",
    "sel_loss = nn.CrossEntropyLoss(reduction='sum')\n",
    "agg_loss = nn.CrossEntropyLoss(reduction='sum')"
   ]
  },
  {
   "cell_type": "code",
   "execution_count": 653,
   "metadata": {
    "collapsed": true
   },
   "outputs": [],
   "source": [
    "PRINT_EVERY = 10\n",
    "EPOCHS = 100"
   ]
  },
  {
   "cell_type": "markdown",
   "metadata": {},
   "source": [
    "На самом деле, одна и та же схема может быть у кучи таблиц. А это значит, в рамках одного батча мы можем обработать много запросов, и только одну схему. Это ускорит примерно всё)"
   ]
  },
  {
   "cell_type": "code",
   "execution_count": 622,
   "metadata": {},
   "outputs": [],
   "source": [
    "from collections import defaultdict\n",
    "\n",
    "table2schema = {k: tuple(v['header']) for k, v in id2table.items()}\n",
    "#schema2id = {s: i for i, s in enumerate(sorted(set(table2schema.values())))}\n",
    "schema2ids = defaultdict(list)\n",
    "for i, table_id in enumerate(table_ids_list):\n",
    "    schema2ids[table2schema[table_id]].append(i)\n",
    "    \n",
    "def make_batch_indices(schema2ids, max_batch_size=32):\n",
    "    batch_indices = []\n",
    "    for schema, indices in schema2ids.items():\n",
    "        random.shuffle(indices)\n",
    "        for i in range(0, len(indices), max_batch_size):\n",
    "            batch_indices.append(indices[i:(i+max_batch_size)])\n",
    "    random.shuffle(batch_indices)\n",
    "    return batch_indices"
   ]
  },
  {
   "cell_type": "code",
   "execution_count": 633,
   "metadata": {
    "collapsed": true
   },
   "outputs": [],
   "source": [
    "batch_indices = make_batch_indices(schema2ids)\n",
    "len(batch_indices)"
   ]
  },
  {
   "cell_type": "code",
   "execution_count": 635,
   "metadata": {},
   "outputs": [
    {
     "data": {
      "text/plain": [
       "Counter({1: 916,\n",
       "         2: 1095,\n",
       "         3: 1178,\n",
       "         4: 1141,\n",
       "         5: 997,\n",
       "         6: 829,\n",
       "         7: 173,\n",
       "         8: 155,\n",
       "         9: 146,\n",
       "         10: 115,\n",
       "         11: 94,\n",
       "         12: 75,\n",
       "         13: 48,\n",
       "         14: 47,\n",
       "         15: 49,\n",
       "         16: 44,\n",
       "         17: 39,\n",
       "         18: 22,\n",
       "         19: 31,\n",
       "         20: 27,\n",
       "         21: 16,\n",
       "         22: 29,\n",
       "         23: 18,\n",
       "         24: 13,\n",
       "         25: 14,\n",
       "         26: 13,\n",
       "         27: 24,\n",
       "         28: 13,\n",
       "         29: 15,\n",
       "         30: 16,\n",
       "         31: 17,\n",
       "         32: 581})"
      ]
     },
     "execution_count": 635,
     "metadata": {},
     "output_type": "execute_result"
    }
   ],
   "source": [
    "Counter(len(b) for b in batch_indices)"
   ]
  },
  {
   "cell_type": "code",
   "execution_count": 776,
   "metadata": {},
   "outputs": [
    {
     "data": {
      "application/vnd.jupyter.widget-view+json": {
       "model_id": "04cf4a53d3cc41bc9084614d22d9b0c0"
      }
     },
     "metadata": {},
     "output_type": "display_data"
    },
    {
     "name": "stdout",
     "output_type": "stream",
     "text": [
      "10.97  0.1 ; 10.58  0.0\n",
      "20.62  0.1 ; 31.11  0.0\n",
      "6.784  0.2 ; 3.583  0.0\n",
      "13.48  0.0 ; 5.344  0.0\n"
     ]
    },
    {
     "ename": "KeyboardInterrupt",
     "evalue": "",
     "output_type": "error",
     "traceback": [
      "\u001b[1;31m---------------------------------------------------------------------------\u001b[0m",
      "\u001b[1;31mKeyboardInterrupt\u001b[0m                         Traceback (most recent call last)",
      "\u001b[1;32m<ipython-input-776-63975ecac871>\u001b[0m in \u001b[0;36m<module>\u001b[1;34m()\u001b[0m\n\u001b[0;32m     20\u001b[0m         \u001b[0mtotal_loss\u001b[0m\u001b[1;33m.\u001b[0m\u001b[0mbackward\u001b[0m\u001b[1;33m(\u001b[0m\u001b[1;33m)\u001b[0m\u001b[1;33m\u001b[0m\u001b[0m\n\u001b[0;32m     21\u001b[0m         \u001b[0mtorch\u001b[0m\u001b[1;33m.\u001b[0m\u001b[0mnn\u001b[0m\u001b[1;33m.\u001b[0m\u001b[0mutils\u001b[0m\u001b[1;33m.\u001b[0m\u001b[0mclip_grad_norm_\u001b[0m\u001b[1;33m(\u001b[0m\u001b[0msel_model\u001b[0m\u001b[1;33m.\u001b[0m\u001b[0mparameters\u001b[0m\u001b[1;33m(\u001b[0m\u001b[1;33m)\u001b[0m\u001b[1;33m,\u001b[0m \u001b[1;36m10.0\u001b[0m\u001b[1;33m)\u001b[0m\u001b[1;33m\u001b[0m\u001b[0m\n\u001b[1;32m---> 22\u001b[1;33m         \u001b[0msel_optimizer\u001b[0m\u001b[1;33m.\u001b[0m\u001b[0mstep\u001b[0m\u001b[1;33m(\u001b[0m\u001b[1;33m)\u001b[0m\u001b[1;33m\u001b[0m\u001b[0m\n\u001b[0m\u001b[0;32m     23\u001b[0m \u001b[1;33m\u001b[0m\u001b[0m\n\u001b[0;32m     24\u001b[0m         \u001b[0mit\u001b[0m \u001b[1;33m+=\u001b[0m \u001b[1;36m1\u001b[0m\u001b[1;33m\u001b[0m\u001b[0m\n",
      "\u001b[1;32mC:\\Users\\ddale\\AppData\\Local\\Continuum\\Anaconda3\\lib\\site-packages\\torch\\optim\\adam.py\u001b[0m in \u001b[0;36mstep\u001b[1;34m(self, closure)\u001b[0m\n\u001b[0;32m     99\u001b[0m                     \u001b[0mdenom\u001b[0m \u001b[1;33m=\u001b[0m \u001b[0mmax_exp_avg_sq\u001b[0m\u001b[1;33m.\u001b[0m\u001b[0msqrt\u001b[0m\u001b[1;33m(\u001b[0m\u001b[1;33m)\u001b[0m\u001b[1;33m.\u001b[0m\u001b[0madd_\u001b[0m\u001b[1;33m(\u001b[0m\u001b[0mgroup\u001b[0m\u001b[1;33m[\u001b[0m\u001b[1;34m'eps'\u001b[0m\u001b[1;33m]\u001b[0m\u001b[1;33m)\u001b[0m\u001b[1;33m\u001b[0m\u001b[0m\n\u001b[0;32m    100\u001b[0m                 \u001b[1;32melse\u001b[0m\u001b[1;33m:\u001b[0m\u001b[1;33m\u001b[0m\u001b[0m\n\u001b[1;32m--> 101\u001b[1;33m                     \u001b[0mdenom\u001b[0m \u001b[1;33m=\u001b[0m \u001b[0mexp_avg_sq\u001b[0m\u001b[1;33m.\u001b[0m\u001b[0msqrt\u001b[0m\u001b[1;33m(\u001b[0m\u001b[1;33m)\u001b[0m\u001b[1;33m.\u001b[0m\u001b[0madd_\u001b[0m\u001b[1;33m(\u001b[0m\u001b[0mgroup\u001b[0m\u001b[1;33m[\u001b[0m\u001b[1;34m'eps'\u001b[0m\u001b[1;33m]\u001b[0m\u001b[1;33m)\u001b[0m\u001b[1;33m\u001b[0m\u001b[0m\n\u001b[0m\u001b[0;32m    102\u001b[0m \u001b[1;33m\u001b[0m\u001b[0m\n\u001b[0;32m    103\u001b[0m                 \u001b[0mbias_correction1\u001b[0m \u001b[1;33m=\u001b[0m \u001b[1;36m1\u001b[0m \u001b[1;33m-\u001b[0m \u001b[0mbeta1\u001b[0m \u001b[1;33m**\u001b[0m \u001b[0mstate\u001b[0m\u001b[1;33m[\u001b[0m\u001b[1;34m'step'\u001b[0m\u001b[1;33m]\u001b[0m\u001b[1;33m\u001b[0m\u001b[0m\n",
      "\u001b[1;31mKeyboardInterrupt\u001b[0m: "
     ]
    }
   ],
   "source": [
    "for epoch in range(EPOCHS):\n",
    "    it = 0\n",
    "    tot1, act1, tot2, act2 = 0, 0, 0, 0\n",
    "\n",
    "    batch_indices = make_batch_indices(schema2ids, max_batch_size=32)\n",
    "    \n",
    "    for batch in tqdm(batch_indices):\n",
    "        x = [X_token[idx] for idx in batch]\n",
    "        options = [op for op in id2table[table_ids_list[batch[0]]]['header_bpe']]\n",
    "        agg_y = to_cuda(torch.tensor([y_list[idx] for idx in batch]))\n",
    "        sel_y = to_cuda(torch.tensor([y_sel_list[idx] for idx in batch]))\n",
    "        \n",
    "        sel_optimizer.zero_grad()\n",
    "        # model.hidden = model.init_hidden()\n",
    "        sel_scores, agg_scores = sel_model(x, options)\n",
    "        l1 = sel_loss(sel_scores, sel_y)\n",
    "        l2 = agg_loss(agg_scores, agg_y)\n",
    "        total_loss = l1 + l2\n",
    "        \n",
    "        total_loss.backward()\n",
    "        torch.nn.utils.clip_grad_norm_(sel_model.parameters(), 10.0)\n",
    "        sel_optimizer.step()\n",
    "        \n",
    "        it += 1\n",
    "        tot1 += l1.item()\n",
    "        act1 += (sel_scores.detach().cpu().numpy().argmax() == y_sel_list[idx])\n",
    "        \n",
    "        tot2 += l2.item()\n",
    "        act2 += (agg_scores.detach().cpu().numpy().argmax() == y_list[idx])\n",
    "        if it == PRINT_EVERY:\n",
    "            print('{:4.4} {:4.4} ; {:4.4} {:4.4}'.format(tot1/it, act1/it, tot2/it, act2/it))\n",
    "            it = 0\n",
    "            tot1, act1, tot2, act2 = 0, 0, 0, 0"
   ]
  },
  {
   "cell_type": "code",
   "execution_count": null,
   "metadata": {
    "collapsed": true
   },
   "outputs": [],
   "source": []
  }
 ],
 "metadata": {
  "kernelspec": {
   "display_name": "Python 3",
   "language": "python",
   "name": "python3"
  },
  "language_info": {
   "codemirror_mode": {
    "name": "ipython",
    "version": 3
   },
   "file_extension": ".py",
   "mimetype": "text/x-python",
   "name": "python",
   "nbconvert_exporter": "python",
   "pygments_lexer": "ipython3",
   "version": "3.6.1"
  }
 },
 "nbformat": 4,
 "nbformat_minor": 2
}
