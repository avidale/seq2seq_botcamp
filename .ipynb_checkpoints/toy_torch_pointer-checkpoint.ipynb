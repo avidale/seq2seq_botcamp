{
 "cells": [
  {
   "cell_type": "code",
   "execution_count": 1,
   "metadata": {
    "collapsed": true
   },
   "outputs": [],
   "source": [
    "import torch\n",
    "import torch.nn as nn\n",
    "import torch.nn.functional as F"
   ]
  },
  {
   "cell_type": "code",
   "execution_count": null,
   "metadata": {
    "collapsed": true
   },
   "outputs": [],
   "source": []
  },
  {
   "cell_type": "markdown",
   "metadata": {},
   "source": [
    "В качестве тренировки делаю сетку, которая кодирует входную последовательность $x$ и последовательности $y_1...y_k$, и выбирает такой из игреков, представление которого было бы максимально похоже на представление $x$. "
   ]
  },
  {
   "cell_type": "code",
   "execution_count": 311,
   "metadata": {
    "collapsed": true
   },
   "outputs": [],
   "source": [
    "class ToyChooser(nn.Module):\n",
    "    def __init__(self, hidden_size=64, vocab_size=14, embedding_dim=32, proj_size=128):\n",
    "        super().__init__()\n",
    "        RNN = nn.LSTM\n",
    "        self.embeddings = nn.Embedding(vocab_size, embedding_dim)\n",
    "        self.sent_rnn = RNN(embedding_dim, hidden_size, bidirectional=True)\n",
    "        self.sent_proj = nn.Linear(hidden_size * 2, proj_size)\n",
    "        \n",
    "        self.option_rnn = RNN(embedding_dim, hidden_size, bidirectional=True)\n",
    "        self.option_proj = nn.Linear(hidden_size * 2, proj_size)\n",
    "        \n",
    "        self.mix_mlp = nn.Sequential(\n",
    "            nn.Linear(3 * proj_size, proj_size), \n",
    "            nn.ReLU(), \n",
    "            nn.Linear(proj_size, 1),             \n",
    "        )\n",
    "    \n",
    "    def forward(self, sentence, options):\n",
    "        batch_size = 1\n",
    "        sent_len = sentence.shape[0]\n",
    "        x = self.embeddings(sentence).view(sent_len, batch_size,  -1)\n",
    "        sent_rnn_out, _ = self.sent_rnn(x)\n",
    "        encoded_sentence = self.sent_proj(sent_rnn_out[-1])[0]\n",
    "        \n",
    "        dots = []\n",
    "        for option in options:\n",
    "            z = self.embeddings(option).view(option.shape[0], batch_size,  -1)\n",
    "            opt_rnn_out, _ = self.option_rnn(z)\n",
    "            encoded_option = self.option_proj(opt_rnn_out[-1])[0]\n",
    "            #dots.append(torch.cosine_similarity(encoded_sentence, encoded_option, dim=0))\n",
    "            dots.append(self.mix_mlp(\n",
    "                torch.cat([encoded_sentence, encoded_option, torch.mul(encoded_sentence, encoded_option)])\n",
    "            ))\n",
    "        \n",
    "        return torch.stack(dots).view(1, -1)"
   ]
  },
  {
   "cell_type": "code",
   "execution_count": 312,
   "metadata": {},
   "outputs": [
    {
     "data": {
      "text/plain": [
       "torch.Size([1, 3, 32])"
      ]
     },
     "execution_count": 312,
     "metadata": {},
     "output_type": "execute_result"
    }
   ],
   "source": [
    "model = ToyChooser()\n",
    "xx = torch.tensor([1, 2, 3])\n",
    "model.embeddings(xx).view(1, 3,  -1).shape"
   ]
  },
  {
   "cell_type": "code",
   "execution_count": 313,
   "metadata": {},
   "outputs": [
    {
     "data": {
      "text/plain": [
       "tensor([[ 0.0029, -0.0004, -0.0159]], grad_fn=<ViewBackward>)"
      ]
     },
     "execution_count": 313,
     "metadata": {},
     "output_type": "execute_result"
    }
   ],
   "source": [
    "model(torch.tensor([1, 2, 3]), torch.tensor([[1,2],[3,4],[5,6]]))"
   ]
  },
  {
   "cell_type": "markdown",
   "metadata": {},
   "source": [
    "Для начала научу мою модельку выбирать из четырехзначных чисел такое, которое давало бы 10000 в сумме с моим числом. \n",
    "\n",
    "Учится очень быстро (хотя числа написаны цифрами)!"
   ]
  },
  {
   "cell_type": "code",
   "execution_count": 314,
   "metadata": {},
   "outputs": [],
   "source": [
    "import math\n",
    "import random\n",
    "\n",
    "def to_digits(number, max_len=2, pad=11, first=12, last=13):\n",
    "    digits = [int(x) for x in str(number)]\n",
    "    while len(digits) < max_len:\n",
    "        digits.append(pad)\n",
    "    return torch.tensor([first] + digits + [last])\n",
    "\n",
    "def make_example(min_options=2, max_options=5, total=99):\n",
    "    x = random.randint(0, total)\n",
    "    y = total - x\n",
    "    n_options = random.randint(min_options, max_options)\n",
    "    options = [y] + [random.randint(0, total) for i in range(n_options - 1)]\n",
    "    options = [to_digits(z) for z in options]\n",
    "    return to_digits(x), options, torch.tensor([0]) #torch.tensor([1] + [0] * (n_options - 1))"
   ]
  },
  {
   "cell_type": "code",
   "execution_count": 315,
   "metadata": {},
   "outputs": [
    {
     "data": {
      "text/plain": [
       "(tensor([12,  5,  6, 13]),\n",
       " [tensor([12,  4,  3, 13]),\n",
       "  tensor([12,  5,  0, 13]),\n",
       "  tensor([12,  6,  0, 13]),\n",
       "  tensor([12,  7,  5, 13]),\n",
       "  tensor([12,  5,  5, 13])],\n",
       " tensor([0]))"
      ]
     },
     "execution_count": 315,
     "metadata": {},
     "output_type": "execute_result"
    }
   ],
   "source": [
    "e = make_example()\n",
    "e"
   ]
  },
  {
   "cell_type": "code",
   "execution_count": 316,
   "metadata": {},
   "outputs": [
    {
     "data": {
      "text/plain": [
       "tensor([[0.0017, 0.0016, 0.0017, 0.0065, 0.0048]], grad_fn=<ViewBackward>)"
      ]
     },
     "execution_count": 316,
     "metadata": {},
     "output_type": "execute_result"
    }
   ],
   "source": [
    "scores = model(e[0], e[1])\n",
    "scores"
   ]
  },
  {
   "cell_type": "code",
   "execution_count": 317,
   "metadata": {
    "collapsed": true
   },
   "outputs": [],
   "source": [
    "optimizer = torch.optim.Adam(model.parameters(), lr=1e-4)\n",
    "loss_function = nn.CrossEntropyLoss()"
   ]
  },
  {
   "cell_type": "code",
   "execution_count": 318,
   "metadata": {},
   "outputs": [
    {
     "data": {
      "text/plain": [
       "tensor(1.6110, grad_fn=<NllLossBackward>)"
      ]
     },
     "execution_count": 318,
     "metadata": {},
     "output_type": "execute_result"
    }
   ],
   "source": [
    "loss_function(scores, torch.tensor([0]))"
   ]
  },
  {
   "cell_type": "code",
   "execution_count": 319,
   "metadata": {
    "collapsed": true
   },
   "outputs": [],
   "source": [
    "from tqdm.auto import tqdm, trange"
   ]
  },
  {
   "cell_type": "markdown",
   "metadata": {},
   "source": [
    "Моделька учится быстро и для двухзначных, и для четырехзначных чисел, хотя для четырехзначных точность довольно долго не уходит в 100%. Видимо, сначала моделька долго хитрит и использует только самые правые цифры, что иногда её подводит.\n",
    "\n",
    "Если увеличить число негативов, перформанс должен вырасти, правда, сравнивать точность надо на батчах с одним и тем же числом негативов, это немножко влом. \n",
    "\n",
    "Если сравнивать не косинусную близость, а просто скоры какой-то линейной сетки, то лосс падает быстрее, но, кажется, точность увеличивается не столь драматично. "
   ]
  },
  {
   "cell_type": "code",
   "execution_count": null,
   "metadata": {
    "scrolled": true
   },
   "outputs": [
    {
     "name": "stdout",
     "output_type": "stream",
     "text": [
      "1.6614759707450866 0.24\n",
      "1.634102051258087 0.24\n",
      "1.5723759251832963 0.31\n",
      "1.7400313067436217 0.18\n",
      "1.6802177959680558 0.32\n",
      "1.6985097455978393 0.24\n",
      "1.662938764989376 0.38\n",
      "1.5224317863583565 0.41\n",
      "1.3504438127577305 0.44\n",
      "1.4217103799432516 0.37\n",
      "1.2234585885703564 0.48\n",
      "1.2366839483380319 0.52\n",
      "1.2160616513341664 0.46\n",
      "1.1003608202934265 0.53\n",
      "1.193991044908762 0.47\n",
      "1.2419703048840165 0.42\n",
      "1.2331376573443413 0.46\n",
      "1.043958390802145 0.54\n",
      "0.9433853587508202 0.69\n",
      "1.0662803326547146 0.51\n",
      "0.979734089076519 0.57\n",
      "1.0102749851346016 0.62\n",
      "0.8806971794366837 0.6\n",
      "1.0090315720438958 0.47\n",
      "0.8644226782768965 0.64\n",
      "0.778478505462408 0.69\n",
      "0.9891277623176574 0.53\n",
      "0.7563565759360791 0.68\n",
      "0.8256659710779786 0.7\n",
      "0.7579698949865997 0.7\n",
      "0.7355959390848875 0.71\n",
      "0.6647576451301574 0.71\n",
      "0.6935728798806667 0.74\n",
      "0.6241904323734343 0.72\n",
      "0.546978209093213 0.82\n",
      "0.6503750317916274 0.7\n",
      "0.6467741395905614 0.74\n",
      "0.5058990646898747 0.83\n",
      "0.5330786092020571 0.8\n",
      "0.5610172071307897 0.83\n",
      "0.5579916348308325 0.78\n",
      "0.48965762527659534 0.87\n",
      "0.4454145446792245 0.86\n",
      "0.4719668599963188 0.84\n",
      "0.42631530940532686 0.87\n",
      "0.4205147548019886 0.87\n",
      "0.45178211154416203 0.84\n",
      "0.42432559724897145 0.83\n",
      "0.3943892144039273 0.83\n",
      "0.3681613552570343 0.89\n",
      "0.4185780434310436 0.88\n",
      "0.3568871132284403 0.91\n",
      "0.370910902954638 0.86\n",
      "0.2937133708037436 0.92\n",
      "0.39385643392801284 0.84\n",
      "0.3503700375184417 0.82\n"
     ]
    }
   ],
   "source": [
    "PRINT_EVERY = 100\n",
    "\n",
    "it = 0\n",
    "tot = 0\n",
    "act = 0\n",
    "\n",
    "while True:\n",
    "    x, z, y = make_example(total=10000, max_options=10)\n",
    "\n",
    "    optimizer.zero_grad()\n",
    "    scores = model(x, z)\n",
    "    l = loss_function(scores, y)\n",
    "    l.backward()\n",
    "    optimizer.step()\n",
    "\n",
    "    it += 1\n",
    "    tot += l.item()\n",
    "    act += (scores.detach().numpy().argmax() == 0)\n",
    "    if it == PRINT_EVERY:\n",
    "        print(tot/it, act/it)\n",
    "        it = 0\n",
    "        tot = 0\n",
    "        act = 0"
   ]
  },
  {
   "cell_type": "code",
   "execution_count": 321,
   "metadata": {},
   "outputs": [
    {
     "name": "stdout",
     "output_type": "stream",
     "text": [
      "ToyChooser(\n",
      "  (embeddings): Embedding(14, 32)\n",
      "  (sent_rnn): LSTM(32, 64, bidirectional=True)\n",
      "  (sent_proj): Linear(in_features=128, out_features=128, bias=True)\n",
      "  (option_rnn): LSTM(32, 64, bidirectional=True)\n",
      "  (option_proj): Linear(in_features=128, out_features=128, bias=True)\n",
      "  (mix_mlp): Sequential(\n",
      "    (0): Linear(in_features=256, out_features=256, bias=True)\n",
      "    (1): ReLU()\n",
      "    (2): Linear(in_features=256, out_features=1, bias=True)\n",
      "  )\n",
      ")\n"
     ]
    }
   ],
   "source": [
    "print(model)"
   ]
  },
  {
   "cell_type": "code",
   "execution_count": null,
   "metadata": {
    "collapsed": true
   },
   "outputs": [],
   "source": []
  }
 ],
 "metadata": {
  "kernelspec": {
   "display_name": "Python 3",
   "language": "python",
   "name": "python3"
  },
  "language_info": {
   "codemirror_mode": {
    "name": "ipython",
    "version": 3
   },
   "file_extension": ".py",
   "mimetype": "text/x-python",
   "name": "python",
   "nbconvert_exporter": "python",
   "pygments_lexer": "ipython3",
   "version": "3.6.1"
  }
 },
 "nbformat": 4,
 "nbformat_minor": 2
}
